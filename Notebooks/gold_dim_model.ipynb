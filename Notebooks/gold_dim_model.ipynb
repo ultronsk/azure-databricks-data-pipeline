{
 "cells": [
  {
   "cell_type": "code",
   "execution_count": 0,
   "metadata": {
    "application/vnd.databricks.v1+cell": {
     "cellMetadata": {
      "byteLimit": 2048000,
      "rowLimit": 10000
     },
     "inputWidgets": {},
     "nuid": "0c39df06-672a-4ac1-acf5-028a5966052b",
     "showTitle": false,
     "tableResultSettingsMap": {},
     "title": ""
    }
   },
   "outputs": [],
   "source": [
    " from pyspark.sql.functions import *\n",
    " from pyspark.sql.types import *"
   ]
  },
  {
   "cell_type": "markdown",
   "metadata": {
    "application/vnd.databricks.v1+cell": {
     "cellMetadata": {
      "byteLimit": 2048000,
      "rowLimit": 10000
     },
     "inputWidgets": {},
     "nuid": "cec9b088-c9d4-48ff-a59d-3cda90a82565",
     "showTitle": false,
     "tableResultSettingsMap": {},
     "title": ""
    }
   },
   "source": [
    "# CREATE FLAG PARAMETER"
   ]
  },
  {
   "cell_type": "code",
   "execution_count": 0,
   "metadata": {
    "application/vnd.databricks.v1+cell": {
     "cellMetadata": {
      "byteLimit": 2048000,
      "rowLimit": 10000
     },
     "inputWidgets": {},
     "nuid": "b969423c-84f5-4f1c-8021-a25fe177fdd5",
     "showTitle": false,
     "tableResultSettingsMap": {},
     "title": ""
    }
   },
   "outputs": [],
   "source": [
    "dbutils.widgets.text(\"incremental_flag\",'0')"
   ]
  },
  {
   "cell_type": "code",
   "execution_count": 0,
   "metadata": {
    "application/vnd.databricks.v1+cell": {
     "cellMetadata": {
      "byteLimit": 2048000,
      "rowLimit": 10000
     },
     "inputWidgets": {},
     "nuid": "efc53a17-9a93-435b-8212-2b1d9dd3295d",
     "showTitle": false,
     "tableResultSettingsMap": {},
     "title": ""
    }
   },
   "outputs": [],
   "source": [
    "incremental_flag = dbutils.widgets.get(\"incremental_flag\")\n"
   ]
  },
  {
   "cell_type": "markdown",
   "metadata": {
    "application/vnd.databricks.v1+cell": {
     "cellMetadata": {
      "byteLimit": 2048000,
      "rowLimit": 10000
     },
     "inputWidgets": {},
     "nuid": "e19af33f-3695-403e-936a-5e57995bec78",
     "showTitle": false,
     "tableResultSettingsMap": {},
     "title": ""
    }
   },
   "source": [
    "# CREATING DIMENSION MODEL\n"
   ]
  },
  {
   "cell_type": "markdown",
   "metadata": {
    "application/vnd.databricks.v1+cell": {
     "cellMetadata": {
      "byteLimit": 2048000,
      "rowLimit": 10000
     },
     "inputWidgets": {},
     "nuid": "bc80d173-b758-4676-b45e-89227d14394d",
     "showTitle": false,
     "tableResultSettingsMap": {},
     "title": ""
    }
   },
   "source": [
    "# Fetch Relative Columns"
   ]
  },
  {
   "cell_type": "code",
   "execution_count": 0,
   "metadata": {
    "application/vnd.databricks.v1+cell": {
     "cellMetadata": {
      "byteLimit": 2048000,
      "rowLimit": 10000
     },
     "inputWidgets": {},
     "nuid": "26ab1c14-3fbf-40ef-8312-9ff48b20c087",
     "showTitle": false,
     "tableResultSettingsMap": {},
     "title": ""
    }
   },
   "outputs": [],
   "source": [
    "df_src = spark.sql('''select DISTINCT(Model_ID) as Model_ID,model_category FROM parquet.`abfss://silver@sumitdatalake.dfs.core.windows.net/carsales`\n",
    "        ''')"
   ]
  },
  {
   "cell_type": "code",
   "execution_count": 0,
   "metadata": {
    "application/vnd.databricks.v1+cell": {
     "cellMetadata": {
      "byteLimit": 2048000,
      "rowLimit": 10000
     },
     "inputWidgets": {},
     "nuid": "86dc5b37-83ee-42fa-8805-44260e39e4aa",
     "showTitle": false,
     "tableResultSettingsMap": {},
     "title": ""
    }
   },
   "outputs": [
    {
     "output_type": "display_data",
     "data": {
      "text/html": [
       "<style scoped>\n",
       "  .table-result-container {\n",
       "    max-height: 300px;\n",
       "    overflow: auto;\n",
       "  }\n",
       "  table, th, td {\n",
       "    border: 1px solid black;\n",
       "    border-collapse: collapse;\n",
       "  }\n",
       "  th, td {\n",
       "    padding: 5px;\n",
       "  }\n",
       "  th {\n",
       "    text-align: left;\n",
       "  }\n",
       "</style><div class='table-result-container'><table class='table-result'><thead style='background-color: white'><tr><th>Model_ID</th><th>model_category</th></tr></thead><tbody><tr><td>Mah-M167</td><td>Mah</td></tr><tr><td>Che-M47</td><td>Che</td></tr><tr><td>Toy-M205</td><td>Toy</td></tr><tr><td>BMW-M249</td><td>BMW</td></tr><tr><td>Mer-M122</td><td>Mer</td></tr><tr><td>Hon-M215</td><td>Hon</td></tr><tr><td>Nis-M82</td><td>Nis</td></tr><tr><td>Toy-M206</td><td>Toy</td></tr><tr><td>Mar-M139</td><td>Mar</td></tr><tr><td>Ren-M207</td><td>Ren</td></tr><tr><td>Mar-M146</td><td>Mar</td></tr><tr><td>Mar-M141</td><td>Mar</td></tr><tr><td>Lin-M28</td><td>Lin</td></tr><tr><td>Hon-M69</td><td>Hon</td></tr><tr><td>Toy-M202</td><td>Toy</td></tr><tr><td>Cad-M32</td><td>Cad</td></tr><tr><td>Tat-M185</td><td>Tat</td></tr><tr><td>Aud-M231</td><td>Aud</td></tr><tr><td>Tat-M192</td><td>Tat</td></tr><tr><td>Che-M41</td><td>Che</td></tr><tr><td>Ram-M14</td><td>Ram</td></tr><tr><td>Mar-M138</td><td>Mar</td></tr><tr><td>Aud-M236</td><td>Aud</td></tr><tr><td>Mar-M151</td><td>Mar</td></tr><tr><td>Acu-M59</td><td>Acu</td></tr><tr><td>Hon-M70</td><td>Hon</td></tr><tr><td>Mah-M174</td><td>Mah</td></tr><tr><td>Dod-M9</td><td>Dod</td></tr><tr><td>Tes-M96</td><td>Tes</td></tr><tr><td>Tat-M194</td><td>Tat</td></tr><tr><td>For-M23</td><td>For</td></tr><tr><td>BMW-M3</td><td>BMW</td></tr><tr><td>Vol-M108</td><td>Vol</td></tr><tr><td>Nis-M263</td><td>Nis</td></tr><tr><td>BMW-M250</td><td>BMW</td></tr><tr><td>Aud-M234</td><td>Aud</td></tr><tr><td>Toy-M103</td><td>Toy</td></tr><tr><td>For-M25</td><td>For</td></tr><tr><td>Ren-M129</td><td>Ren</td></tr><tr><td>Nis-M267</td><td>Nis</td></tr><tr><td>Hon-M68</td><td>Hon</td></tr><tr><td>Nis-M85</td><td>Nis</td></tr><tr><td>Hyu-M163</td><td>Hyu</td></tr><tr><td>Aud-M235</td><td>Aud</td></tr><tr><td>Lex-M99</td><td>Lex</td></tr><tr><td>Toy-M133</td><td>Toy</td></tr><tr><td>Kia-M76</td><td>Kia</td></tr><tr><td>Tat-M187</td><td>Tat</td></tr><tr><td>Jee-M10</td><td>Jee</td></tr><tr><td>Cit-M115</td><td>Cit</td></tr><tr><td>Sko-M274</td><td>Sko</td></tr><tr><td>Ren-M209</td><td>Ren</td></tr><tr><td>Hyu-M154</td><td>Hyu</td></tr><tr><td>Mer-M123</td><td>Mer</td></tr><tr><td>Mer-M7</td><td>Mer</td></tr><tr><td>Cad-M36</td><td>Cad</td></tr><tr><td>Ren-M208</td><td>Ren</td></tr><tr><td>For-M119</td><td>For</td></tr><tr><td>Hon-M67</td><td>Hon</td></tr><tr><td>Hyu-M162</td><td>Hyu</td></tr><tr><td>Toy-M203</td><td>Toy</td></tr><tr><td>Mar-M145</td><td>Mar</td></tr><tr><td>Che-M51</td><td>Che</td></tr><tr><td>Nis-M84</td><td>Nis</td></tr><tr><td>Mah-M177</td><td>Mah</td></tr><tr><td>Peu-M125</td><td>Peu</td></tr><tr><td>Toy-M198</td><td>Toy</td></tr><tr><td>Toy-M104</td><td>Toy</td></tr><tr><td>For-M16</td><td>For</td></tr><tr><td>BMW-M4</td><td>BMW</td></tr><tr><td>Nis-M88</td><td>Nis</td></tr><tr><td>Che-M114</td><td>Che</td></tr><tr><td>Aud-M233</td><td>Aud</td></tr><tr><td>Mar-M147</td><td>Mar</td></tr><tr><td>Nis-M269</td><td>Nis</td></tr><tr><td>Tes-M98</td><td>Tes</td></tr><tr><td>Acu-M60</td><td>Acu</td></tr><tr><td>Aud-M241</td><td>Aud</td></tr><tr><td>Mah-M175</td><td>Mah</td></tr><tr><td>Toy-M106</td><td>Toy</td></tr><tr><td>Hyu-M155</td><td>Hyu</td></tr><tr><td>Vol-M110</td><td>Vol</td></tr><tr><td>Mah-M171</td><td>Mah</td></tr><tr><td>Lin-M30</td><td>Lin</td></tr><tr><td>BMW-M242</td><td>BMW</td></tr><tr><td>For-M223</td><td>For</td></tr><tr><td>Ren-M127</td><td>Ren</td></tr><tr><td>Aud-M229</td><td>Aud</td></tr><tr><td>Mah-M168</td><td>Mah</td></tr><tr><td>For-M225</td><td>For</td></tr><tr><td>Aud-M232</td><td>Aud</td></tr><tr><td>Toy-M200</td><td>Toy</td></tr><tr><td>Kia-M77</td><td>Kia</td></tr><tr><td>BMW-M248</td><td>BMW</td></tr><tr><td>Hyu-M164</td><td>Hyu</td></tr><tr><td>Ren-M211</td><td>Ren</td></tr><tr><td>Mar-M149</td><td>Mar</td></tr><tr><td>GMC-M53</td><td>GMC</td></tr><tr><td>Mit-M275</td><td>Mit</td></tr><tr><td>Ren-M131</td><td>Ren</td></tr><tr><td>Tat-M186</td><td>Tat</td></tr><tr><td>Hon-M217</td><td>Hon</td></tr><tr><td>Mar-M152</td><td>Mar</td></tr><tr><td>Jee-M11</td><td>Jee</td></tr><tr><td>Vol-M135</td><td>Vol</td></tr><tr><td>Ren-M128</td><td>Ren</td></tr><tr><td>Cad-M38</td><td>Cad</td></tr><tr><td>Tat-M190</td><td>Tat</td></tr><tr><td>Hyu-M153</td><td>Hyu</td></tr><tr><td>Mer-M8</td><td>Mer</td></tr><tr><td>GMC-M55</td><td>GMC</td></tr><tr><td>Toy-M201</td><td>Toy</td></tr><tr><td>BMW-M244</td><td>BMW</td></tr><tr><td>Toy-M134</td><td>Toy</td></tr><tr><td>Agr-M111</td><td>Agr</td></tr><tr><td>Fia-M117</td><td>Fia</td></tr><tr><td>Mit-M276</td><td>Mit</td></tr><tr><td>Kia-M78</td><td>Kia</td></tr><tr><td>Aud-M230</td><td>Aud</td></tr><tr><td>Tat-M193</td><td>Tat</td></tr><tr><td>Ram-M15</td><td>Ram</td></tr><tr><td>For-M22</td><td>For</td></tr><tr><td>Acu-M62</td><td>Acu</td></tr><tr><td>Mah-M165</td><td>Mah</td></tr><tr><td>Fia-M118</td><td>Fia</td></tr><tr><td>Toy-M195</td><td>Toy</td></tr><tr><td>Che-M49</td><td>Che</td></tr><tr><td>Bui-M31</td><td>Bui</td></tr><tr><td>For-M26</td><td>For</td></tr><tr><td>Peu-M124</td><td>Peu</td></tr><tr><td>Nis-M83</td><td>Nis</td></tr><tr><td>Nis-M266</td><td>Nis</td></tr><tr><td>Mar-M142</td><td>Mar</td></tr><tr><td>For-M18</td><td>For</td></tr><tr><td>Jee-M253</td><td>Jee</td></tr><tr><td>Tat-M181</td><td>Tat</td></tr><tr><td>Hyu-M157</td><td>Hyu</td></tr><tr><td>Cad-M39</td><td>Cad</td></tr><tr><td>For-M221</td><td>For</td></tr><tr><td>Aud-M240</td><td>Aud</td></tr><tr><td>Ren-M210</td><td>Ren</td></tr><tr><td>Acu-M61</td><td>Acu</td></tr><tr><td>Toy-M102</td><td>Toy</td></tr><tr><td>Nis-M262</td><td>Nis</td></tr><tr><td>Hon-M216</td><td>Hon</td></tr><tr><td>MG-M252</td><td>MG</td></tr><tr><td>Mah-M178</td><td>Mah</td></tr><tr><td>Sub-M93</td><td>Sub</td></tr><tr><td>Kia-M213</td><td>Kia</td></tr><tr><td>Hyu-M75</td><td>Hyu</td></tr><tr><td>Mah-M170</td><td>Mah</td></tr><tr><td>Aud-M239</td><td>Aud</td></tr><tr><td>Tat-M180</td><td>Tat</td></tr><tr><td>Hyu-M74</td><td>Hyu</td></tr><tr><td>BMW-M1</td><td>BMW</td></tr><tr><td>Cad-M35</td><td>Cad</td></tr><tr><td>BMW-M246</td><td>BMW</td></tr><tr><td>Ren-M132</td><td>Ren</td></tr><tr><td>GMC-M58</td><td>GMC</td></tr><tr><td>Mar-M148</td><td>Mar</td></tr><tr><td>Hyu-M161</td><td>Hyu</td></tr><tr><td>Toy-M105</td><td>Toy</td></tr><tr><td>Aud-M228</td><td>Aud</td></tr><tr><td>Aud-M237</td><td>Aud</td></tr><tr><td>Nis-M89</td><td>Nis</td></tr><tr><td>Hyu-M72</td><td>Hyu</td></tr><tr><td>BMW-M243</td><td>BMW</td></tr><tr><td>Mar-M140</td><td>Mar</td></tr><tr><td>Toy-M196</td><td>Toy</td></tr><tr><td>Che-M42</td><td>Che</td></tr><tr><td>Tes-M97</td><td>Tes</td></tr><tr><td>Vol-M260</td><td>Vol</td></tr><tr><td>Mah-M176</td><td>Mah</td></tr><tr><td>Nis-M86</td><td>Nis</td></tr><tr><td>Hon-M64</td><td>Hon</td></tr><tr><td>MG-M251</td><td>MG</td></tr><tr><td>Mer-M121</td><td>Mer</td></tr><tr><td>Nis-M81</td><td>Nis</td></tr><tr><td>GMC-M54</td><td>GMC</td></tr><tr><td>Hon-M220</td><td>Hon</td></tr><tr><td>Che-M50</td><td>Che</td></tr><tr><td>Cad-M37</td><td>Cad</td></tr><tr><td>Hyu-M158</td><td>Hyu</td></tr><tr><td>Inf-M79</td><td>Inf</td></tr><tr><td>BMW-M2</td><td>BMW</td></tr><tr><td>GMC-M57</td><td>GMC</td></tr><tr><td>GMC-M52</td><td>GMC</td></tr><tr><td>Cit-M116</td><td>Cit</td></tr><tr><td>Mar-M144</td><td>Mar</td></tr><tr><td>For-M17</td><td>For</td></tr><tr><td>Tat-M184</td><td>Tat</td></tr><tr><td>Hyu-M159</td><td>Hyu</td></tr><tr><td>Tat-M183</td><td>Tat</td></tr><tr><td>Nis-M264</td><td>Nis</td></tr><tr><td>BMW-M5</td><td>BMW</td></tr><tr><td>Che-M43</td><td>Che</td></tr><tr><td>Mah-M169</td><td>Mah</td></tr><tr><td>Tat-M182</td><td>Tat</td></tr><tr><td>Tat-M188</td><td>Tat</td></tr><tr><td>Aud-M227</td><td>Aud</td></tr><tr><td>Mah-M166</td><td>Mah</td></tr><tr><td>Riv-M91</td><td>Riv</td></tr><tr><td>Hon-M71</td><td>Hon</td></tr><tr><td>Hyu-M73</td><td>Hyu</td></tr><tr><td>Hyu-M156</td><td>Hyu</td></tr><tr><td>Lin-M27</td><td>Lin</td></tr><tr><td>Cad-M34</td><td>Cad</td></tr><tr><td>Mar-M137</td><td>Mar</td></tr><tr><td>Mah-M173</td><td>Mah</td></tr><tr><td>Tat-M179</td><td>Tat</td></tr><tr><td>Sub-M94</td><td>Sub</td></tr><tr><td>Jee-M254</td><td>Jee</td></tr><tr><td>GMC-M56</td><td>GMC</td></tr><tr><td>Hyu-M160</td><td>Hyu</td></tr><tr><td>Vol-M109</td><td>Vol</td></tr><tr><td>Peu-M126</td><td>Peu</td></tr><tr><td>For-M222</td><td>For</td></tr><tr><td>Toy-M101</td><td>Toy</td></tr><tr><td>Kia-M214</td><td>Kia</td></tr><tr><td>Sub-M95</td><td>Sub</td></tr><tr><td>Mar-M143</td><td>Mar</td></tr><tr><td>Nis-M265</td><td>Nis</td></tr><tr><td>Hon-M65</td><td>Hon</td></tr><tr><td>Sko-M272</td><td>Sko</td></tr><tr><td>Che-M45</td><td>Che</td></tr><tr><td>Toy-M107</td><td>Toy</td></tr><tr><td>Jee-M12</td><td>Jee</td></tr><tr><td>Mit-M277</td><td>Mit</td></tr><tr><td>Hon-M66</td><td>Hon</td></tr><tr><td>Toy-M100</td><td>Toy</td></tr><tr><td>For-M19</td><td>For</td></tr><tr><td>Agr-M113</td><td>Agr</td></tr><tr><td>Toy-M204</td><td>Toy</td></tr><tr><td>Hon-M120</td><td>Hon</td></tr><tr><td>Sko-M271</td><td>Sko</td></tr><tr><td>Vol-M255</td><td>Vol</td></tr><tr><td>Toy-M199</td><td>Toy</td></tr><tr><td>Vol-M256</td><td>Vol</td></tr><tr><td>Sub-M92</td><td>Sub</td></tr><tr><td>Toy-M197</td><td>Toy</td></tr><tr><td>Mah-M172</td><td>Mah</td></tr><tr><td>Che-M48</td><td>Che</td></tr><tr><td>Nis-M87</td><td>Nis</td></tr><tr><td>Mar-M150</td><td>Mar</td></tr><tr><td>Acu-M63</td><td>Acu</td></tr><tr><td>BMW-M247</td><td>BMW</td></tr><tr><td>For-M226</td><td>For</td></tr><tr><td>Vol-M257</td><td>Vol</td></tr><tr><td>Vol-M259</td><td>Vol</td></tr><tr><td>Nis-M80</td><td>Nis</td></tr><tr><td>Kia-M212</td><td>Kia</td></tr><tr><td>Hon-M218</td><td>Hon</td></tr><tr><td>For-M24</td><td>For</td></tr><tr><td>Sko-M273</td><td>Sko</td></tr><tr><td>Lin-M29</td><td>Lin</td></tr><tr><td>Agr-M112</td><td>Agr</td></tr><tr><td>Tat-M189</td><td>Tat</td></tr><tr><td>Nis-M270</td><td>Nis</td></tr><tr><td>Riv-M90</td><td>Riv</td></tr><tr><td>Che-M44</td><td>Che</td></tr><tr><td>Aud-M238</td><td>Aud</td></tr><tr><td>Vol-M136</td><td>Vol</td></tr><tr><td>For-M21</td><td>For</td></tr><tr><td>For-M224</td><td>For</td></tr><tr><td>Che-M40</td><td>Che</td></tr><tr><td>Ren-M130</td><td>Ren</td></tr><tr><td>Hon-M219</td><td>Hon</td></tr><tr><td>Che-M46</td><td>Che</td></tr><tr><td>Mer-M6</td><td>Mer</td></tr><tr><td>Vol-M258</td><td>Vol</td></tr><tr><td>Jee-M13</td><td>Jee</td></tr><tr><td>Nis-M261</td><td>Nis</td></tr><tr><td>For-M20</td><td>For</td></tr><tr><td>Tat-M191</td><td>Tat</td></tr><tr><td>BMW-M245</td><td>BMW</td></tr><tr><td>Nis-M268</td><td>Nis</td></tr><tr><td>Cad-M33</td><td>Cad</td></tr></tbody></table></div>"
      ]
     },
     "metadata": {
      "application/vnd.databricks.v1+output": {
       "addedWidgets": {},
       "aggData": [],
       "aggError": "",
       "aggOverflow": false,
       "aggSchema": [],
       "aggSeriesLimitReached": false,
       "aggType": "",
       "arguments": {},
       "columnCustomDisplayInfos": {},
       "data": [
        [
         "Mah-M167",
         "Mah"
        ],
        [
         "Che-M47",
         "Che"
        ],
        [
         "Toy-M205",
         "Toy"
        ],
        [
         "BMW-M249",
         "BMW"
        ],
        [
         "Mer-M122",
         "Mer"
        ],
        [
         "Hon-M215",
         "Hon"
        ],
        [
         "Nis-M82",
         "Nis"
        ],
        [
         "Toy-M206",
         "Toy"
        ],
        [
         "Mar-M139",
         "Mar"
        ],
        [
         "Ren-M207",
         "Ren"
        ],
        [
         "Mar-M146",
         "Mar"
        ],
        [
         "Mar-M141",
         "Mar"
        ],
        [
         "Lin-M28",
         "Lin"
        ],
        [
         "Hon-M69",
         "Hon"
        ],
        [
         "Toy-M202",
         "Toy"
        ],
        [
         "Cad-M32",
         "Cad"
        ],
        [
         "Tat-M185",
         "Tat"
        ],
        [
         "Aud-M231",
         "Aud"
        ],
        [
         "Tat-M192",
         "Tat"
        ],
        [
         "Che-M41",
         "Che"
        ],
        [
         "Ram-M14",
         "Ram"
        ],
        [
         "Mar-M138",
         "Mar"
        ],
        [
         "Aud-M236",
         "Aud"
        ],
        [
         "Mar-M151",
         "Mar"
        ],
        [
         "Acu-M59",
         "Acu"
        ],
        [
         "Hon-M70",
         "Hon"
        ],
        [
         "Mah-M174",
         "Mah"
        ],
        [
         "Dod-M9",
         "Dod"
        ],
        [
         "Tes-M96",
         "Tes"
        ],
        [
         "Tat-M194",
         "Tat"
        ],
        [
         "For-M23",
         "For"
        ],
        [
         "BMW-M3",
         "BMW"
        ],
        [
         "Vol-M108",
         "Vol"
        ],
        [
         "Nis-M263",
         "Nis"
        ],
        [
         "BMW-M250",
         "BMW"
        ],
        [
         "Aud-M234",
         "Aud"
        ],
        [
         "Toy-M103",
         "Toy"
        ],
        [
         "For-M25",
         "For"
        ],
        [
         "Ren-M129",
         "Ren"
        ],
        [
         "Nis-M267",
         "Nis"
        ],
        [
         "Hon-M68",
         "Hon"
        ],
        [
         "Nis-M85",
         "Nis"
        ],
        [
         "Hyu-M163",
         "Hyu"
        ],
        [
         "Aud-M235",
         "Aud"
        ],
        [
         "Lex-M99",
         "Lex"
        ],
        [
         "Toy-M133",
         "Toy"
        ],
        [
         "Kia-M76",
         "Kia"
        ],
        [
         "Tat-M187",
         "Tat"
        ],
        [
         "Jee-M10",
         "Jee"
        ],
        [
         "Cit-M115",
         "Cit"
        ],
        [
         "Sko-M274",
         "Sko"
        ],
        [
         "Ren-M209",
         "Ren"
        ],
        [
         "Hyu-M154",
         "Hyu"
        ],
        [
         "Mer-M123",
         "Mer"
        ],
        [
         "Mer-M7",
         "Mer"
        ],
        [
         "Cad-M36",
         "Cad"
        ],
        [
         "Ren-M208",
         "Ren"
        ],
        [
         "For-M119",
         "For"
        ],
        [
         "Hon-M67",
         "Hon"
        ],
        [
         "Hyu-M162",
         "Hyu"
        ],
        [
         "Toy-M203",
         "Toy"
        ],
        [
         "Mar-M145",
         "Mar"
        ],
        [
         "Che-M51",
         "Che"
        ],
        [
         "Nis-M84",
         "Nis"
        ],
        [
         "Mah-M177",
         "Mah"
        ],
        [
         "Peu-M125",
         "Peu"
        ],
        [
         "Toy-M198",
         "Toy"
        ],
        [
         "Toy-M104",
         "Toy"
        ],
        [
         "For-M16",
         "For"
        ],
        [
         "BMW-M4",
         "BMW"
        ],
        [
         "Nis-M88",
         "Nis"
        ],
        [
         "Che-M114",
         "Che"
        ],
        [
         "Aud-M233",
         "Aud"
        ],
        [
         "Mar-M147",
         "Mar"
        ],
        [
         "Nis-M269",
         "Nis"
        ],
        [
         "Tes-M98",
         "Tes"
        ],
        [
         "Acu-M60",
         "Acu"
        ],
        [
         "Aud-M241",
         "Aud"
        ],
        [
         "Mah-M175",
         "Mah"
        ],
        [
         "Toy-M106",
         "Toy"
        ],
        [
         "Hyu-M155",
         "Hyu"
        ],
        [
         "Vol-M110",
         "Vol"
        ],
        [
         "Mah-M171",
         "Mah"
        ],
        [
         "Lin-M30",
         "Lin"
        ],
        [
         "BMW-M242",
         "BMW"
        ],
        [
         "For-M223",
         "For"
        ],
        [
         "Ren-M127",
         "Ren"
        ],
        [
         "Aud-M229",
         "Aud"
        ],
        [
         "Mah-M168",
         "Mah"
        ],
        [
         "For-M225",
         "For"
        ],
        [
         "Aud-M232",
         "Aud"
        ],
        [
         "Toy-M200",
         "Toy"
        ],
        [
         "Kia-M77",
         "Kia"
        ],
        [
         "BMW-M248",
         "BMW"
        ],
        [
         "Hyu-M164",
         "Hyu"
        ],
        [
         "Ren-M211",
         "Ren"
        ],
        [
         "Mar-M149",
         "Mar"
        ],
        [
         "GMC-M53",
         "GMC"
        ],
        [
         "Mit-M275",
         "Mit"
        ],
        [
         "Ren-M131",
         "Ren"
        ],
        [
         "Tat-M186",
         "Tat"
        ],
        [
         "Hon-M217",
         "Hon"
        ],
        [
         "Mar-M152",
         "Mar"
        ],
        [
         "Jee-M11",
         "Jee"
        ],
        [
         "Vol-M135",
         "Vol"
        ],
        [
         "Ren-M128",
         "Ren"
        ],
        [
         "Cad-M38",
         "Cad"
        ],
        [
         "Tat-M190",
         "Tat"
        ],
        [
         "Hyu-M153",
         "Hyu"
        ],
        [
         "Mer-M8",
         "Mer"
        ],
        [
         "GMC-M55",
         "GMC"
        ],
        [
         "Toy-M201",
         "Toy"
        ],
        [
         "BMW-M244",
         "BMW"
        ],
        [
         "Toy-M134",
         "Toy"
        ],
        [
         "Agr-M111",
         "Agr"
        ],
        [
         "Fia-M117",
         "Fia"
        ],
        [
         "Mit-M276",
         "Mit"
        ],
        [
         "Kia-M78",
         "Kia"
        ],
        [
         "Aud-M230",
         "Aud"
        ],
        [
         "Tat-M193",
         "Tat"
        ],
        [
         "Ram-M15",
         "Ram"
        ],
        [
         "For-M22",
         "For"
        ],
        [
         "Acu-M62",
         "Acu"
        ],
        [
         "Mah-M165",
         "Mah"
        ],
        [
         "Fia-M118",
         "Fia"
        ],
        [
         "Toy-M195",
         "Toy"
        ],
        [
         "Che-M49",
         "Che"
        ],
        [
         "Bui-M31",
         "Bui"
        ],
        [
         "For-M26",
         "For"
        ],
        [
         "Peu-M124",
         "Peu"
        ],
        [
         "Nis-M83",
         "Nis"
        ],
        [
         "Nis-M266",
         "Nis"
        ],
        [
         "Mar-M142",
         "Mar"
        ],
        [
         "For-M18",
         "For"
        ],
        [
         "Jee-M253",
         "Jee"
        ],
        [
         "Tat-M181",
         "Tat"
        ],
        [
         "Hyu-M157",
         "Hyu"
        ],
        [
         "Cad-M39",
         "Cad"
        ],
        [
         "For-M221",
         "For"
        ],
        [
         "Aud-M240",
         "Aud"
        ],
        [
         "Ren-M210",
         "Ren"
        ],
        [
         "Acu-M61",
         "Acu"
        ],
        [
         "Toy-M102",
         "Toy"
        ],
        [
         "Nis-M262",
         "Nis"
        ],
        [
         "Hon-M216",
         "Hon"
        ],
        [
         "MG-M252",
         "MG"
        ],
        [
         "Mah-M178",
         "Mah"
        ],
        [
         "Sub-M93",
         "Sub"
        ],
        [
         "Kia-M213",
         "Kia"
        ],
        [
         "Hyu-M75",
         "Hyu"
        ],
        [
         "Mah-M170",
         "Mah"
        ],
        [
         "Aud-M239",
         "Aud"
        ],
        [
         "Tat-M180",
         "Tat"
        ],
        [
         "Hyu-M74",
         "Hyu"
        ],
        [
         "BMW-M1",
         "BMW"
        ],
        [
         "Cad-M35",
         "Cad"
        ],
        [
         "BMW-M246",
         "BMW"
        ],
        [
         "Ren-M132",
         "Ren"
        ],
        [
         "GMC-M58",
         "GMC"
        ],
        [
         "Mar-M148",
         "Mar"
        ],
        [
         "Hyu-M161",
         "Hyu"
        ],
        [
         "Toy-M105",
         "Toy"
        ],
        [
         "Aud-M228",
         "Aud"
        ],
        [
         "Aud-M237",
         "Aud"
        ],
        [
         "Nis-M89",
         "Nis"
        ],
        [
         "Hyu-M72",
         "Hyu"
        ],
        [
         "BMW-M243",
         "BMW"
        ],
        [
         "Mar-M140",
         "Mar"
        ],
        [
         "Toy-M196",
         "Toy"
        ],
        [
         "Che-M42",
         "Che"
        ],
        [
         "Tes-M97",
         "Tes"
        ],
        [
         "Vol-M260",
         "Vol"
        ],
        [
         "Mah-M176",
         "Mah"
        ],
        [
         "Nis-M86",
         "Nis"
        ],
        [
         "Hon-M64",
         "Hon"
        ],
        [
         "MG-M251",
         "MG"
        ],
        [
         "Mer-M121",
         "Mer"
        ],
        [
         "Nis-M81",
         "Nis"
        ],
        [
         "GMC-M54",
         "GMC"
        ],
        [
         "Hon-M220",
         "Hon"
        ],
        [
         "Che-M50",
         "Che"
        ],
        [
         "Cad-M37",
         "Cad"
        ],
        [
         "Hyu-M158",
         "Hyu"
        ],
        [
         "Inf-M79",
         "Inf"
        ],
        [
         "BMW-M2",
         "BMW"
        ],
        [
         "GMC-M57",
         "GMC"
        ],
        [
         "GMC-M52",
         "GMC"
        ],
        [
         "Cit-M116",
         "Cit"
        ],
        [
         "Mar-M144",
         "Mar"
        ],
        [
         "For-M17",
         "For"
        ],
        [
         "Tat-M184",
         "Tat"
        ],
        [
         "Hyu-M159",
         "Hyu"
        ],
        [
         "Tat-M183",
         "Tat"
        ],
        [
         "Nis-M264",
         "Nis"
        ],
        [
         "BMW-M5",
         "BMW"
        ],
        [
         "Che-M43",
         "Che"
        ],
        [
         "Mah-M169",
         "Mah"
        ],
        [
         "Tat-M182",
         "Tat"
        ],
        [
         "Tat-M188",
         "Tat"
        ],
        [
         "Aud-M227",
         "Aud"
        ],
        [
         "Mah-M166",
         "Mah"
        ],
        [
         "Riv-M91",
         "Riv"
        ],
        [
         "Hon-M71",
         "Hon"
        ],
        [
         "Hyu-M73",
         "Hyu"
        ],
        [
         "Hyu-M156",
         "Hyu"
        ],
        [
         "Lin-M27",
         "Lin"
        ],
        [
         "Cad-M34",
         "Cad"
        ],
        [
         "Mar-M137",
         "Mar"
        ],
        [
         "Mah-M173",
         "Mah"
        ],
        [
         "Tat-M179",
         "Tat"
        ],
        [
         "Sub-M94",
         "Sub"
        ],
        [
         "Jee-M254",
         "Jee"
        ],
        [
         "GMC-M56",
         "GMC"
        ],
        [
         "Hyu-M160",
         "Hyu"
        ],
        [
         "Vol-M109",
         "Vol"
        ],
        [
         "Peu-M126",
         "Peu"
        ],
        [
         "For-M222",
         "For"
        ],
        [
         "Toy-M101",
         "Toy"
        ],
        [
         "Kia-M214",
         "Kia"
        ],
        [
         "Sub-M95",
         "Sub"
        ],
        [
         "Mar-M143",
         "Mar"
        ],
        [
         "Nis-M265",
         "Nis"
        ],
        [
         "Hon-M65",
         "Hon"
        ],
        [
         "Sko-M272",
         "Sko"
        ],
        [
         "Che-M45",
         "Che"
        ],
        [
         "Toy-M107",
         "Toy"
        ],
        [
         "Jee-M12",
         "Jee"
        ],
        [
         "Mit-M277",
         "Mit"
        ],
        [
         "Hon-M66",
         "Hon"
        ],
        [
         "Toy-M100",
         "Toy"
        ],
        [
         "For-M19",
         "For"
        ],
        [
         "Agr-M113",
         "Agr"
        ],
        [
         "Toy-M204",
         "Toy"
        ],
        [
         "Hon-M120",
         "Hon"
        ],
        [
         "Sko-M271",
         "Sko"
        ],
        [
         "Vol-M255",
         "Vol"
        ],
        [
         "Toy-M199",
         "Toy"
        ],
        [
         "Vol-M256",
         "Vol"
        ],
        [
         "Sub-M92",
         "Sub"
        ],
        [
         "Toy-M197",
         "Toy"
        ],
        [
         "Mah-M172",
         "Mah"
        ],
        [
         "Che-M48",
         "Che"
        ],
        [
         "Nis-M87",
         "Nis"
        ],
        [
         "Mar-M150",
         "Mar"
        ],
        [
         "Acu-M63",
         "Acu"
        ],
        [
         "BMW-M247",
         "BMW"
        ],
        [
         "For-M226",
         "For"
        ],
        [
         "Vol-M257",
         "Vol"
        ],
        [
         "Vol-M259",
         "Vol"
        ],
        [
         "Nis-M80",
         "Nis"
        ],
        [
         "Kia-M212",
         "Kia"
        ],
        [
         "Hon-M218",
         "Hon"
        ],
        [
         "For-M24",
         "For"
        ],
        [
         "Sko-M273",
         "Sko"
        ],
        [
         "Lin-M29",
         "Lin"
        ],
        [
         "Agr-M112",
         "Agr"
        ],
        [
         "Tat-M189",
         "Tat"
        ],
        [
         "Nis-M270",
         "Nis"
        ],
        [
         "Riv-M90",
         "Riv"
        ],
        [
         "Che-M44",
         "Che"
        ],
        [
         "Aud-M238",
         "Aud"
        ],
        [
         "Vol-M136",
         "Vol"
        ],
        [
         "For-M21",
         "For"
        ],
        [
         "For-M224",
         "For"
        ],
        [
         "Che-M40",
         "Che"
        ],
        [
         "Ren-M130",
         "Ren"
        ],
        [
         "Hon-M219",
         "Hon"
        ],
        [
         "Che-M46",
         "Che"
        ],
        [
         "Mer-M6",
         "Mer"
        ],
        [
         "Vol-M258",
         "Vol"
        ],
        [
         "Jee-M13",
         "Jee"
        ],
        [
         "Nis-M261",
         "Nis"
        ],
        [
         "For-M20",
         "For"
        ],
        [
         "Tat-M191",
         "Tat"
        ],
        [
         "BMW-M245",
         "BMW"
        ],
        [
         "Nis-M268",
         "Nis"
        ],
        [
         "Cad-M33",
         "Cad"
        ]
       ],
       "datasetInfos": [],
       "dbfsResultPath": null,
       "isJsonSchema": true,
       "metadata": {},
       "overflow": false,
       "plotOptions": {
        "customPlotOptions": {},
        "displayType": "table",
        "pivotAggregation": null,
        "pivotColumns": null,
        "xColumns": null,
        "yColumns": null
       },
       "removedWidgets": [],
       "schema": [
        {
         "metadata": "{}",
         "name": "Model_ID",
         "type": "\"string\""
        },
        {
         "metadata": "{}",
         "name": "model_category",
         "type": "\"string\""
        }
       ],
       "type": "table"
      }
     },
     "output_type": "display_data"
    }
   ],
   "source": [
    "df_src.display()"
   ]
  },
  {
   "cell_type": "markdown",
   "metadata": {
    "application/vnd.databricks.v1+cell": {
     "cellMetadata": {
      "byteLimit": 2048000,
      "rowLimit": 10000
     },
     "inputWidgets": {},
     "nuid": "46237be8-87c1-4f21-926a-4f86f6203e38",
     "showTitle": false,
     "tableResultSettingsMap": {},
     "title": ""
    }
   },
   "source": [
    "### Now our source is ready now we need to create a surrogate key as well. So for initial load, we are initially only loading schema. \n"
   ]
  },
  {
   "cell_type": "code",
   "execution_count": 0,
   "metadata": {
    "application/vnd.databricks.v1+cell": {
     "cellMetadata": {
      "byteLimit": 2048000,
      "rowLimit": 10000
     },
     "inputWidgets": {},
     "nuid": "057015c9-f8a6-4974-8e8e-cad934b2f870",
     "showTitle": false,
     "tableResultSettingsMap": {},
     "title": ""
    }
   },
   "outputs": [],
   "source": [
    "# This is for initial load and incremental loads\n",
    "if spark.catalog.tableExists('cars_catalog.gold.dim_model') :\n",
    "    df_sink = spark.sql('''\n",
    "    SELECT dim_model_key, Model_ID, model_category \n",
    "    FROM cars_catalog.gold.dim_model\n",
    "    ''')\n",
    "\n",
    "else :    \n",
    "    df_sink = spark.sql('''\n",
    "    SELECT 1 AS dim_model_key, Model_ID, model_category FROM parquet.`abfss://silver@sumitdatalake.dfs.core.windows.net/carsales` WHERE 1 = 0\n",
    "    ''')\n"
   ]
  },
  {
   "cell_type": "markdown",
   "metadata": {
    "application/vnd.databricks.v1+cell": {
     "cellMetadata": {
      "byteLimit": 2048000,
      "rowLimit": 10000
     },
     "inputWidgets": {},
     "nuid": "a06f097b-bf41-4547-aee6-65ea5a5ad73d",
     "showTitle": false,
     "tableResultSettingsMap": {},
     "title": ""
    }
   },
   "source": [
    "### Filtering new records and old records "
   ]
  },
  {
   "cell_type": "code",
   "execution_count": 0,
   "metadata": {
    "application/vnd.databricks.v1+cell": {
     "cellMetadata": {
      "byteLimit": 2048000,
      "rowLimit": 10000
     },
     "inputWidgets": {},
     "nuid": "793f1bdd-1d13-4ab2-a5af-a2d94ba5a8bd",
     "showTitle": false,
     "tableResultSettingsMap": {},
     "title": ""
    }
   },
   "outputs": [],
   "source": [
    "df_filter = df_src.join(df_sink, df_src['Model_ID'] == df_sink['Model_ID'], 'left').select(df_src['Model_ID'], df_src['model_category'], df_sink['dim_model_key'])"
   ]
  },
  {
   "cell_type": "code",
   "execution_count": 0,
   "metadata": {
    "application/vnd.databricks.v1+cell": {
     "cellMetadata": {
      "byteLimit": 2048000,
      "rowLimit": 10000
     },
     "inputWidgets": {},
     "nuid": "eb3c7abe-110c-4789-ab28-5c38aee1095a",
     "showTitle": false,
     "tableResultSettingsMap": {},
     "title": ""
    }
   },
   "outputs": [
    {
     "output_type": "display_data",
     "data": {
      "text/html": [
       "<style scoped>\n",
       "  .table-result-container {\n",
       "    max-height: 300px;\n",
       "    overflow: auto;\n",
       "  }\n",
       "  table, th, td {\n",
       "    border: 1px solid black;\n",
       "    border-collapse: collapse;\n",
       "  }\n",
       "  th, td {\n",
       "    padding: 5px;\n",
       "  }\n",
       "  th {\n",
       "    text-align: left;\n",
       "  }\n",
       "</style><div class='table-result-container'><table class='table-result'><thead style='background-color: white'><tr><th>Model_ID</th><th>model_category</th><th>dim_model_key</th></tr></thead><tbody><tr><td>Mah-M167</td><td>Mah</td><td>null</td></tr><tr><td>Che-M47</td><td>Che</td><td>null</td></tr><tr><td>Toy-M205</td><td>Toy</td><td>null</td></tr><tr><td>BMW-M249</td><td>BMW</td><td>null</td></tr><tr><td>Mer-M122</td><td>Mer</td><td>null</td></tr><tr><td>Hon-M215</td><td>Hon</td><td>null</td></tr><tr><td>Nis-M82</td><td>Nis</td><td>null</td></tr><tr><td>Toy-M206</td><td>Toy</td><td>null</td></tr><tr><td>Mar-M139</td><td>Mar</td><td>null</td></tr><tr><td>Ren-M207</td><td>Ren</td><td>null</td></tr><tr><td>Mar-M146</td><td>Mar</td><td>null</td></tr><tr><td>Mar-M141</td><td>Mar</td><td>null</td></tr><tr><td>Lin-M28</td><td>Lin</td><td>null</td></tr><tr><td>Hon-M69</td><td>Hon</td><td>null</td></tr><tr><td>Toy-M202</td><td>Toy</td><td>null</td></tr><tr><td>Cad-M32</td><td>Cad</td><td>null</td></tr><tr><td>Tat-M185</td><td>Tat</td><td>null</td></tr><tr><td>Aud-M231</td><td>Aud</td><td>null</td></tr><tr><td>Tat-M192</td><td>Tat</td><td>null</td></tr><tr><td>Che-M41</td><td>Che</td><td>null</td></tr><tr><td>Ram-M14</td><td>Ram</td><td>null</td></tr><tr><td>Mar-M138</td><td>Mar</td><td>null</td></tr><tr><td>Aud-M236</td><td>Aud</td><td>null</td></tr><tr><td>Mar-M151</td><td>Mar</td><td>null</td></tr><tr><td>Acu-M59</td><td>Acu</td><td>null</td></tr><tr><td>Hon-M70</td><td>Hon</td><td>null</td></tr><tr><td>Mah-M174</td><td>Mah</td><td>null</td></tr><tr><td>Dod-M9</td><td>Dod</td><td>null</td></tr><tr><td>Tes-M96</td><td>Tes</td><td>null</td></tr><tr><td>Tat-M194</td><td>Tat</td><td>null</td></tr><tr><td>For-M23</td><td>For</td><td>null</td></tr><tr><td>BMW-M3</td><td>BMW</td><td>null</td></tr><tr><td>Vol-M108</td><td>Vol</td><td>null</td></tr><tr><td>Nis-M263</td><td>Nis</td><td>null</td></tr><tr><td>BMW-M250</td><td>BMW</td><td>null</td></tr><tr><td>Aud-M234</td><td>Aud</td><td>null</td></tr><tr><td>Toy-M103</td><td>Toy</td><td>null</td></tr><tr><td>For-M25</td><td>For</td><td>null</td></tr><tr><td>Ren-M129</td><td>Ren</td><td>null</td></tr><tr><td>Nis-M267</td><td>Nis</td><td>null</td></tr><tr><td>Hon-M68</td><td>Hon</td><td>null</td></tr><tr><td>Nis-M85</td><td>Nis</td><td>null</td></tr><tr><td>Hyu-M163</td><td>Hyu</td><td>null</td></tr><tr><td>Aud-M235</td><td>Aud</td><td>null</td></tr><tr><td>Lex-M99</td><td>Lex</td><td>null</td></tr><tr><td>Toy-M133</td><td>Toy</td><td>null</td></tr><tr><td>Kia-M76</td><td>Kia</td><td>null</td></tr><tr><td>Tat-M187</td><td>Tat</td><td>null</td></tr><tr><td>Jee-M10</td><td>Jee</td><td>null</td></tr><tr><td>Cit-M115</td><td>Cit</td><td>null</td></tr><tr><td>Sko-M274</td><td>Sko</td><td>null</td></tr><tr><td>Ren-M209</td><td>Ren</td><td>null</td></tr><tr><td>Hyu-M154</td><td>Hyu</td><td>null</td></tr><tr><td>Mer-M123</td><td>Mer</td><td>null</td></tr><tr><td>Mer-M7</td><td>Mer</td><td>null</td></tr><tr><td>Cad-M36</td><td>Cad</td><td>null</td></tr><tr><td>Ren-M208</td><td>Ren</td><td>null</td></tr><tr><td>For-M119</td><td>For</td><td>null</td></tr><tr><td>Hon-M67</td><td>Hon</td><td>null</td></tr><tr><td>Hyu-M162</td><td>Hyu</td><td>null</td></tr><tr><td>Toy-M203</td><td>Toy</td><td>null</td></tr><tr><td>Mar-M145</td><td>Mar</td><td>null</td></tr><tr><td>Che-M51</td><td>Che</td><td>null</td></tr><tr><td>Nis-M84</td><td>Nis</td><td>null</td></tr><tr><td>Mah-M177</td><td>Mah</td><td>null</td></tr><tr><td>Peu-M125</td><td>Peu</td><td>null</td></tr><tr><td>Toy-M198</td><td>Toy</td><td>null</td></tr><tr><td>Toy-M104</td><td>Toy</td><td>null</td></tr><tr><td>For-M16</td><td>For</td><td>null</td></tr><tr><td>BMW-M4</td><td>BMW</td><td>null</td></tr><tr><td>Nis-M88</td><td>Nis</td><td>null</td></tr><tr><td>Che-M114</td><td>Che</td><td>null</td></tr><tr><td>Aud-M233</td><td>Aud</td><td>null</td></tr><tr><td>Mar-M147</td><td>Mar</td><td>null</td></tr><tr><td>Nis-M269</td><td>Nis</td><td>null</td></tr><tr><td>Tes-M98</td><td>Tes</td><td>null</td></tr><tr><td>Acu-M60</td><td>Acu</td><td>null</td></tr><tr><td>Aud-M241</td><td>Aud</td><td>null</td></tr><tr><td>Mah-M175</td><td>Mah</td><td>null</td></tr><tr><td>Toy-M106</td><td>Toy</td><td>null</td></tr><tr><td>Hyu-M155</td><td>Hyu</td><td>null</td></tr><tr><td>Vol-M110</td><td>Vol</td><td>null</td></tr><tr><td>Mah-M171</td><td>Mah</td><td>null</td></tr><tr><td>Lin-M30</td><td>Lin</td><td>null</td></tr><tr><td>BMW-M242</td><td>BMW</td><td>null</td></tr><tr><td>For-M223</td><td>For</td><td>null</td></tr><tr><td>Ren-M127</td><td>Ren</td><td>null</td></tr><tr><td>Aud-M229</td><td>Aud</td><td>null</td></tr><tr><td>Mah-M168</td><td>Mah</td><td>null</td></tr><tr><td>For-M225</td><td>For</td><td>null</td></tr><tr><td>Aud-M232</td><td>Aud</td><td>null</td></tr><tr><td>Toy-M200</td><td>Toy</td><td>null</td></tr><tr><td>Kia-M77</td><td>Kia</td><td>null</td></tr><tr><td>BMW-M248</td><td>BMW</td><td>null</td></tr><tr><td>Hyu-M164</td><td>Hyu</td><td>null</td></tr><tr><td>Ren-M211</td><td>Ren</td><td>null</td></tr><tr><td>Mar-M149</td><td>Mar</td><td>null</td></tr><tr><td>GMC-M53</td><td>GMC</td><td>null</td></tr><tr><td>Mit-M275</td><td>Mit</td><td>null</td></tr><tr><td>Ren-M131</td><td>Ren</td><td>null</td></tr><tr><td>Tat-M186</td><td>Tat</td><td>null</td></tr><tr><td>Hon-M217</td><td>Hon</td><td>null</td></tr><tr><td>Mar-M152</td><td>Mar</td><td>null</td></tr><tr><td>Jee-M11</td><td>Jee</td><td>null</td></tr><tr><td>Vol-M135</td><td>Vol</td><td>null</td></tr><tr><td>Ren-M128</td><td>Ren</td><td>null</td></tr><tr><td>Cad-M38</td><td>Cad</td><td>null</td></tr><tr><td>Tat-M190</td><td>Tat</td><td>null</td></tr><tr><td>Hyu-M153</td><td>Hyu</td><td>null</td></tr><tr><td>Mer-M8</td><td>Mer</td><td>null</td></tr><tr><td>GMC-M55</td><td>GMC</td><td>null</td></tr><tr><td>Toy-M201</td><td>Toy</td><td>null</td></tr><tr><td>BMW-M244</td><td>BMW</td><td>null</td></tr><tr><td>Toy-M134</td><td>Toy</td><td>null</td></tr><tr><td>Agr-M111</td><td>Agr</td><td>null</td></tr><tr><td>Fia-M117</td><td>Fia</td><td>null</td></tr><tr><td>Mit-M276</td><td>Mit</td><td>null</td></tr><tr><td>Kia-M78</td><td>Kia</td><td>null</td></tr><tr><td>Aud-M230</td><td>Aud</td><td>null</td></tr><tr><td>Tat-M193</td><td>Tat</td><td>null</td></tr><tr><td>Ram-M15</td><td>Ram</td><td>null</td></tr><tr><td>For-M22</td><td>For</td><td>null</td></tr><tr><td>Acu-M62</td><td>Acu</td><td>null</td></tr><tr><td>Mah-M165</td><td>Mah</td><td>null</td></tr><tr><td>Fia-M118</td><td>Fia</td><td>null</td></tr><tr><td>Toy-M195</td><td>Toy</td><td>null</td></tr><tr><td>Che-M49</td><td>Che</td><td>null</td></tr><tr><td>Bui-M31</td><td>Bui</td><td>null</td></tr><tr><td>For-M26</td><td>For</td><td>null</td></tr><tr><td>Peu-M124</td><td>Peu</td><td>null</td></tr><tr><td>Nis-M83</td><td>Nis</td><td>null</td></tr><tr><td>Nis-M266</td><td>Nis</td><td>null</td></tr><tr><td>Mar-M142</td><td>Mar</td><td>null</td></tr><tr><td>For-M18</td><td>For</td><td>null</td></tr><tr><td>Jee-M253</td><td>Jee</td><td>null</td></tr><tr><td>Tat-M181</td><td>Tat</td><td>null</td></tr><tr><td>Hyu-M157</td><td>Hyu</td><td>null</td></tr><tr><td>Cad-M39</td><td>Cad</td><td>null</td></tr><tr><td>For-M221</td><td>For</td><td>null</td></tr><tr><td>Aud-M240</td><td>Aud</td><td>null</td></tr><tr><td>Ren-M210</td><td>Ren</td><td>null</td></tr><tr><td>Acu-M61</td><td>Acu</td><td>null</td></tr><tr><td>Toy-M102</td><td>Toy</td><td>null</td></tr><tr><td>Nis-M262</td><td>Nis</td><td>null</td></tr><tr><td>Hon-M216</td><td>Hon</td><td>null</td></tr><tr><td>MG-M252</td><td>MG</td><td>null</td></tr><tr><td>Mah-M178</td><td>Mah</td><td>null</td></tr><tr><td>Sub-M93</td><td>Sub</td><td>null</td></tr><tr><td>Kia-M213</td><td>Kia</td><td>null</td></tr><tr><td>Hyu-M75</td><td>Hyu</td><td>null</td></tr><tr><td>Mah-M170</td><td>Mah</td><td>null</td></tr><tr><td>Aud-M239</td><td>Aud</td><td>null</td></tr><tr><td>Tat-M180</td><td>Tat</td><td>null</td></tr><tr><td>Hyu-M74</td><td>Hyu</td><td>null</td></tr><tr><td>BMW-M1</td><td>BMW</td><td>null</td></tr><tr><td>Cad-M35</td><td>Cad</td><td>null</td></tr><tr><td>BMW-M246</td><td>BMW</td><td>null</td></tr><tr><td>Ren-M132</td><td>Ren</td><td>null</td></tr><tr><td>GMC-M58</td><td>GMC</td><td>null</td></tr><tr><td>Mar-M148</td><td>Mar</td><td>null</td></tr><tr><td>Hyu-M161</td><td>Hyu</td><td>null</td></tr><tr><td>Toy-M105</td><td>Toy</td><td>null</td></tr><tr><td>Aud-M228</td><td>Aud</td><td>null</td></tr><tr><td>Aud-M237</td><td>Aud</td><td>null</td></tr><tr><td>Nis-M89</td><td>Nis</td><td>null</td></tr><tr><td>Hyu-M72</td><td>Hyu</td><td>null</td></tr><tr><td>BMW-M243</td><td>BMW</td><td>null</td></tr><tr><td>Mar-M140</td><td>Mar</td><td>null</td></tr><tr><td>Toy-M196</td><td>Toy</td><td>null</td></tr><tr><td>Che-M42</td><td>Che</td><td>null</td></tr><tr><td>Tes-M97</td><td>Tes</td><td>null</td></tr><tr><td>Vol-M260</td><td>Vol</td><td>null</td></tr><tr><td>Mah-M176</td><td>Mah</td><td>null</td></tr><tr><td>Nis-M86</td><td>Nis</td><td>null</td></tr><tr><td>Hon-M64</td><td>Hon</td><td>null</td></tr><tr><td>MG-M251</td><td>MG</td><td>null</td></tr><tr><td>Mer-M121</td><td>Mer</td><td>null</td></tr><tr><td>Nis-M81</td><td>Nis</td><td>null</td></tr><tr><td>GMC-M54</td><td>GMC</td><td>null</td></tr><tr><td>Hon-M220</td><td>Hon</td><td>null</td></tr><tr><td>Che-M50</td><td>Che</td><td>null</td></tr><tr><td>Cad-M37</td><td>Cad</td><td>null</td></tr><tr><td>Hyu-M158</td><td>Hyu</td><td>null</td></tr><tr><td>Inf-M79</td><td>Inf</td><td>null</td></tr><tr><td>BMW-M2</td><td>BMW</td><td>null</td></tr><tr><td>GMC-M57</td><td>GMC</td><td>null</td></tr><tr><td>GMC-M52</td><td>GMC</td><td>null</td></tr><tr><td>Cit-M116</td><td>Cit</td><td>null</td></tr><tr><td>Mar-M144</td><td>Mar</td><td>null</td></tr><tr><td>For-M17</td><td>For</td><td>null</td></tr><tr><td>Tat-M184</td><td>Tat</td><td>null</td></tr><tr><td>Hyu-M159</td><td>Hyu</td><td>null</td></tr><tr><td>Tat-M183</td><td>Tat</td><td>null</td></tr><tr><td>Nis-M264</td><td>Nis</td><td>null</td></tr><tr><td>BMW-M5</td><td>BMW</td><td>null</td></tr><tr><td>Che-M43</td><td>Che</td><td>null</td></tr><tr><td>Mah-M169</td><td>Mah</td><td>null</td></tr><tr><td>Tat-M182</td><td>Tat</td><td>null</td></tr><tr><td>Tat-M188</td><td>Tat</td><td>null</td></tr><tr><td>Aud-M227</td><td>Aud</td><td>null</td></tr><tr><td>Mah-M166</td><td>Mah</td><td>null</td></tr><tr><td>Riv-M91</td><td>Riv</td><td>null</td></tr><tr><td>Hon-M71</td><td>Hon</td><td>null</td></tr><tr><td>Hyu-M73</td><td>Hyu</td><td>null</td></tr><tr><td>Hyu-M156</td><td>Hyu</td><td>null</td></tr><tr><td>Lin-M27</td><td>Lin</td><td>null</td></tr><tr><td>Cad-M34</td><td>Cad</td><td>null</td></tr><tr><td>Mar-M137</td><td>Mar</td><td>null</td></tr><tr><td>Mah-M173</td><td>Mah</td><td>null</td></tr><tr><td>Tat-M179</td><td>Tat</td><td>null</td></tr><tr><td>Sub-M94</td><td>Sub</td><td>null</td></tr><tr><td>Jee-M254</td><td>Jee</td><td>null</td></tr><tr><td>GMC-M56</td><td>GMC</td><td>null</td></tr><tr><td>Hyu-M160</td><td>Hyu</td><td>null</td></tr><tr><td>Vol-M109</td><td>Vol</td><td>null</td></tr><tr><td>Peu-M126</td><td>Peu</td><td>null</td></tr><tr><td>For-M222</td><td>For</td><td>null</td></tr><tr><td>Toy-M101</td><td>Toy</td><td>null</td></tr><tr><td>Kia-M214</td><td>Kia</td><td>null</td></tr><tr><td>Sub-M95</td><td>Sub</td><td>null</td></tr><tr><td>Mar-M143</td><td>Mar</td><td>null</td></tr><tr><td>Nis-M265</td><td>Nis</td><td>null</td></tr><tr><td>Hon-M65</td><td>Hon</td><td>null</td></tr><tr><td>Sko-M272</td><td>Sko</td><td>null</td></tr><tr><td>Che-M45</td><td>Che</td><td>null</td></tr><tr><td>Toy-M107</td><td>Toy</td><td>null</td></tr><tr><td>Jee-M12</td><td>Jee</td><td>null</td></tr><tr><td>Mit-M277</td><td>Mit</td><td>null</td></tr><tr><td>Hon-M66</td><td>Hon</td><td>null</td></tr><tr><td>Toy-M100</td><td>Toy</td><td>null</td></tr><tr><td>For-M19</td><td>For</td><td>null</td></tr><tr><td>Agr-M113</td><td>Agr</td><td>null</td></tr><tr><td>Toy-M204</td><td>Toy</td><td>null</td></tr><tr><td>Hon-M120</td><td>Hon</td><td>null</td></tr><tr><td>Sko-M271</td><td>Sko</td><td>null</td></tr><tr><td>Vol-M255</td><td>Vol</td><td>null</td></tr><tr><td>Toy-M199</td><td>Toy</td><td>null</td></tr><tr><td>Vol-M256</td><td>Vol</td><td>null</td></tr><tr><td>Sub-M92</td><td>Sub</td><td>null</td></tr><tr><td>Toy-M197</td><td>Toy</td><td>null</td></tr><tr><td>Mah-M172</td><td>Mah</td><td>null</td></tr><tr><td>Che-M48</td><td>Che</td><td>null</td></tr><tr><td>Nis-M87</td><td>Nis</td><td>null</td></tr><tr><td>Mar-M150</td><td>Mar</td><td>null</td></tr><tr><td>Acu-M63</td><td>Acu</td><td>null</td></tr><tr><td>BMW-M247</td><td>BMW</td><td>null</td></tr><tr><td>For-M226</td><td>For</td><td>null</td></tr><tr><td>Vol-M257</td><td>Vol</td><td>null</td></tr><tr><td>Vol-M259</td><td>Vol</td><td>null</td></tr><tr><td>Nis-M80</td><td>Nis</td><td>null</td></tr><tr><td>Kia-M212</td><td>Kia</td><td>null</td></tr><tr><td>Hon-M218</td><td>Hon</td><td>null</td></tr><tr><td>For-M24</td><td>For</td><td>null</td></tr><tr><td>Sko-M273</td><td>Sko</td><td>null</td></tr><tr><td>Lin-M29</td><td>Lin</td><td>null</td></tr><tr><td>Agr-M112</td><td>Agr</td><td>null</td></tr><tr><td>Tat-M189</td><td>Tat</td><td>null</td></tr><tr><td>Nis-M270</td><td>Nis</td><td>null</td></tr><tr><td>Riv-M90</td><td>Riv</td><td>null</td></tr><tr><td>Che-M44</td><td>Che</td><td>null</td></tr><tr><td>Aud-M238</td><td>Aud</td><td>null</td></tr><tr><td>Vol-M136</td><td>Vol</td><td>null</td></tr><tr><td>For-M21</td><td>For</td><td>null</td></tr><tr><td>For-M224</td><td>For</td><td>null</td></tr><tr><td>Che-M40</td><td>Che</td><td>null</td></tr><tr><td>Ren-M130</td><td>Ren</td><td>null</td></tr><tr><td>Hon-M219</td><td>Hon</td><td>null</td></tr><tr><td>Che-M46</td><td>Che</td><td>null</td></tr><tr><td>Mer-M6</td><td>Mer</td><td>null</td></tr><tr><td>Vol-M258</td><td>Vol</td><td>null</td></tr><tr><td>Jee-M13</td><td>Jee</td><td>null</td></tr><tr><td>Nis-M261</td><td>Nis</td><td>null</td></tr><tr><td>For-M20</td><td>For</td><td>null</td></tr><tr><td>Tat-M191</td><td>Tat</td><td>null</td></tr><tr><td>BMW-M245</td><td>BMW</td><td>null</td></tr><tr><td>Nis-M268</td><td>Nis</td><td>null</td></tr><tr><td>Cad-M33</td><td>Cad</td><td>null</td></tr></tbody></table></div>"
      ]
     },
     "metadata": {
      "application/vnd.databricks.v1+output": {
       "addedWidgets": {},
       "aggData": [],
       "aggError": "",
       "aggOverflow": false,
       "aggSchema": [],
       "aggSeriesLimitReached": false,
       "aggType": "",
       "arguments": {},
       "columnCustomDisplayInfos": {},
       "data": [
        [
         "Mah-M167",
         "Mah",
         null
        ],
        [
         "Che-M47",
         "Che",
         null
        ],
        [
         "Toy-M205",
         "Toy",
         null
        ],
        [
         "BMW-M249",
         "BMW",
         null
        ],
        [
         "Mer-M122",
         "Mer",
         null
        ],
        [
         "Hon-M215",
         "Hon",
         null
        ],
        [
         "Nis-M82",
         "Nis",
         null
        ],
        [
         "Toy-M206",
         "Toy",
         null
        ],
        [
         "Mar-M139",
         "Mar",
         null
        ],
        [
         "Ren-M207",
         "Ren",
         null
        ],
        [
         "Mar-M146",
         "Mar",
         null
        ],
        [
         "Mar-M141",
         "Mar",
         null
        ],
        [
         "Lin-M28",
         "Lin",
         null
        ],
        [
         "Hon-M69",
         "Hon",
         null
        ],
        [
         "Toy-M202",
         "Toy",
         null
        ],
        [
         "Cad-M32",
         "Cad",
         null
        ],
        [
         "Tat-M185",
         "Tat",
         null
        ],
        [
         "Aud-M231",
         "Aud",
         null
        ],
        [
         "Tat-M192",
         "Tat",
         null
        ],
        [
         "Che-M41",
         "Che",
         null
        ],
        [
         "Ram-M14",
         "Ram",
         null
        ],
        [
         "Mar-M138",
         "Mar",
         null
        ],
        [
         "Aud-M236",
         "Aud",
         null
        ],
        [
         "Mar-M151",
         "Mar",
         null
        ],
        [
         "Acu-M59",
         "Acu",
         null
        ],
        [
         "Hon-M70",
         "Hon",
         null
        ],
        [
         "Mah-M174",
         "Mah",
         null
        ],
        [
         "Dod-M9",
         "Dod",
         null
        ],
        [
         "Tes-M96",
         "Tes",
         null
        ],
        [
         "Tat-M194",
         "Tat",
         null
        ],
        [
         "For-M23",
         "For",
         null
        ],
        [
         "BMW-M3",
         "BMW",
         null
        ],
        [
         "Vol-M108",
         "Vol",
         null
        ],
        [
         "Nis-M263",
         "Nis",
         null
        ],
        [
         "BMW-M250",
         "BMW",
         null
        ],
        [
         "Aud-M234",
         "Aud",
         null
        ],
        [
         "Toy-M103",
         "Toy",
         null
        ],
        [
         "For-M25",
         "For",
         null
        ],
        [
         "Ren-M129",
         "Ren",
         null
        ],
        [
         "Nis-M267",
         "Nis",
         null
        ],
        [
         "Hon-M68",
         "Hon",
         null
        ],
        [
         "Nis-M85",
         "Nis",
         null
        ],
        [
         "Hyu-M163",
         "Hyu",
         null
        ],
        [
         "Aud-M235",
         "Aud",
         null
        ],
        [
         "Lex-M99",
         "Lex",
         null
        ],
        [
         "Toy-M133",
         "Toy",
         null
        ],
        [
         "Kia-M76",
         "Kia",
         null
        ],
        [
         "Tat-M187",
         "Tat",
         null
        ],
        [
         "Jee-M10",
         "Jee",
         null
        ],
        [
         "Cit-M115",
         "Cit",
         null
        ],
        [
         "Sko-M274",
         "Sko",
         null
        ],
        [
         "Ren-M209",
         "Ren",
         null
        ],
        [
         "Hyu-M154",
         "Hyu",
         null
        ],
        [
         "Mer-M123",
         "Mer",
         null
        ],
        [
         "Mer-M7",
         "Mer",
         null
        ],
        [
         "Cad-M36",
         "Cad",
         null
        ],
        [
         "Ren-M208",
         "Ren",
         null
        ],
        [
         "For-M119",
         "For",
         null
        ],
        [
         "Hon-M67",
         "Hon",
         null
        ],
        [
         "Hyu-M162",
         "Hyu",
         null
        ],
        [
         "Toy-M203",
         "Toy",
         null
        ],
        [
         "Mar-M145",
         "Mar",
         null
        ],
        [
         "Che-M51",
         "Che",
         null
        ],
        [
         "Nis-M84",
         "Nis",
         null
        ],
        [
         "Mah-M177",
         "Mah",
         null
        ],
        [
         "Peu-M125",
         "Peu",
         null
        ],
        [
         "Toy-M198",
         "Toy",
         null
        ],
        [
         "Toy-M104",
         "Toy",
         null
        ],
        [
         "For-M16",
         "For",
         null
        ],
        [
         "BMW-M4",
         "BMW",
         null
        ],
        [
         "Nis-M88",
         "Nis",
         null
        ],
        [
         "Che-M114",
         "Che",
         null
        ],
        [
         "Aud-M233",
         "Aud",
         null
        ],
        [
         "Mar-M147",
         "Mar",
         null
        ],
        [
         "Nis-M269",
         "Nis",
         null
        ],
        [
         "Tes-M98",
         "Tes",
         null
        ],
        [
         "Acu-M60",
         "Acu",
         null
        ],
        [
         "Aud-M241",
         "Aud",
         null
        ],
        [
         "Mah-M175",
         "Mah",
         null
        ],
        [
         "Toy-M106",
         "Toy",
         null
        ],
        [
         "Hyu-M155",
         "Hyu",
         null
        ],
        [
         "Vol-M110",
         "Vol",
         null
        ],
        [
         "Mah-M171",
         "Mah",
         null
        ],
        [
         "Lin-M30",
         "Lin",
         null
        ],
        [
         "BMW-M242",
         "BMW",
         null
        ],
        [
         "For-M223",
         "For",
         null
        ],
        [
         "Ren-M127",
         "Ren",
         null
        ],
        [
         "Aud-M229",
         "Aud",
         null
        ],
        [
         "Mah-M168",
         "Mah",
         null
        ],
        [
         "For-M225",
         "For",
         null
        ],
        [
         "Aud-M232",
         "Aud",
         null
        ],
        [
         "Toy-M200",
         "Toy",
         null
        ],
        [
         "Kia-M77",
         "Kia",
         null
        ],
        [
         "BMW-M248",
         "BMW",
         null
        ],
        [
         "Hyu-M164",
         "Hyu",
         null
        ],
        [
         "Ren-M211",
         "Ren",
         null
        ],
        [
         "Mar-M149",
         "Mar",
         null
        ],
        [
         "GMC-M53",
         "GMC",
         null
        ],
        [
         "Mit-M275",
         "Mit",
         null
        ],
        [
         "Ren-M131",
         "Ren",
         null
        ],
        [
         "Tat-M186",
         "Tat",
         null
        ],
        [
         "Hon-M217",
         "Hon",
         null
        ],
        [
         "Mar-M152",
         "Mar",
         null
        ],
        [
         "Jee-M11",
         "Jee",
         null
        ],
        [
         "Vol-M135",
         "Vol",
         null
        ],
        [
         "Ren-M128",
         "Ren",
         null
        ],
        [
         "Cad-M38",
         "Cad",
         null
        ],
        [
         "Tat-M190",
         "Tat",
         null
        ],
        [
         "Hyu-M153",
         "Hyu",
         null
        ],
        [
         "Mer-M8",
         "Mer",
         null
        ],
        [
         "GMC-M55",
         "GMC",
         null
        ],
        [
         "Toy-M201",
         "Toy",
         null
        ],
        [
         "BMW-M244",
         "BMW",
         null
        ],
        [
         "Toy-M134",
         "Toy",
         null
        ],
        [
         "Agr-M111",
         "Agr",
         null
        ],
        [
         "Fia-M117",
         "Fia",
         null
        ],
        [
         "Mit-M276",
         "Mit",
         null
        ],
        [
         "Kia-M78",
         "Kia",
         null
        ],
        [
         "Aud-M230",
         "Aud",
         null
        ],
        [
         "Tat-M193",
         "Tat",
         null
        ],
        [
         "Ram-M15",
         "Ram",
         null
        ],
        [
         "For-M22",
         "For",
         null
        ],
        [
         "Acu-M62",
         "Acu",
         null
        ],
        [
         "Mah-M165",
         "Mah",
         null
        ],
        [
         "Fia-M118",
         "Fia",
         null
        ],
        [
         "Toy-M195",
         "Toy",
         null
        ],
        [
         "Che-M49",
         "Che",
         null
        ],
        [
         "Bui-M31",
         "Bui",
         null
        ],
        [
         "For-M26",
         "For",
         null
        ],
        [
         "Peu-M124",
         "Peu",
         null
        ],
        [
         "Nis-M83",
         "Nis",
         null
        ],
        [
         "Nis-M266",
         "Nis",
         null
        ],
        [
         "Mar-M142",
         "Mar",
         null
        ],
        [
         "For-M18",
         "For",
         null
        ],
        [
         "Jee-M253",
         "Jee",
         null
        ],
        [
         "Tat-M181",
         "Tat",
         null
        ],
        [
         "Hyu-M157",
         "Hyu",
         null
        ],
        [
         "Cad-M39",
         "Cad",
         null
        ],
        [
         "For-M221",
         "For",
         null
        ],
        [
         "Aud-M240",
         "Aud",
         null
        ],
        [
         "Ren-M210",
         "Ren",
         null
        ],
        [
         "Acu-M61",
         "Acu",
         null
        ],
        [
         "Toy-M102",
         "Toy",
         null
        ],
        [
         "Nis-M262",
         "Nis",
         null
        ],
        [
         "Hon-M216",
         "Hon",
         null
        ],
        [
         "MG-M252",
         "MG",
         null
        ],
        [
         "Mah-M178",
         "Mah",
         null
        ],
        [
         "Sub-M93",
         "Sub",
         null
        ],
        [
         "Kia-M213",
         "Kia",
         null
        ],
        [
         "Hyu-M75",
         "Hyu",
         null
        ],
        [
         "Mah-M170",
         "Mah",
         null
        ],
        [
         "Aud-M239",
         "Aud",
         null
        ],
        [
         "Tat-M180",
         "Tat",
         null
        ],
        [
         "Hyu-M74",
         "Hyu",
         null
        ],
        [
         "BMW-M1",
         "BMW",
         null
        ],
        [
         "Cad-M35",
         "Cad",
         null
        ],
        [
         "BMW-M246",
         "BMW",
         null
        ],
        [
         "Ren-M132",
         "Ren",
         null
        ],
        [
         "GMC-M58",
         "GMC",
         null
        ],
        [
         "Mar-M148",
         "Mar",
         null
        ],
        [
         "Hyu-M161",
         "Hyu",
         null
        ],
        [
         "Toy-M105",
         "Toy",
         null
        ],
        [
         "Aud-M228",
         "Aud",
         null
        ],
        [
         "Aud-M237",
         "Aud",
         null
        ],
        [
         "Nis-M89",
         "Nis",
         null
        ],
        [
         "Hyu-M72",
         "Hyu",
         null
        ],
        [
         "BMW-M243",
         "BMW",
         null
        ],
        [
         "Mar-M140",
         "Mar",
         null
        ],
        [
         "Toy-M196",
         "Toy",
         null
        ],
        [
         "Che-M42",
         "Che",
         null
        ],
        [
         "Tes-M97",
         "Tes",
         null
        ],
        [
         "Vol-M260",
         "Vol",
         null
        ],
        [
         "Mah-M176",
         "Mah",
         null
        ],
        [
         "Nis-M86",
         "Nis",
         null
        ],
        [
         "Hon-M64",
         "Hon",
         null
        ],
        [
         "MG-M251",
         "MG",
         null
        ],
        [
         "Mer-M121",
         "Mer",
         null
        ],
        [
         "Nis-M81",
         "Nis",
         null
        ],
        [
         "GMC-M54",
         "GMC",
         null
        ],
        [
         "Hon-M220",
         "Hon",
         null
        ],
        [
         "Che-M50",
         "Che",
         null
        ],
        [
         "Cad-M37",
         "Cad",
         null
        ],
        [
         "Hyu-M158",
         "Hyu",
         null
        ],
        [
         "Inf-M79",
         "Inf",
         null
        ],
        [
         "BMW-M2",
         "BMW",
         null
        ],
        [
         "GMC-M57",
         "GMC",
         null
        ],
        [
         "GMC-M52",
         "GMC",
         null
        ],
        [
         "Cit-M116",
         "Cit",
         null
        ],
        [
         "Mar-M144",
         "Mar",
         null
        ],
        [
         "For-M17",
         "For",
         null
        ],
        [
         "Tat-M184",
         "Tat",
         null
        ],
        [
         "Hyu-M159",
         "Hyu",
         null
        ],
        [
         "Tat-M183",
         "Tat",
         null
        ],
        [
         "Nis-M264",
         "Nis",
         null
        ],
        [
         "BMW-M5",
         "BMW",
         null
        ],
        [
         "Che-M43",
         "Che",
         null
        ],
        [
         "Mah-M169",
         "Mah",
         null
        ],
        [
         "Tat-M182",
         "Tat",
         null
        ],
        [
         "Tat-M188",
         "Tat",
         null
        ],
        [
         "Aud-M227",
         "Aud",
         null
        ],
        [
         "Mah-M166",
         "Mah",
         null
        ],
        [
         "Riv-M91",
         "Riv",
         null
        ],
        [
         "Hon-M71",
         "Hon",
         null
        ],
        [
         "Hyu-M73",
         "Hyu",
         null
        ],
        [
         "Hyu-M156",
         "Hyu",
         null
        ],
        [
         "Lin-M27",
         "Lin",
         null
        ],
        [
         "Cad-M34",
         "Cad",
         null
        ],
        [
         "Mar-M137",
         "Mar",
         null
        ],
        [
         "Mah-M173",
         "Mah",
         null
        ],
        [
         "Tat-M179",
         "Tat",
         null
        ],
        [
         "Sub-M94",
         "Sub",
         null
        ],
        [
         "Jee-M254",
         "Jee",
         null
        ],
        [
         "GMC-M56",
         "GMC",
         null
        ],
        [
         "Hyu-M160",
         "Hyu",
         null
        ],
        [
         "Vol-M109",
         "Vol",
         null
        ],
        [
         "Peu-M126",
         "Peu",
         null
        ],
        [
         "For-M222",
         "For",
         null
        ],
        [
         "Toy-M101",
         "Toy",
         null
        ],
        [
         "Kia-M214",
         "Kia",
         null
        ],
        [
         "Sub-M95",
         "Sub",
         null
        ],
        [
         "Mar-M143",
         "Mar",
         null
        ],
        [
         "Nis-M265",
         "Nis",
         null
        ],
        [
         "Hon-M65",
         "Hon",
         null
        ],
        [
         "Sko-M272",
         "Sko",
         null
        ],
        [
         "Che-M45",
         "Che",
         null
        ],
        [
         "Toy-M107",
         "Toy",
         null
        ],
        [
         "Jee-M12",
         "Jee",
         null
        ],
        [
         "Mit-M277",
         "Mit",
         null
        ],
        [
         "Hon-M66",
         "Hon",
         null
        ],
        [
         "Toy-M100",
         "Toy",
         null
        ],
        [
         "For-M19",
         "For",
         null
        ],
        [
         "Agr-M113",
         "Agr",
         null
        ],
        [
         "Toy-M204",
         "Toy",
         null
        ],
        [
         "Hon-M120",
         "Hon",
         null
        ],
        [
         "Sko-M271",
         "Sko",
         null
        ],
        [
         "Vol-M255",
         "Vol",
         null
        ],
        [
         "Toy-M199",
         "Toy",
         null
        ],
        [
         "Vol-M256",
         "Vol",
         null
        ],
        [
         "Sub-M92",
         "Sub",
         null
        ],
        [
         "Toy-M197",
         "Toy",
         null
        ],
        [
         "Mah-M172",
         "Mah",
         null
        ],
        [
         "Che-M48",
         "Che",
         null
        ],
        [
         "Nis-M87",
         "Nis",
         null
        ],
        [
         "Mar-M150",
         "Mar",
         null
        ],
        [
         "Acu-M63",
         "Acu",
         null
        ],
        [
         "BMW-M247",
         "BMW",
         null
        ],
        [
         "For-M226",
         "For",
         null
        ],
        [
         "Vol-M257",
         "Vol",
         null
        ],
        [
         "Vol-M259",
         "Vol",
         null
        ],
        [
         "Nis-M80",
         "Nis",
         null
        ],
        [
         "Kia-M212",
         "Kia",
         null
        ],
        [
         "Hon-M218",
         "Hon",
         null
        ],
        [
         "For-M24",
         "For",
         null
        ],
        [
         "Sko-M273",
         "Sko",
         null
        ],
        [
         "Lin-M29",
         "Lin",
         null
        ],
        [
         "Agr-M112",
         "Agr",
         null
        ],
        [
         "Tat-M189",
         "Tat",
         null
        ],
        [
         "Nis-M270",
         "Nis",
         null
        ],
        [
         "Riv-M90",
         "Riv",
         null
        ],
        [
         "Che-M44",
         "Che",
         null
        ],
        [
         "Aud-M238",
         "Aud",
         null
        ],
        [
         "Vol-M136",
         "Vol",
         null
        ],
        [
         "For-M21",
         "For",
         null
        ],
        [
         "For-M224",
         "For",
         null
        ],
        [
         "Che-M40",
         "Che",
         null
        ],
        [
         "Ren-M130",
         "Ren",
         null
        ],
        [
         "Hon-M219",
         "Hon",
         null
        ],
        [
         "Che-M46",
         "Che",
         null
        ],
        [
         "Mer-M6",
         "Mer",
         null
        ],
        [
         "Vol-M258",
         "Vol",
         null
        ],
        [
         "Jee-M13",
         "Jee",
         null
        ],
        [
         "Nis-M261",
         "Nis",
         null
        ],
        [
         "For-M20",
         "For",
         null
        ],
        [
         "Tat-M191",
         "Tat",
         null
        ],
        [
         "BMW-M245",
         "BMW",
         null
        ],
        [
         "Nis-M268",
         "Nis",
         null
        ],
        [
         "Cad-M33",
         "Cad",
         null
        ]
       ],
       "datasetInfos": [],
       "dbfsResultPath": null,
       "isJsonSchema": true,
       "metadata": {},
       "overflow": false,
       "plotOptions": {
        "customPlotOptions": {},
        "displayType": "table",
        "pivotAggregation": null,
        "pivotColumns": null,
        "xColumns": null,
        "yColumns": null
       },
       "removedWidgets": [],
       "schema": [
        {
         "metadata": "{}",
         "name": "Model_ID",
         "type": "\"string\""
        },
        {
         "metadata": "{}",
         "name": "model_category",
         "type": "\"string\""
        },
        {
         "metadata": "{}",
         "name": "dim_model_key",
         "type": "\"long\""
        }
       ],
       "type": "table"
      }
     },
     "output_type": "display_data"
    }
   ],
   "source": [
    "df_filter.display()"
   ]
  },
  {
   "cell_type": "markdown",
   "metadata": {
    "application/vnd.databricks.v1+cell": {
     "cellMetadata": {
      "byteLimit": 2048000,
      "rowLimit": 10000
     },
     "inputWidgets": {},
     "nuid": "6e5d837b-e5b3-4074-839b-ffe04dd0c588",
     "showTitle": false,
     "tableResultSettingsMap": {},
     "title": ""
    }
   },
   "source": [
    "### df_filter_old\n"
   ]
  },
  {
   "cell_type": "code",
   "execution_count": 0,
   "metadata": {
    "application/vnd.databricks.v1+cell": {
     "cellMetadata": {
      "byteLimit": 2048000,
      "rowLimit": 10000
     },
     "inputWidgets": {},
     "nuid": "367debc3-f739-42cf-954a-1710a02d8d8e",
     "showTitle": false,
     "tableResultSettingsMap": {},
     "title": ""
    }
   },
   "outputs": [],
   "source": [
    "df_filter_old = df_filter.filter(col('dim_model_key').isNotNull())"
   ]
  },
  {
   "cell_type": "code",
   "execution_count": 0,
   "metadata": {
    "application/vnd.databricks.v1+cell": {
     "cellMetadata": {
      "byteLimit": 2048000,
      "rowLimit": 10000
     },
     "inputWidgets": {},
     "nuid": "3af5b56d-890a-4155-896e-e8a0333da60c",
     "showTitle": false,
     "tableResultSettingsMap": {},
     "title": ""
    }
   },
   "outputs": [
    {
     "output_type": "display_data",
     "data": {
      "text/html": [
       "<style scoped>\n",
       "  .table-result-container {\n",
       "    max-height: 300px;\n",
       "    overflow: auto;\n",
       "  }\n",
       "  table, th, td {\n",
       "    border: 1px solid black;\n",
       "    border-collapse: collapse;\n",
       "  }\n",
       "  th, td {\n",
       "    padding: 5px;\n",
       "  }\n",
       "  th {\n",
       "    text-align: left;\n",
       "  }\n",
       "</style><div class='table-result-container'><table class='table-result'><thead style='background-color: white'><tr><th>Model_ID</th><th>model_category</th><th>dim_model_key</th></tr></thead><tbody></tbody></table></div>"
      ]
     },
     "metadata": {
      "application/vnd.databricks.v1+output": {
       "addedWidgets": {},
       "aggData": [],
       "aggError": "",
       "aggOverflow": false,
       "aggSchema": [],
       "aggSeriesLimitReached": false,
       "aggType": "",
       "arguments": {},
       "columnCustomDisplayInfos": {},
       "data": [],
       "datasetInfos": [],
       "dbfsResultPath": null,
       "isJsonSchema": true,
       "metadata": {},
       "overflow": false,
       "plotOptions": {
        "customPlotOptions": {},
        "displayType": "table",
        "pivotAggregation": null,
        "pivotColumns": null,
        "xColumns": null,
        "yColumns": null
       },
       "removedWidgets": [],
       "schema": [
        {
         "metadata": "{}",
         "name": "Model_ID",
         "type": "\"string\""
        },
        {
         "metadata": "{}",
         "name": "model_category",
         "type": "\"string\""
        },
        {
         "metadata": "{}",
         "name": "dim_model_key",
         "type": "\"long\""
        }
       ],
       "type": "table"
      }
     },
     "output_type": "display_data"
    }
   ],
   "source": [
    "df_filter_old.display()"
   ]
  },
  {
   "cell_type": "markdown",
   "metadata": {
    "application/vnd.databricks.v1+cell": {
     "cellMetadata": {
      "byteLimit": 2048000,
      "rowLimit": 10000
     },
     "inputWidgets": {},
     "nuid": "f8a6cc71-2dc2-41c5-98a7-0dec4eb0ef8c",
     "showTitle": false,
     "tableResultSettingsMap": {},
     "title": ""
    }
   },
   "source": [
    "### df_filter_new\n"
   ]
  },
  {
   "cell_type": "code",
   "execution_count": 0,
   "metadata": {
    "application/vnd.databricks.v1+cell": {
     "cellMetadata": {
      "byteLimit": 2048000,
      "rowLimit": 10000
     },
     "inputWidgets": {},
     "nuid": "f12eec90-9cb4-4532-b4ae-5cc14e257520",
     "showTitle": false,
     "tableResultSettingsMap": {},
     "title": ""
    }
   },
   "outputs": [],
   "source": [
    "df_filter_new = df_filter.filter(col('dim_model_key').isNull()).select(df_src['Model_ID'], df_src['model_category'])"
   ]
  },
  {
   "cell_type": "code",
   "execution_count": 0,
   "metadata": {
    "application/vnd.databricks.v1+cell": {
     "cellMetadata": {
      "byteLimit": 2048000,
      "rowLimit": 10000
     },
     "inputWidgets": {},
     "nuid": "04134da8-cd22-44c1-8203-351c335f0775",
     "showTitle": false,
     "tableResultSettingsMap": {},
     "title": ""
    }
   },
   "outputs": [
    {
     "output_type": "display_data",
     "data": {
      "text/html": [
       "<style scoped>\n",
       "  .table-result-container {\n",
       "    max-height: 300px;\n",
       "    overflow: auto;\n",
       "  }\n",
       "  table, th, td {\n",
       "    border: 1px solid black;\n",
       "    border-collapse: collapse;\n",
       "  }\n",
       "  th, td {\n",
       "    padding: 5px;\n",
       "  }\n",
       "  th {\n",
       "    text-align: left;\n",
       "  }\n",
       "</style><div class='table-result-container'><table class='table-result'><thead style='background-color: white'><tr><th>Model_ID</th><th>model_category</th></tr></thead><tbody><tr><td>Mah-M167</td><td>Mah</td></tr><tr><td>Che-M47</td><td>Che</td></tr><tr><td>Toy-M205</td><td>Toy</td></tr><tr><td>BMW-M249</td><td>BMW</td></tr><tr><td>Mer-M122</td><td>Mer</td></tr><tr><td>Hon-M215</td><td>Hon</td></tr><tr><td>Nis-M82</td><td>Nis</td></tr><tr><td>Toy-M206</td><td>Toy</td></tr><tr><td>Mar-M139</td><td>Mar</td></tr><tr><td>Ren-M207</td><td>Ren</td></tr><tr><td>Mar-M146</td><td>Mar</td></tr><tr><td>Mar-M141</td><td>Mar</td></tr><tr><td>Lin-M28</td><td>Lin</td></tr><tr><td>Hon-M69</td><td>Hon</td></tr><tr><td>Toy-M202</td><td>Toy</td></tr><tr><td>Cad-M32</td><td>Cad</td></tr><tr><td>Tat-M185</td><td>Tat</td></tr><tr><td>Aud-M231</td><td>Aud</td></tr><tr><td>Tat-M192</td><td>Tat</td></tr><tr><td>Che-M41</td><td>Che</td></tr><tr><td>Ram-M14</td><td>Ram</td></tr><tr><td>Mar-M138</td><td>Mar</td></tr><tr><td>Aud-M236</td><td>Aud</td></tr><tr><td>Mar-M151</td><td>Mar</td></tr><tr><td>Acu-M59</td><td>Acu</td></tr><tr><td>Hon-M70</td><td>Hon</td></tr><tr><td>Mah-M174</td><td>Mah</td></tr><tr><td>Dod-M9</td><td>Dod</td></tr><tr><td>Tes-M96</td><td>Tes</td></tr><tr><td>Tat-M194</td><td>Tat</td></tr><tr><td>For-M23</td><td>For</td></tr><tr><td>BMW-M3</td><td>BMW</td></tr><tr><td>Vol-M108</td><td>Vol</td></tr><tr><td>Nis-M263</td><td>Nis</td></tr><tr><td>BMW-M250</td><td>BMW</td></tr><tr><td>Aud-M234</td><td>Aud</td></tr><tr><td>Toy-M103</td><td>Toy</td></tr><tr><td>For-M25</td><td>For</td></tr><tr><td>Ren-M129</td><td>Ren</td></tr><tr><td>Nis-M267</td><td>Nis</td></tr><tr><td>Hon-M68</td><td>Hon</td></tr><tr><td>Nis-M85</td><td>Nis</td></tr><tr><td>Hyu-M163</td><td>Hyu</td></tr><tr><td>Aud-M235</td><td>Aud</td></tr><tr><td>Lex-M99</td><td>Lex</td></tr><tr><td>Toy-M133</td><td>Toy</td></tr><tr><td>Kia-M76</td><td>Kia</td></tr><tr><td>Tat-M187</td><td>Tat</td></tr><tr><td>Jee-M10</td><td>Jee</td></tr><tr><td>Cit-M115</td><td>Cit</td></tr><tr><td>Sko-M274</td><td>Sko</td></tr><tr><td>Ren-M209</td><td>Ren</td></tr><tr><td>Hyu-M154</td><td>Hyu</td></tr><tr><td>Mer-M123</td><td>Mer</td></tr><tr><td>Mer-M7</td><td>Mer</td></tr><tr><td>Cad-M36</td><td>Cad</td></tr><tr><td>Ren-M208</td><td>Ren</td></tr><tr><td>For-M119</td><td>For</td></tr><tr><td>Hon-M67</td><td>Hon</td></tr><tr><td>Hyu-M162</td><td>Hyu</td></tr><tr><td>Toy-M203</td><td>Toy</td></tr><tr><td>Mar-M145</td><td>Mar</td></tr><tr><td>Che-M51</td><td>Che</td></tr><tr><td>Nis-M84</td><td>Nis</td></tr><tr><td>Mah-M177</td><td>Mah</td></tr><tr><td>Peu-M125</td><td>Peu</td></tr><tr><td>Toy-M198</td><td>Toy</td></tr><tr><td>Toy-M104</td><td>Toy</td></tr><tr><td>For-M16</td><td>For</td></tr><tr><td>BMW-M4</td><td>BMW</td></tr><tr><td>Nis-M88</td><td>Nis</td></tr><tr><td>Che-M114</td><td>Che</td></tr><tr><td>Aud-M233</td><td>Aud</td></tr><tr><td>Mar-M147</td><td>Mar</td></tr><tr><td>Nis-M269</td><td>Nis</td></tr><tr><td>Tes-M98</td><td>Tes</td></tr><tr><td>Acu-M60</td><td>Acu</td></tr><tr><td>Aud-M241</td><td>Aud</td></tr><tr><td>Mah-M175</td><td>Mah</td></tr><tr><td>Toy-M106</td><td>Toy</td></tr><tr><td>Hyu-M155</td><td>Hyu</td></tr><tr><td>Vol-M110</td><td>Vol</td></tr><tr><td>Mah-M171</td><td>Mah</td></tr><tr><td>Lin-M30</td><td>Lin</td></tr><tr><td>BMW-M242</td><td>BMW</td></tr><tr><td>For-M223</td><td>For</td></tr><tr><td>Ren-M127</td><td>Ren</td></tr><tr><td>Aud-M229</td><td>Aud</td></tr><tr><td>Mah-M168</td><td>Mah</td></tr><tr><td>For-M225</td><td>For</td></tr><tr><td>Aud-M232</td><td>Aud</td></tr><tr><td>Toy-M200</td><td>Toy</td></tr><tr><td>Kia-M77</td><td>Kia</td></tr><tr><td>BMW-M248</td><td>BMW</td></tr><tr><td>Hyu-M164</td><td>Hyu</td></tr><tr><td>Ren-M211</td><td>Ren</td></tr><tr><td>Mar-M149</td><td>Mar</td></tr><tr><td>GMC-M53</td><td>GMC</td></tr><tr><td>Mit-M275</td><td>Mit</td></tr><tr><td>Ren-M131</td><td>Ren</td></tr><tr><td>Tat-M186</td><td>Tat</td></tr><tr><td>Hon-M217</td><td>Hon</td></tr><tr><td>Mar-M152</td><td>Mar</td></tr><tr><td>Jee-M11</td><td>Jee</td></tr><tr><td>Vol-M135</td><td>Vol</td></tr><tr><td>Ren-M128</td><td>Ren</td></tr><tr><td>Cad-M38</td><td>Cad</td></tr><tr><td>Tat-M190</td><td>Tat</td></tr><tr><td>Hyu-M153</td><td>Hyu</td></tr><tr><td>Mer-M8</td><td>Mer</td></tr><tr><td>GMC-M55</td><td>GMC</td></tr><tr><td>Toy-M201</td><td>Toy</td></tr><tr><td>BMW-M244</td><td>BMW</td></tr><tr><td>Toy-M134</td><td>Toy</td></tr><tr><td>Agr-M111</td><td>Agr</td></tr><tr><td>Fia-M117</td><td>Fia</td></tr><tr><td>Mit-M276</td><td>Mit</td></tr><tr><td>Kia-M78</td><td>Kia</td></tr><tr><td>Aud-M230</td><td>Aud</td></tr><tr><td>Tat-M193</td><td>Tat</td></tr><tr><td>Ram-M15</td><td>Ram</td></tr><tr><td>For-M22</td><td>For</td></tr><tr><td>Acu-M62</td><td>Acu</td></tr><tr><td>Mah-M165</td><td>Mah</td></tr><tr><td>Fia-M118</td><td>Fia</td></tr><tr><td>Toy-M195</td><td>Toy</td></tr><tr><td>Che-M49</td><td>Che</td></tr><tr><td>Bui-M31</td><td>Bui</td></tr><tr><td>For-M26</td><td>For</td></tr><tr><td>Peu-M124</td><td>Peu</td></tr><tr><td>Nis-M83</td><td>Nis</td></tr><tr><td>Nis-M266</td><td>Nis</td></tr><tr><td>Mar-M142</td><td>Mar</td></tr><tr><td>For-M18</td><td>For</td></tr><tr><td>Jee-M253</td><td>Jee</td></tr><tr><td>Tat-M181</td><td>Tat</td></tr><tr><td>Hyu-M157</td><td>Hyu</td></tr><tr><td>Cad-M39</td><td>Cad</td></tr><tr><td>For-M221</td><td>For</td></tr><tr><td>Aud-M240</td><td>Aud</td></tr><tr><td>Ren-M210</td><td>Ren</td></tr><tr><td>Acu-M61</td><td>Acu</td></tr><tr><td>Toy-M102</td><td>Toy</td></tr><tr><td>Nis-M262</td><td>Nis</td></tr><tr><td>Hon-M216</td><td>Hon</td></tr><tr><td>MG-M252</td><td>MG</td></tr><tr><td>Mah-M178</td><td>Mah</td></tr><tr><td>Sub-M93</td><td>Sub</td></tr><tr><td>Kia-M213</td><td>Kia</td></tr><tr><td>Hyu-M75</td><td>Hyu</td></tr><tr><td>Mah-M170</td><td>Mah</td></tr><tr><td>Aud-M239</td><td>Aud</td></tr><tr><td>Tat-M180</td><td>Tat</td></tr><tr><td>Hyu-M74</td><td>Hyu</td></tr><tr><td>BMW-M1</td><td>BMW</td></tr><tr><td>Cad-M35</td><td>Cad</td></tr><tr><td>BMW-M246</td><td>BMW</td></tr><tr><td>Ren-M132</td><td>Ren</td></tr><tr><td>GMC-M58</td><td>GMC</td></tr><tr><td>Mar-M148</td><td>Mar</td></tr><tr><td>Hyu-M161</td><td>Hyu</td></tr><tr><td>Toy-M105</td><td>Toy</td></tr><tr><td>Aud-M228</td><td>Aud</td></tr><tr><td>Aud-M237</td><td>Aud</td></tr><tr><td>Nis-M89</td><td>Nis</td></tr><tr><td>Hyu-M72</td><td>Hyu</td></tr><tr><td>BMW-M243</td><td>BMW</td></tr><tr><td>Mar-M140</td><td>Mar</td></tr><tr><td>Toy-M196</td><td>Toy</td></tr><tr><td>Che-M42</td><td>Che</td></tr><tr><td>Tes-M97</td><td>Tes</td></tr><tr><td>Vol-M260</td><td>Vol</td></tr><tr><td>Mah-M176</td><td>Mah</td></tr><tr><td>Nis-M86</td><td>Nis</td></tr><tr><td>Hon-M64</td><td>Hon</td></tr><tr><td>MG-M251</td><td>MG</td></tr><tr><td>Mer-M121</td><td>Mer</td></tr><tr><td>Nis-M81</td><td>Nis</td></tr><tr><td>GMC-M54</td><td>GMC</td></tr><tr><td>Hon-M220</td><td>Hon</td></tr><tr><td>Che-M50</td><td>Che</td></tr><tr><td>Cad-M37</td><td>Cad</td></tr><tr><td>Hyu-M158</td><td>Hyu</td></tr><tr><td>Inf-M79</td><td>Inf</td></tr><tr><td>BMW-M2</td><td>BMW</td></tr><tr><td>GMC-M57</td><td>GMC</td></tr><tr><td>GMC-M52</td><td>GMC</td></tr><tr><td>Cit-M116</td><td>Cit</td></tr><tr><td>Mar-M144</td><td>Mar</td></tr><tr><td>For-M17</td><td>For</td></tr><tr><td>Tat-M184</td><td>Tat</td></tr><tr><td>Hyu-M159</td><td>Hyu</td></tr><tr><td>Tat-M183</td><td>Tat</td></tr><tr><td>Nis-M264</td><td>Nis</td></tr><tr><td>BMW-M5</td><td>BMW</td></tr><tr><td>Che-M43</td><td>Che</td></tr><tr><td>Mah-M169</td><td>Mah</td></tr><tr><td>Tat-M182</td><td>Tat</td></tr><tr><td>Tat-M188</td><td>Tat</td></tr><tr><td>Aud-M227</td><td>Aud</td></tr><tr><td>Mah-M166</td><td>Mah</td></tr><tr><td>Riv-M91</td><td>Riv</td></tr><tr><td>Hon-M71</td><td>Hon</td></tr><tr><td>Hyu-M73</td><td>Hyu</td></tr><tr><td>Hyu-M156</td><td>Hyu</td></tr><tr><td>Lin-M27</td><td>Lin</td></tr><tr><td>Cad-M34</td><td>Cad</td></tr><tr><td>Mar-M137</td><td>Mar</td></tr><tr><td>Mah-M173</td><td>Mah</td></tr><tr><td>Tat-M179</td><td>Tat</td></tr><tr><td>Sub-M94</td><td>Sub</td></tr><tr><td>Jee-M254</td><td>Jee</td></tr><tr><td>GMC-M56</td><td>GMC</td></tr><tr><td>Hyu-M160</td><td>Hyu</td></tr><tr><td>Vol-M109</td><td>Vol</td></tr><tr><td>Peu-M126</td><td>Peu</td></tr><tr><td>For-M222</td><td>For</td></tr><tr><td>Toy-M101</td><td>Toy</td></tr><tr><td>Kia-M214</td><td>Kia</td></tr><tr><td>Sub-M95</td><td>Sub</td></tr><tr><td>Mar-M143</td><td>Mar</td></tr><tr><td>Nis-M265</td><td>Nis</td></tr><tr><td>Hon-M65</td><td>Hon</td></tr><tr><td>Sko-M272</td><td>Sko</td></tr><tr><td>Che-M45</td><td>Che</td></tr><tr><td>Toy-M107</td><td>Toy</td></tr><tr><td>Jee-M12</td><td>Jee</td></tr><tr><td>Mit-M277</td><td>Mit</td></tr><tr><td>Hon-M66</td><td>Hon</td></tr><tr><td>Toy-M100</td><td>Toy</td></tr><tr><td>For-M19</td><td>For</td></tr><tr><td>Agr-M113</td><td>Agr</td></tr><tr><td>Toy-M204</td><td>Toy</td></tr><tr><td>Hon-M120</td><td>Hon</td></tr><tr><td>Sko-M271</td><td>Sko</td></tr><tr><td>Vol-M255</td><td>Vol</td></tr><tr><td>Toy-M199</td><td>Toy</td></tr><tr><td>Vol-M256</td><td>Vol</td></tr><tr><td>Sub-M92</td><td>Sub</td></tr><tr><td>Toy-M197</td><td>Toy</td></tr><tr><td>Mah-M172</td><td>Mah</td></tr><tr><td>Che-M48</td><td>Che</td></tr><tr><td>Nis-M87</td><td>Nis</td></tr><tr><td>Mar-M150</td><td>Mar</td></tr><tr><td>Acu-M63</td><td>Acu</td></tr><tr><td>BMW-M247</td><td>BMW</td></tr><tr><td>For-M226</td><td>For</td></tr><tr><td>Vol-M257</td><td>Vol</td></tr><tr><td>Vol-M259</td><td>Vol</td></tr><tr><td>Nis-M80</td><td>Nis</td></tr><tr><td>Kia-M212</td><td>Kia</td></tr><tr><td>Hon-M218</td><td>Hon</td></tr><tr><td>For-M24</td><td>For</td></tr><tr><td>Sko-M273</td><td>Sko</td></tr><tr><td>Lin-M29</td><td>Lin</td></tr><tr><td>Agr-M112</td><td>Agr</td></tr><tr><td>Tat-M189</td><td>Tat</td></tr><tr><td>Nis-M270</td><td>Nis</td></tr><tr><td>Riv-M90</td><td>Riv</td></tr><tr><td>Che-M44</td><td>Che</td></tr><tr><td>Aud-M238</td><td>Aud</td></tr><tr><td>Vol-M136</td><td>Vol</td></tr><tr><td>For-M21</td><td>For</td></tr><tr><td>For-M224</td><td>For</td></tr><tr><td>Che-M40</td><td>Che</td></tr><tr><td>Ren-M130</td><td>Ren</td></tr><tr><td>Hon-M219</td><td>Hon</td></tr><tr><td>Che-M46</td><td>Che</td></tr><tr><td>Mer-M6</td><td>Mer</td></tr><tr><td>Vol-M258</td><td>Vol</td></tr><tr><td>Jee-M13</td><td>Jee</td></tr><tr><td>Nis-M261</td><td>Nis</td></tr><tr><td>For-M20</td><td>For</td></tr><tr><td>Tat-M191</td><td>Tat</td></tr><tr><td>BMW-M245</td><td>BMW</td></tr><tr><td>Nis-M268</td><td>Nis</td></tr><tr><td>Cad-M33</td><td>Cad</td></tr></tbody></table></div>"
      ]
     },
     "metadata": {
      "application/vnd.databricks.v1+output": {
       "addedWidgets": {},
       "aggData": [],
       "aggError": "",
       "aggOverflow": false,
       "aggSchema": [],
       "aggSeriesLimitReached": false,
       "aggType": "",
       "arguments": {},
       "columnCustomDisplayInfos": {},
       "data": [
        [
         "Mah-M167",
         "Mah"
        ],
        [
         "Che-M47",
         "Che"
        ],
        [
         "Toy-M205",
         "Toy"
        ],
        [
         "BMW-M249",
         "BMW"
        ],
        [
         "Mer-M122",
         "Mer"
        ],
        [
         "Hon-M215",
         "Hon"
        ],
        [
         "Nis-M82",
         "Nis"
        ],
        [
         "Toy-M206",
         "Toy"
        ],
        [
         "Mar-M139",
         "Mar"
        ],
        [
         "Ren-M207",
         "Ren"
        ],
        [
         "Mar-M146",
         "Mar"
        ],
        [
         "Mar-M141",
         "Mar"
        ],
        [
         "Lin-M28",
         "Lin"
        ],
        [
         "Hon-M69",
         "Hon"
        ],
        [
         "Toy-M202",
         "Toy"
        ],
        [
         "Cad-M32",
         "Cad"
        ],
        [
         "Tat-M185",
         "Tat"
        ],
        [
         "Aud-M231",
         "Aud"
        ],
        [
         "Tat-M192",
         "Tat"
        ],
        [
         "Che-M41",
         "Che"
        ],
        [
         "Ram-M14",
         "Ram"
        ],
        [
         "Mar-M138",
         "Mar"
        ],
        [
         "Aud-M236",
         "Aud"
        ],
        [
         "Mar-M151",
         "Mar"
        ],
        [
         "Acu-M59",
         "Acu"
        ],
        [
         "Hon-M70",
         "Hon"
        ],
        [
         "Mah-M174",
         "Mah"
        ],
        [
         "Dod-M9",
         "Dod"
        ],
        [
         "Tes-M96",
         "Tes"
        ],
        [
         "Tat-M194",
         "Tat"
        ],
        [
         "For-M23",
         "For"
        ],
        [
         "BMW-M3",
         "BMW"
        ],
        [
         "Vol-M108",
         "Vol"
        ],
        [
         "Nis-M263",
         "Nis"
        ],
        [
         "BMW-M250",
         "BMW"
        ],
        [
         "Aud-M234",
         "Aud"
        ],
        [
         "Toy-M103",
         "Toy"
        ],
        [
         "For-M25",
         "For"
        ],
        [
         "Ren-M129",
         "Ren"
        ],
        [
         "Nis-M267",
         "Nis"
        ],
        [
         "Hon-M68",
         "Hon"
        ],
        [
         "Nis-M85",
         "Nis"
        ],
        [
         "Hyu-M163",
         "Hyu"
        ],
        [
         "Aud-M235",
         "Aud"
        ],
        [
         "Lex-M99",
         "Lex"
        ],
        [
         "Toy-M133",
         "Toy"
        ],
        [
         "Kia-M76",
         "Kia"
        ],
        [
         "Tat-M187",
         "Tat"
        ],
        [
         "Jee-M10",
         "Jee"
        ],
        [
         "Cit-M115",
         "Cit"
        ],
        [
         "Sko-M274",
         "Sko"
        ],
        [
         "Ren-M209",
         "Ren"
        ],
        [
         "Hyu-M154",
         "Hyu"
        ],
        [
         "Mer-M123",
         "Mer"
        ],
        [
         "Mer-M7",
         "Mer"
        ],
        [
         "Cad-M36",
         "Cad"
        ],
        [
         "Ren-M208",
         "Ren"
        ],
        [
         "For-M119",
         "For"
        ],
        [
         "Hon-M67",
         "Hon"
        ],
        [
         "Hyu-M162",
         "Hyu"
        ],
        [
         "Toy-M203",
         "Toy"
        ],
        [
         "Mar-M145",
         "Mar"
        ],
        [
         "Che-M51",
         "Che"
        ],
        [
         "Nis-M84",
         "Nis"
        ],
        [
         "Mah-M177",
         "Mah"
        ],
        [
         "Peu-M125",
         "Peu"
        ],
        [
         "Toy-M198",
         "Toy"
        ],
        [
         "Toy-M104",
         "Toy"
        ],
        [
         "For-M16",
         "For"
        ],
        [
         "BMW-M4",
         "BMW"
        ],
        [
         "Nis-M88",
         "Nis"
        ],
        [
         "Che-M114",
         "Che"
        ],
        [
         "Aud-M233",
         "Aud"
        ],
        [
         "Mar-M147",
         "Mar"
        ],
        [
         "Nis-M269",
         "Nis"
        ],
        [
         "Tes-M98",
         "Tes"
        ],
        [
         "Acu-M60",
         "Acu"
        ],
        [
         "Aud-M241",
         "Aud"
        ],
        [
         "Mah-M175",
         "Mah"
        ],
        [
         "Toy-M106",
         "Toy"
        ],
        [
         "Hyu-M155",
         "Hyu"
        ],
        [
         "Vol-M110",
         "Vol"
        ],
        [
         "Mah-M171",
         "Mah"
        ],
        [
         "Lin-M30",
         "Lin"
        ],
        [
         "BMW-M242",
         "BMW"
        ],
        [
         "For-M223",
         "For"
        ],
        [
         "Ren-M127",
         "Ren"
        ],
        [
         "Aud-M229",
         "Aud"
        ],
        [
         "Mah-M168",
         "Mah"
        ],
        [
         "For-M225",
         "For"
        ],
        [
         "Aud-M232",
         "Aud"
        ],
        [
         "Toy-M200",
         "Toy"
        ],
        [
         "Kia-M77",
         "Kia"
        ],
        [
         "BMW-M248",
         "BMW"
        ],
        [
         "Hyu-M164",
         "Hyu"
        ],
        [
         "Ren-M211",
         "Ren"
        ],
        [
         "Mar-M149",
         "Mar"
        ],
        [
         "GMC-M53",
         "GMC"
        ],
        [
         "Mit-M275",
         "Mit"
        ],
        [
         "Ren-M131",
         "Ren"
        ],
        [
         "Tat-M186",
         "Tat"
        ],
        [
         "Hon-M217",
         "Hon"
        ],
        [
         "Mar-M152",
         "Mar"
        ],
        [
         "Jee-M11",
         "Jee"
        ],
        [
         "Vol-M135",
         "Vol"
        ],
        [
         "Ren-M128",
         "Ren"
        ],
        [
         "Cad-M38",
         "Cad"
        ],
        [
         "Tat-M190",
         "Tat"
        ],
        [
         "Hyu-M153",
         "Hyu"
        ],
        [
         "Mer-M8",
         "Mer"
        ],
        [
         "GMC-M55",
         "GMC"
        ],
        [
         "Toy-M201",
         "Toy"
        ],
        [
         "BMW-M244",
         "BMW"
        ],
        [
         "Toy-M134",
         "Toy"
        ],
        [
         "Agr-M111",
         "Agr"
        ],
        [
         "Fia-M117",
         "Fia"
        ],
        [
         "Mit-M276",
         "Mit"
        ],
        [
         "Kia-M78",
         "Kia"
        ],
        [
         "Aud-M230",
         "Aud"
        ],
        [
         "Tat-M193",
         "Tat"
        ],
        [
         "Ram-M15",
         "Ram"
        ],
        [
         "For-M22",
         "For"
        ],
        [
         "Acu-M62",
         "Acu"
        ],
        [
         "Mah-M165",
         "Mah"
        ],
        [
         "Fia-M118",
         "Fia"
        ],
        [
         "Toy-M195",
         "Toy"
        ],
        [
         "Che-M49",
         "Che"
        ],
        [
         "Bui-M31",
         "Bui"
        ],
        [
         "For-M26",
         "For"
        ],
        [
         "Peu-M124",
         "Peu"
        ],
        [
         "Nis-M83",
         "Nis"
        ],
        [
         "Nis-M266",
         "Nis"
        ],
        [
         "Mar-M142",
         "Mar"
        ],
        [
         "For-M18",
         "For"
        ],
        [
         "Jee-M253",
         "Jee"
        ],
        [
         "Tat-M181",
         "Tat"
        ],
        [
         "Hyu-M157",
         "Hyu"
        ],
        [
         "Cad-M39",
         "Cad"
        ],
        [
         "For-M221",
         "For"
        ],
        [
         "Aud-M240",
         "Aud"
        ],
        [
         "Ren-M210",
         "Ren"
        ],
        [
         "Acu-M61",
         "Acu"
        ],
        [
         "Toy-M102",
         "Toy"
        ],
        [
         "Nis-M262",
         "Nis"
        ],
        [
         "Hon-M216",
         "Hon"
        ],
        [
         "MG-M252",
         "MG"
        ],
        [
         "Mah-M178",
         "Mah"
        ],
        [
         "Sub-M93",
         "Sub"
        ],
        [
         "Kia-M213",
         "Kia"
        ],
        [
         "Hyu-M75",
         "Hyu"
        ],
        [
         "Mah-M170",
         "Mah"
        ],
        [
         "Aud-M239",
         "Aud"
        ],
        [
         "Tat-M180",
         "Tat"
        ],
        [
         "Hyu-M74",
         "Hyu"
        ],
        [
         "BMW-M1",
         "BMW"
        ],
        [
         "Cad-M35",
         "Cad"
        ],
        [
         "BMW-M246",
         "BMW"
        ],
        [
         "Ren-M132",
         "Ren"
        ],
        [
         "GMC-M58",
         "GMC"
        ],
        [
         "Mar-M148",
         "Mar"
        ],
        [
         "Hyu-M161",
         "Hyu"
        ],
        [
         "Toy-M105",
         "Toy"
        ],
        [
         "Aud-M228",
         "Aud"
        ],
        [
         "Aud-M237",
         "Aud"
        ],
        [
         "Nis-M89",
         "Nis"
        ],
        [
         "Hyu-M72",
         "Hyu"
        ],
        [
         "BMW-M243",
         "BMW"
        ],
        [
         "Mar-M140",
         "Mar"
        ],
        [
         "Toy-M196",
         "Toy"
        ],
        [
         "Che-M42",
         "Che"
        ],
        [
         "Tes-M97",
         "Tes"
        ],
        [
         "Vol-M260",
         "Vol"
        ],
        [
         "Mah-M176",
         "Mah"
        ],
        [
         "Nis-M86",
         "Nis"
        ],
        [
         "Hon-M64",
         "Hon"
        ],
        [
         "MG-M251",
         "MG"
        ],
        [
         "Mer-M121",
         "Mer"
        ],
        [
         "Nis-M81",
         "Nis"
        ],
        [
         "GMC-M54",
         "GMC"
        ],
        [
         "Hon-M220",
         "Hon"
        ],
        [
         "Che-M50",
         "Che"
        ],
        [
         "Cad-M37",
         "Cad"
        ],
        [
         "Hyu-M158",
         "Hyu"
        ],
        [
         "Inf-M79",
         "Inf"
        ],
        [
         "BMW-M2",
         "BMW"
        ],
        [
         "GMC-M57",
         "GMC"
        ],
        [
         "GMC-M52",
         "GMC"
        ],
        [
         "Cit-M116",
         "Cit"
        ],
        [
         "Mar-M144",
         "Mar"
        ],
        [
         "For-M17",
         "For"
        ],
        [
         "Tat-M184",
         "Tat"
        ],
        [
         "Hyu-M159",
         "Hyu"
        ],
        [
         "Tat-M183",
         "Tat"
        ],
        [
         "Nis-M264",
         "Nis"
        ],
        [
         "BMW-M5",
         "BMW"
        ],
        [
         "Che-M43",
         "Che"
        ],
        [
         "Mah-M169",
         "Mah"
        ],
        [
         "Tat-M182",
         "Tat"
        ],
        [
         "Tat-M188",
         "Tat"
        ],
        [
         "Aud-M227",
         "Aud"
        ],
        [
         "Mah-M166",
         "Mah"
        ],
        [
         "Riv-M91",
         "Riv"
        ],
        [
         "Hon-M71",
         "Hon"
        ],
        [
         "Hyu-M73",
         "Hyu"
        ],
        [
         "Hyu-M156",
         "Hyu"
        ],
        [
         "Lin-M27",
         "Lin"
        ],
        [
         "Cad-M34",
         "Cad"
        ],
        [
         "Mar-M137",
         "Mar"
        ],
        [
         "Mah-M173",
         "Mah"
        ],
        [
         "Tat-M179",
         "Tat"
        ],
        [
         "Sub-M94",
         "Sub"
        ],
        [
         "Jee-M254",
         "Jee"
        ],
        [
         "GMC-M56",
         "GMC"
        ],
        [
         "Hyu-M160",
         "Hyu"
        ],
        [
         "Vol-M109",
         "Vol"
        ],
        [
         "Peu-M126",
         "Peu"
        ],
        [
         "For-M222",
         "For"
        ],
        [
         "Toy-M101",
         "Toy"
        ],
        [
         "Kia-M214",
         "Kia"
        ],
        [
         "Sub-M95",
         "Sub"
        ],
        [
         "Mar-M143",
         "Mar"
        ],
        [
         "Nis-M265",
         "Nis"
        ],
        [
         "Hon-M65",
         "Hon"
        ],
        [
         "Sko-M272",
         "Sko"
        ],
        [
         "Che-M45",
         "Che"
        ],
        [
         "Toy-M107",
         "Toy"
        ],
        [
         "Jee-M12",
         "Jee"
        ],
        [
         "Mit-M277",
         "Mit"
        ],
        [
         "Hon-M66",
         "Hon"
        ],
        [
         "Toy-M100",
         "Toy"
        ],
        [
         "For-M19",
         "For"
        ],
        [
         "Agr-M113",
         "Agr"
        ],
        [
         "Toy-M204",
         "Toy"
        ],
        [
         "Hon-M120",
         "Hon"
        ],
        [
         "Sko-M271",
         "Sko"
        ],
        [
         "Vol-M255",
         "Vol"
        ],
        [
         "Toy-M199",
         "Toy"
        ],
        [
         "Vol-M256",
         "Vol"
        ],
        [
         "Sub-M92",
         "Sub"
        ],
        [
         "Toy-M197",
         "Toy"
        ],
        [
         "Mah-M172",
         "Mah"
        ],
        [
         "Che-M48",
         "Che"
        ],
        [
         "Nis-M87",
         "Nis"
        ],
        [
         "Mar-M150",
         "Mar"
        ],
        [
         "Acu-M63",
         "Acu"
        ],
        [
         "BMW-M247",
         "BMW"
        ],
        [
         "For-M226",
         "For"
        ],
        [
         "Vol-M257",
         "Vol"
        ],
        [
         "Vol-M259",
         "Vol"
        ],
        [
         "Nis-M80",
         "Nis"
        ],
        [
         "Kia-M212",
         "Kia"
        ],
        [
         "Hon-M218",
         "Hon"
        ],
        [
         "For-M24",
         "For"
        ],
        [
         "Sko-M273",
         "Sko"
        ],
        [
         "Lin-M29",
         "Lin"
        ],
        [
         "Agr-M112",
         "Agr"
        ],
        [
         "Tat-M189",
         "Tat"
        ],
        [
         "Nis-M270",
         "Nis"
        ],
        [
         "Riv-M90",
         "Riv"
        ],
        [
         "Che-M44",
         "Che"
        ],
        [
         "Aud-M238",
         "Aud"
        ],
        [
         "Vol-M136",
         "Vol"
        ],
        [
         "For-M21",
         "For"
        ],
        [
         "For-M224",
         "For"
        ],
        [
         "Che-M40",
         "Che"
        ],
        [
         "Ren-M130",
         "Ren"
        ],
        [
         "Hon-M219",
         "Hon"
        ],
        [
         "Che-M46",
         "Che"
        ],
        [
         "Mer-M6",
         "Mer"
        ],
        [
         "Vol-M258",
         "Vol"
        ],
        [
         "Jee-M13",
         "Jee"
        ],
        [
         "Nis-M261",
         "Nis"
        ],
        [
         "For-M20",
         "For"
        ],
        [
         "Tat-M191",
         "Tat"
        ],
        [
         "BMW-M245",
         "BMW"
        ],
        [
         "Nis-M268",
         "Nis"
        ],
        [
         "Cad-M33",
         "Cad"
        ]
       ],
       "datasetInfos": [],
       "dbfsResultPath": null,
       "isJsonSchema": true,
       "metadata": {},
       "overflow": false,
       "plotOptions": {
        "customPlotOptions": {},
        "displayType": "table",
        "pivotAggregation": null,
        "pivotColumns": null,
        "xColumns": null,
        "yColumns": null
       },
       "removedWidgets": [],
       "schema": [
        {
         "metadata": "{}",
         "name": "Model_ID",
         "type": "\"string\""
        },
        {
         "metadata": "{}",
         "name": "model_category",
         "type": "\"string\""
        }
       ],
       "type": "table"
      }
     },
     "output_type": "display_data"
    }
   ],
   "source": [
    "df_filter_new.display()"
   ]
  },
  {
   "cell_type": "markdown",
   "metadata": {
    "application/vnd.databricks.v1+cell": {
     "cellMetadata": {
      "byteLimit": 2048000,
      "rowLimit": 10000
     },
     "inputWidgets": {},
     "nuid": "e4b7e4b5-b114-4630-b7ff-1914dda11bcc",
     "showTitle": false,
     "tableResultSettingsMap": {},
     "title": ""
    }
   },
   "source": [
    "## Create Surrogate Key"
   ]
  },
  {
   "cell_type": "markdown",
   "metadata": {
    "application/vnd.databricks.v1+cell": {
     "cellMetadata": {
      "byteLimit": 2048000,
      "rowLimit": 10000
     },
     "inputWidgets": {},
     "nuid": "c9a4cf99-9ac7-4620-a158-8c0b206e2848",
     "showTitle": false,
     "tableResultSettingsMap": {},
     "title": ""
    }
   },
   "source": [
    "**Fetch the max surrogate key from existing table**"
   ]
  },
  {
   "cell_type": "code",
   "execution_count": 0,
   "metadata": {
    "application/vnd.databricks.v1+cell": {
     "cellMetadata": {
      "byteLimit": 2048000,
      "rowLimit": 10000
     },
     "inputWidgets": {},
     "nuid": "3995e094-9a44-431c-81c3-77d956fd321b",
     "showTitle": false,
     "tableResultSettingsMap": {},
     "title": ""
    }
   },
   "outputs": [],
   "source": [
    "if(incremental_flag == '0'):\n",
    "    max_value = 1 \n",
    "else:\n",
    "    max_value_df = spark.sql(\"select max(dim_model_key) from cars_catalog.gold.dim_model\")\n",
    "    max_value = max_value_df.collect()[0][0]+1\n"
   ]
  },
  {
   "cell_type": "markdown",
   "metadata": {
    "application/vnd.databricks.v1+cell": {
     "cellMetadata": {
      "byteLimit": 2048000,
      "rowLimit": 10000
     },
     "inputWidgets": {},
     "nuid": "d9b013fd-d833-4916-98e9-977e2ec3724c",
     "showTitle": false,
     "tableResultSettingsMap": {},
     "title": ""
    }
   },
   "source": [
    "### Create Surrogate key column and ADD the max surrogate key"
   ]
  },
  {
   "cell_type": "code",
   "execution_count": 0,
   "metadata": {
    "application/vnd.databricks.v1+cell": {
     "cellMetadata": {
      "byteLimit": 2048000,
      "rowLimit": 10000
     },
     "inputWidgets": {},
     "nuid": "933faba4-1526-4b7e-ab59-aec05081c578",
     "showTitle": false,
     "tableResultSettingsMap": {},
     "title": ""
    }
   },
   "outputs": [],
   "source": [
    "df_filter_new = df_filter_new.withColumn('dim_model_key',max_value+monotonically_increasing_id())"
   ]
  },
  {
   "cell_type": "code",
   "execution_count": 0,
   "metadata": {
    "application/vnd.databricks.v1+cell": {
     "cellMetadata": {
      "byteLimit": 2048000,
      "rowLimit": 10000
     },
     "inputWidgets": {},
     "nuid": "0a78a050-2efb-420d-837e-b8201fd2a3b0",
     "showTitle": false,
     "tableResultSettingsMap": {},
     "title": ""
    }
   },
   "outputs": [
    {
     "output_type": "display_data",
     "data": {
      "text/html": [
       "<style scoped>\n",
       "  .table-result-container {\n",
       "    max-height: 300px;\n",
       "    overflow: auto;\n",
       "  }\n",
       "  table, th, td {\n",
       "    border: 1px solid black;\n",
       "    border-collapse: collapse;\n",
       "  }\n",
       "  th, td {\n",
       "    padding: 5px;\n",
       "  }\n",
       "  th {\n",
       "    text-align: left;\n",
       "  }\n",
       "</style><div class='table-result-container'><table class='table-result'><thead style='background-color: white'><tr><th>Model_ID</th><th>model_category</th><th>dim_model_key</th></tr></thead><tbody><tr><td>Mah-M167</td><td>Mah</td><td>1</td></tr><tr><td>Che-M47</td><td>Che</td><td>2</td></tr><tr><td>Toy-M205</td><td>Toy</td><td>3</td></tr><tr><td>BMW-M249</td><td>BMW</td><td>4</td></tr><tr><td>Mer-M122</td><td>Mer</td><td>5</td></tr><tr><td>Hon-M215</td><td>Hon</td><td>6</td></tr><tr><td>Nis-M82</td><td>Nis</td><td>7</td></tr><tr><td>Toy-M206</td><td>Toy</td><td>8</td></tr><tr><td>Mar-M139</td><td>Mar</td><td>9</td></tr><tr><td>Ren-M207</td><td>Ren</td><td>10</td></tr><tr><td>Mar-M146</td><td>Mar</td><td>11</td></tr><tr><td>Mar-M141</td><td>Mar</td><td>12</td></tr><tr><td>Lin-M28</td><td>Lin</td><td>13</td></tr><tr><td>Hon-M69</td><td>Hon</td><td>14</td></tr><tr><td>Toy-M202</td><td>Toy</td><td>15</td></tr><tr><td>Cad-M32</td><td>Cad</td><td>16</td></tr><tr><td>Tat-M185</td><td>Tat</td><td>17</td></tr><tr><td>Aud-M231</td><td>Aud</td><td>18</td></tr><tr><td>Tat-M192</td><td>Tat</td><td>19</td></tr><tr><td>Che-M41</td><td>Che</td><td>20</td></tr><tr><td>Ram-M14</td><td>Ram</td><td>21</td></tr><tr><td>Mar-M138</td><td>Mar</td><td>22</td></tr><tr><td>Aud-M236</td><td>Aud</td><td>23</td></tr><tr><td>Mar-M151</td><td>Mar</td><td>24</td></tr><tr><td>Acu-M59</td><td>Acu</td><td>25</td></tr><tr><td>Hon-M70</td><td>Hon</td><td>26</td></tr><tr><td>Mah-M174</td><td>Mah</td><td>27</td></tr><tr><td>Dod-M9</td><td>Dod</td><td>28</td></tr><tr><td>Tes-M96</td><td>Tes</td><td>29</td></tr><tr><td>Tat-M194</td><td>Tat</td><td>30</td></tr><tr><td>For-M23</td><td>For</td><td>31</td></tr><tr><td>BMW-M3</td><td>BMW</td><td>32</td></tr><tr><td>Vol-M108</td><td>Vol</td><td>33</td></tr><tr><td>Nis-M263</td><td>Nis</td><td>34</td></tr><tr><td>BMW-M250</td><td>BMW</td><td>35</td></tr><tr><td>Aud-M234</td><td>Aud</td><td>36</td></tr><tr><td>Toy-M103</td><td>Toy</td><td>37</td></tr><tr><td>For-M25</td><td>For</td><td>38</td></tr><tr><td>Ren-M129</td><td>Ren</td><td>39</td></tr><tr><td>Nis-M267</td><td>Nis</td><td>40</td></tr><tr><td>Hon-M68</td><td>Hon</td><td>41</td></tr><tr><td>Nis-M85</td><td>Nis</td><td>42</td></tr><tr><td>Hyu-M163</td><td>Hyu</td><td>43</td></tr><tr><td>Aud-M235</td><td>Aud</td><td>44</td></tr><tr><td>Lex-M99</td><td>Lex</td><td>45</td></tr><tr><td>Toy-M133</td><td>Toy</td><td>46</td></tr><tr><td>Kia-M76</td><td>Kia</td><td>47</td></tr><tr><td>Tat-M187</td><td>Tat</td><td>48</td></tr><tr><td>Jee-M10</td><td>Jee</td><td>49</td></tr><tr><td>Cit-M115</td><td>Cit</td><td>50</td></tr><tr><td>Sko-M274</td><td>Sko</td><td>51</td></tr><tr><td>Ren-M209</td><td>Ren</td><td>52</td></tr><tr><td>Hyu-M154</td><td>Hyu</td><td>53</td></tr><tr><td>Mer-M123</td><td>Mer</td><td>54</td></tr><tr><td>Mer-M7</td><td>Mer</td><td>55</td></tr><tr><td>Cad-M36</td><td>Cad</td><td>56</td></tr><tr><td>Ren-M208</td><td>Ren</td><td>57</td></tr><tr><td>For-M119</td><td>For</td><td>58</td></tr><tr><td>Hon-M67</td><td>Hon</td><td>59</td></tr><tr><td>Hyu-M162</td><td>Hyu</td><td>60</td></tr><tr><td>Toy-M203</td><td>Toy</td><td>61</td></tr><tr><td>Mar-M145</td><td>Mar</td><td>62</td></tr><tr><td>Che-M51</td><td>Che</td><td>63</td></tr><tr><td>Nis-M84</td><td>Nis</td><td>64</td></tr><tr><td>Mah-M177</td><td>Mah</td><td>65</td></tr><tr><td>Peu-M125</td><td>Peu</td><td>66</td></tr><tr><td>Toy-M198</td><td>Toy</td><td>67</td></tr><tr><td>Toy-M104</td><td>Toy</td><td>68</td></tr><tr><td>For-M16</td><td>For</td><td>69</td></tr><tr><td>BMW-M4</td><td>BMW</td><td>70</td></tr><tr><td>Nis-M88</td><td>Nis</td><td>71</td></tr><tr><td>Che-M114</td><td>Che</td><td>72</td></tr><tr><td>Aud-M233</td><td>Aud</td><td>73</td></tr><tr><td>Mar-M147</td><td>Mar</td><td>74</td></tr><tr><td>Nis-M269</td><td>Nis</td><td>75</td></tr><tr><td>Tes-M98</td><td>Tes</td><td>76</td></tr><tr><td>Acu-M60</td><td>Acu</td><td>77</td></tr><tr><td>Aud-M241</td><td>Aud</td><td>78</td></tr><tr><td>Mah-M175</td><td>Mah</td><td>79</td></tr><tr><td>Toy-M106</td><td>Toy</td><td>80</td></tr><tr><td>Hyu-M155</td><td>Hyu</td><td>81</td></tr><tr><td>Vol-M110</td><td>Vol</td><td>82</td></tr><tr><td>Mah-M171</td><td>Mah</td><td>83</td></tr><tr><td>Lin-M30</td><td>Lin</td><td>84</td></tr><tr><td>BMW-M242</td><td>BMW</td><td>85</td></tr><tr><td>For-M223</td><td>For</td><td>86</td></tr><tr><td>Ren-M127</td><td>Ren</td><td>87</td></tr><tr><td>Aud-M229</td><td>Aud</td><td>88</td></tr><tr><td>Mah-M168</td><td>Mah</td><td>89</td></tr><tr><td>For-M225</td><td>For</td><td>90</td></tr><tr><td>Aud-M232</td><td>Aud</td><td>91</td></tr><tr><td>Toy-M200</td><td>Toy</td><td>92</td></tr><tr><td>Kia-M77</td><td>Kia</td><td>93</td></tr><tr><td>BMW-M248</td><td>BMW</td><td>94</td></tr><tr><td>Hyu-M164</td><td>Hyu</td><td>95</td></tr><tr><td>Ren-M211</td><td>Ren</td><td>96</td></tr><tr><td>Mar-M149</td><td>Mar</td><td>97</td></tr><tr><td>GMC-M53</td><td>GMC</td><td>98</td></tr><tr><td>Mit-M275</td><td>Mit</td><td>99</td></tr><tr><td>Ren-M131</td><td>Ren</td><td>100</td></tr><tr><td>Tat-M186</td><td>Tat</td><td>101</td></tr><tr><td>Hon-M217</td><td>Hon</td><td>102</td></tr><tr><td>Mar-M152</td><td>Mar</td><td>103</td></tr><tr><td>Jee-M11</td><td>Jee</td><td>104</td></tr><tr><td>Vol-M135</td><td>Vol</td><td>105</td></tr><tr><td>Ren-M128</td><td>Ren</td><td>106</td></tr><tr><td>Cad-M38</td><td>Cad</td><td>107</td></tr><tr><td>Tat-M190</td><td>Tat</td><td>108</td></tr><tr><td>Hyu-M153</td><td>Hyu</td><td>109</td></tr><tr><td>Mer-M8</td><td>Mer</td><td>110</td></tr><tr><td>GMC-M55</td><td>GMC</td><td>111</td></tr><tr><td>Toy-M201</td><td>Toy</td><td>112</td></tr><tr><td>BMW-M244</td><td>BMW</td><td>113</td></tr><tr><td>Toy-M134</td><td>Toy</td><td>114</td></tr><tr><td>Agr-M111</td><td>Agr</td><td>115</td></tr><tr><td>Fia-M117</td><td>Fia</td><td>116</td></tr><tr><td>Mit-M276</td><td>Mit</td><td>117</td></tr><tr><td>Kia-M78</td><td>Kia</td><td>118</td></tr><tr><td>Aud-M230</td><td>Aud</td><td>119</td></tr><tr><td>Tat-M193</td><td>Tat</td><td>120</td></tr><tr><td>Ram-M15</td><td>Ram</td><td>121</td></tr><tr><td>For-M22</td><td>For</td><td>122</td></tr><tr><td>Acu-M62</td><td>Acu</td><td>123</td></tr><tr><td>Mah-M165</td><td>Mah</td><td>124</td></tr><tr><td>Fia-M118</td><td>Fia</td><td>125</td></tr><tr><td>Toy-M195</td><td>Toy</td><td>126</td></tr><tr><td>Che-M49</td><td>Che</td><td>127</td></tr><tr><td>Bui-M31</td><td>Bui</td><td>128</td></tr><tr><td>For-M26</td><td>For</td><td>129</td></tr><tr><td>Peu-M124</td><td>Peu</td><td>130</td></tr><tr><td>Nis-M83</td><td>Nis</td><td>131</td></tr><tr><td>Nis-M266</td><td>Nis</td><td>132</td></tr><tr><td>Mar-M142</td><td>Mar</td><td>133</td></tr><tr><td>For-M18</td><td>For</td><td>134</td></tr><tr><td>Jee-M253</td><td>Jee</td><td>135</td></tr><tr><td>Tat-M181</td><td>Tat</td><td>136</td></tr><tr><td>Hyu-M157</td><td>Hyu</td><td>137</td></tr><tr><td>Cad-M39</td><td>Cad</td><td>138</td></tr><tr><td>For-M221</td><td>For</td><td>139</td></tr><tr><td>Aud-M240</td><td>Aud</td><td>140</td></tr><tr><td>Ren-M210</td><td>Ren</td><td>141</td></tr><tr><td>Acu-M61</td><td>Acu</td><td>142</td></tr><tr><td>Toy-M102</td><td>Toy</td><td>143</td></tr><tr><td>Nis-M262</td><td>Nis</td><td>144</td></tr><tr><td>Hon-M216</td><td>Hon</td><td>145</td></tr><tr><td>MG-M252</td><td>MG</td><td>146</td></tr><tr><td>Mah-M178</td><td>Mah</td><td>147</td></tr><tr><td>Sub-M93</td><td>Sub</td><td>148</td></tr><tr><td>Kia-M213</td><td>Kia</td><td>149</td></tr><tr><td>Hyu-M75</td><td>Hyu</td><td>150</td></tr><tr><td>Mah-M170</td><td>Mah</td><td>151</td></tr><tr><td>Aud-M239</td><td>Aud</td><td>152</td></tr><tr><td>Tat-M180</td><td>Tat</td><td>153</td></tr><tr><td>Hyu-M74</td><td>Hyu</td><td>154</td></tr><tr><td>BMW-M1</td><td>BMW</td><td>155</td></tr><tr><td>Cad-M35</td><td>Cad</td><td>156</td></tr><tr><td>BMW-M246</td><td>BMW</td><td>157</td></tr><tr><td>Ren-M132</td><td>Ren</td><td>158</td></tr><tr><td>GMC-M58</td><td>GMC</td><td>159</td></tr><tr><td>Mar-M148</td><td>Mar</td><td>160</td></tr><tr><td>Hyu-M161</td><td>Hyu</td><td>161</td></tr><tr><td>Toy-M105</td><td>Toy</td><td>162</td></tr><tr><td>Aud-M228</td><td>Aud</td><td>163</td></tr><tr><td>Aud-M237</td><td>Aud</td><td>164</td></tr><tr><td>Nis-M89</td><td>Nis</td><td>165</td></tr><tr><td>Hyu-M72</td><td>Hyu</td><td>166</td></tr><tr><td>BMW-M243</td><td>BMW</td><td>167</td></tr><tr><td>Mar-M140</td><td>Mar</td><td>168</td></tr><tr><td>Toy-M196</td><td>Toy</td><td>169</td></tr><tr><td>Che-M42</td><td>Che</td><td>170</td></tr><tr><td>Tes-M97</td><td>Tes</td><td>171</td></tr><tr><td>Vol-M260</td><td>Vol</td><td>172</td></tr><tr><td>Mah-M176</td><td>Mah</td><td>173</td></tr><tr><td>Nis-M86</td><td>Nis</td><td>174</td></tr><tr><td>Hon-M64</td><td>Hon</td><td>175</td></tr><tr><td>MG-M251</td><td>MG</td><td>176</td></tr><tr><td>Mer-M121</td><td>Mer</td><td>177</td></tr><tr><td>Nis-M81</td><td>Nis</td><td>178</td></tr><tr><td>GMC-M54</td><td>GMC</td><td>179</td></tr><tr><td>Hon-M220</td><td>Hon</td><td>180</td></tr><tr><td>Che-M50</td><td>Che</td><td>181</td></tr><tr><td>Cad-M37</td><td>Cad</td><td>182</td></tr><tr><td>Hyu-M158</td><td>Hyu</td><td>183</td></tr><tr><td>Inf-M79</td><td>Inf</td><td>184</td></tr><tr><td>BMW-M2</td><td>BMW</td><td>185</td></tr><tr><td>GMC-M57</td><td>GMC</td><td>186</td></tr><tr><td>GMC-M52</td><td>GMC</td><td>187</td></tr><tr><td>Cit-M116</td><td>Cit</td><td>188</td></tr><tr><td>Mar-M144</td><td>Mar</td><td>189</td></tr><tr><td>For-M17</td><td>For</td><td>190</td></tr><tr><td>Tat-M184</td><td>Tat</td><td>191</td></tr><tr><td>Hyu-M159</td><td>Hyu</td><td>192</td></tr><tr><td>Tat-M183</td><td>Tat</td><td>193</td></tr><tr><td>Nis-M264</td><td>Nis</td><td>194</td></tr><tr><td>BMW-M5</td><td>BMW</td><td>195</td></tr><tr><td>Che-M43</td><td>Che</td><td>196</td></tr><tr><td>Mah-M169</td><td>Mah</td><td>197</td></tr><tr><td>Tat-M182</td><td>Tat</td><td>198</td></tr><tr><td>Tat-M188</td><td>Tat</td><td>199</td></tr><tr><td>Aud-M227</td><td>Aud</td><td>200</td></tr><tr><td>Mah-M166</td><td>Mah</td><td>201</td></tr><tr><td>Riv-M91</td><td>Riv</td><td>202</td></tr><tr><td>Hon-M71</td><td>Hon</td><td>203</td></tr><tr><td>Hyu-M73</td><td>Hyu</td><td>204</td></tr><tr><td>Hyu-M156</td><td>Hyu</td><td>205</td></tr><tr><td>Lin-M27</td><td>Lin</td><td>206</td></tr><tr><td>Cad-M34</td><td>Cad</td><td>207</td></tr><tr><td>Mar-M137</td><td>Mar</td><td>208</td></tr><tr><td>Mah-M173</td><td>Mah</td><td>209</td></tr><tr><td>Tat-M179</td><td>Tat</td><td>210</td></tr><tr><td>Sub-M94</td><td>Sub</td><td>211</td></tr><tr><td>Jee-M254</td><td>Jee</td><td>212</td></tr><tr><td>GMC-M56</td><td>GMC</td><td>213</td></tr><tr><td>Hyu-M160</td><td>Hyu</td><td>214</td></tr><tr><td>Vol-M109</td><td>Vol</td><td>215</td></tr><tr><td>Peu-M126</td><td>Peu</td><td>216</td></tr><tr><td>For-M222</td><td>For</td><td>217</td></tr><tr><td>Toy-M101</td><td>Toy</td><td>218</td></tr><tr><td>Kia-M214</td><td>Kia</td><td>219</td></tr><tr><td>Sub-M95</td><td>Sub</td><td>220</td></tr><tr><td>Mar-M143</td><td>Mar</td><td>221</td></tr><tr><td>Nis-M265</td><td>Nis</td><td>222</td></tr><tr><td>Hon-M65</td><td>Hon</td><td>223</td></tr><tr><td>Sko-M272</td><td>Sko</td><td>224</td></tr><tr><td>Che-M45</td><td>Che</td><td>225</td></tr><tr><td>Toy-M107</td><td>Toy</td><td>226</td></tr><tr><td>Jee-M12</td><td>Jee</td><td>227</td></tr><tr><td>Mit-M277</td><td>Mit</td><td>228</td></tr><tr><td>Hon-M66</td><td>Hon</td><td>229</td></tr><tr><td>Toy-M100</td><td>Toy</td><td>230</td></tr><tr><td>For-M19</td><td>For</td><td>231</td></tr><tr><td>Agr-M113</td><td>Agr</td><td>232</td></tr><tr><td>Toy-M204</td><td>Toy</td><td>233</td></tr><tr><td>Hon-M120</td><td>Hon</td><td>234</td></tr><tr><td>Sko-M271</td><td>Sko</td><td>235</td></tr><tr><td>Vol-M255</td><td>Vol</td><td>236</td></tr><tr><td>Toy-M199</td><td>Toy</td><td>237</td></tr><tr><td>Vol-M256</td><td>Vol</td><td>238</td></tr><tr><td>Sub-M92</td><td>Sub</td><td>239</td></tr><tr><td>Toy-M197</td><td>Toy</td><td>240</td></tr><tr><td>Mah-M172</td><td>Mah</td><td>241</td></tr><tr><td>Che-M48</td><td>Che</td><td>242</td></tr><tr><td>Nis-M87</td><td>Nis</td><td>243</td></tr><tr><td>Mar-M150</td><td>Mar</td><td>244</td></tr><tr><td>Acu-M63</td><td>Acu</td><td>245</td></tr><tr><td>BMW-M247</td><td>BMW</td><td>246</td></tr><tr><td>For-M226</td><td>For</td><td>247</td></tr><tr><td>Vol-M257</td><td>Vol</td><td>248</td></tr><tr><td>Vol-M259</td><td>Vol</td><td>249</td></tr><tr><td>Nis-M80</td><td>Nis</td><td>250</td></tr><tr><td>Kia-M212</td><td>Kia</td><td>251</td></tr><tr><td>Hon-M218</td><td>Hon</td><td>252</td></tr><tr><td>For-M24</td><td>For</td><td>253</td></tr><tr><td>Sko-M273</td><td>Sko</td><td>254</td></tr><tr><td>Lin-M29</td><td>Lin</td><td>255</td></tr><tr><td>Agr-M112</td><td>Agr</td><td>256</td></tr><tr><td>Tat-M189</td><td>Tat</td><td>257</td></tr><tr><td>Nis-M270</td><td>Nis</td><td>258</td></tr><tr><td>Riv-M90</td><td>Riv</td><td>259</td></tr><tr><td>Che-M44</td><td>Che</td><td>260</td></tr><tr><td>Aud-M238</td><td>Aud</td><td>261</td></tr><tr><td>Vol-M136</td><td>Vol</td><td>262</td></tr><tr><td>For-M21</td><td>For</td><td>263</td></tr><tr><td>For-M224</td><td>For</td><td>264</td></tr><tr><td>Che-M40</td><td>Che</td><td>265</td></tr><tr><td>Ren-M130</td><td>Ren</td><td>266</td></tr><tr><td>Hon-M219</td><td>Hon</td><td>267</td></tr><tr><td>Che-M46</td><td>Che</td><td>268</td></tr><tr><td>Mer-M6</td><td>Mer</td><td>269</td></tr><tr><td>Vol-M258</td><td>Vol</td><td>270</td></tr><tr><td>Jee-M13</td><td>Jee</td><td>271</td></tr><tr><td>Nis-M261</td><td>Nis</td><td>272</td></tr><tr><td>For-M20</td><td>For</td><td>273</td></tr><tr><td>Tat-M191</td><td>Tat</td><td>274</td></tr><tr><td>BMW-M245</td><td>BMW</td><td>275</td></tr><tr><td>Nis-M268</td><td>Nis</td><td>276</td></tr><tr><td>Cad-M33</td><td>Cad</td><td>277</td></tr></tbody></table></div>"
      ]
     },
     "metadata": {
      "application/vnd.databricks.v1+output": {
       "addedWidgets": {},
       "aggData": [],
       "aggError": "",
       "aggOverflow": false,
       "aggSchema": [],
       "aggSeriesLimitReached": false,
       "aggType": "",
       "arguments": {},
       "columnCustomDisplayInfos": {},
       "data": [
        [
         "Mah-M167",
         "Mah",
         1
        ],
        [
         "Che-M47",
         "Che",
         2
        ],
        [
         "Toy-M205",
         "Toy",
         3
        ],
        [
         "BMW-M249",
         "BMW",
         4
        ],
        [
         "Mer-M122",
         "Mer",
         5
        ],
        [
         "Hon-M215",
         "Hon",
         6
        ],
        [
         "Nis-M82",
         "Nis",
         7
        ],
        [
         "Toy-M206",
         "Toy",
         8
        ],
        [
         "Mar-M139",
         "Mar",
         9
        ],
        [
         "Ren-M207",
         "Ren",
         10
        ],
        [
         "Mar-M146",
         "Mar",
         11
        ],
        [
         "Mar-M141",
         "Mar",
         12
        ],
        [
         "Lin-M28",
         "Lin",
         13
        ],
        [
         "Hon-M69",
         "Hon",
         14
        ],
        [
         "Toy-M202",
         "Toy",
         15
        ],
        [
         "Cad-M32",
         "Cad",
         16
        ],
        [
         "Tat-M185",
         "Tat",
         17
        ],
        [
         "Aud-M231",
         "Aud",
         18
        ],
        [
         "Tat-M192",
         "Tat",
         19
        ],
        [
         "Che-M41",
         "Che",
         20
        ],
        [
         "Ram-M14",
         "Ram",
         21
        ],
        [
         "Mar-M138",
         "Mar",
         22
        ],
        [
         "Aud-M236",
         "Aud",
         23
        ],
        [
         "Mar-M151",
         "Mar",
         24
        ],
        [
         "Acu-M59",
         "Acu",
         25
        ],
        [
         "Hon-M70",
         "Hon",
         26
        ],
        [
         "Mah-M174",
         "Mah",
         27
        ],
        [
         "Dod-M9",
         "Dod",
         28
        ],
        [
         "Tes-M96",
         "Tes",
         29
        ],
        [
         "Tat-M194",
         "Tat",
         30
        ],
        [
         "For-M23",
         "For",
         31
        ],
        [
         "BMW-M3",
         "BMW",
         32
        ],
        [
         "Vol-M108",
         "Vol",
         33
        ],
        [
         "Nis-M263",
         "Nis",
         34
        ],
        [
         "BMW-M250",
         "BMW",
         35
        ],
        [
         "Aud-M234",
         "Aud",
         36
        ],
        [
         "Toy-M103",
         "Toy",
         37
        ],
        [
         "For-M25",
         "For",
         38
        ],
        [
         "Ren-M129",
         "Ren",
         39
        ],
        [
         "Nis-M267",
         "Nis",
         40
        ],
        [
         "Hon-M68",
         "Hon",
         41
        ],
        [
         "Nis-M85",
         "Nis",
         42
        ],
        [
         "Hyu-M163",
         "Hyu",
         43
        ],
        [
         "Aud-M235",
         "Aud",
         44
        ],
        [
         "Lex-M99",
         "Lex",
         45
        ],
        [
         "Toy-M133",
         "Toy",
         46
        ],
        [
         "Kia-M76",
         "Kia",
         47
        ],
        [
         "Tat-M187",
         "Tat",
         48
        ],
        [
         "Jee-M10",
         "Jee",
         49
        ],
        [
         "Cit-M115",
         "Cit",
         50
        ],
        [
         "Sko-M274",
         "Sko",
         51
        ],
        [
         "Ren-M209",
         "Ren",
         52
        ],
        [
         "Hyu-M154",
         "Hyu",
         53
        ],
        [
         "Mer-M123",
         "Mer",
         54
        ],
        [
         "Mer-M7",
         "Mer",
         55
        ],
        [
         "Cad-M36",
         "Cad",
         56
        ],
        [
         "Ren-M208",
         "Ren",
         57
        ],
        [
         "For-M119",
         "For",
         58
        ],
        [
         "Hon-M67",
         "Hon",
         59
        ],
        [
         "Hyu-M162",
         "Hyu",
         60
        ],
        [
         "Toy-M203",
         "Toy",
         61
        ],
        [
         "Mar-M145",
         "Mar",
         62
        ],
        [
         "Che-M51",
         "Che",
         63
        ],
        [
         "Nis-M84",
         "Nis",
         64
        ],
        [
         "Mah-M177",
         "Mah",
         65
        ],
        [
         "Peu-M125",
         "Peu",
         66
        ],
        [
         "Toy-M198",
         "Toy",
         67
        ],
        [
         "Toy-M104",
         "Toy",
         68
        ],
        [
         "For-M16",
         "For",
         69
        ],
        [
         "BMW-M4",
         "BMW",
         70
        ],
        [
         "Nis-M88",
         "Nis",
         71
        ],
        [
         "Che-M114",
         "Che",
         72
        ],
        [
         "Aud-M233",
         "Aud",
         73
        ],
        [
         "Mar-M147",
         "Mar",
         74
        ],
        [
         "Nis-M269",
         "Nis",
         75
        ],
        [
         "Tes-M98",
         "Tes",
         76
        ],
        [
         "Acu-M60",
         "Acu",
         77
        ],
        [
         "Aud-M241",
         "Aud",
         78
        ],
        [
         "Mah-M175",
         "Mah",
         79
        ],
        [
         "Toy-M106",
         "Toy",
         80
        ],
        [
         "Hyu-M155",
         "Hyu",
         81
        ],
        [
         "Vol-M110",
         "Vol",
         82
        ],
        [
         "Mah-M171",
         "Mah",
         83
        ],
        [
         "Lin-M30",
         "Lin",
         84
        ],
        [
         "BMW-M242",
         "BMW",
         85
        ],
        [
         "For-M223",
         "For",
         86
        ],
        [
         "Ren-M127",
         "Ren",
         87
        ],
        [
         "Aud-M229",
         "Aud",
         88
        ],
        [
         "Mah-M168",
         "Mah",
         89
        ],
        [
         "For-M225",
         "For",
         90
        ],
        [
         "Aud-M232",
         "Aud",
         91
        ],
        [
         "Toy-M200",
         "Toy",
         92
        ],
        [
         "Kia-M77",
         "Kia",
         93
        ],
        [
         "BMW-M248",
         "BMW",
         94
        ],
        [
         "Hyu-M164",
         "Hyu",
         95
        ],
        [
         "Ren-M211",
         "Ren",
         96
        ],
        [
         "Mar-M149",
         "Mar",
         97
        ],
        [
         "GMC-M53",
         "GMC",
         98
        ],
        [
         "Mit-M275",
         "Mit",
         99
        ],
        [
         "Ren-M131",
         "Ren",
         100
        ],
        [
         "Tat-M186",
         "Tat",
         101
        ],
        [
         "Hon-M217",
         "Hon",
         102
        ],
        [
         "Mar-M152",
         "Mar",
         103
        ],
        [
         "Jee-M11",
         "Jee",
         104
        ],
        [
         "Vol-M135",
         "Vol",
         105
        ],
        [
         "Ren-M128",
         "Ren",
         106
        ],
        [
         "Cad-M38",
         "Cad",
         107
        ],
        [
         "Tat-M190",
         "Tat",
         108
        ],
        [
         "Hyu-M153",
         "Hyu",
         109
        ],
        [
         "Mer-M8",
         "Mer",
         110
        ],
        [
         "GMC-M55",
         "GMC",
         111
        ],
        [
         "Toy-M201",
         "Toy",
         112
        ],
        [
         "BMW-M244",
         "BMW",
         113
        ],
        [
         "Toy-M134",
         "Toy",
         114
        ],
        [
         "Agr-M111",
         "Agr",
         115
        ],
        [
         "Fia-M117",
         "Fia",
         116
        ],
        [
         "Mit-M276",
         "Mit",
         117
        ],
        [
         "Kia-M78",
         "Kia",
         118
        ],
        [
         "Aud-M230",
         "Aud",
         119
        ],
        [
         "Tat-M193",
         "Tat",
         120
        ],
        [
         "Ram-M15",
         "Ram",
         121
        ],
        [
         "For-M22",
         "For",
         122
        ],
        [
         "Acu-M62",
         "Acu",
         123
        ],
        [
         "Mah-M165",
         "Mah",
         124
        ],
        [
         "Fia-M118",
         "Fia",
         125
        ],
        [
         "Toy-M195",
         "Toy",
         126
        ],
        [
         "Che-M49",
         "Che",
         127
        ],
        [
         "Bui-M31",
         "Bui",
         128
        ],
        [
         "For-M26",
         "For",
         129
        ],
        [
         "Peu-M124",
         "Peu",
         130
        ],
        [
         "Nis-M83",
         "Nis",
         131
        ],
        [
         "Nis-M266",
         "Nis",
         132
        ],
        [
         "Mar-M142",
         "Mar",
         133
        ],
        [
         "For-M18",
         "For",
         134
        ],
        [
         "Jee-M253",
         "Jee",
         135
        ],
        [
         "Tat-M181",
         "Tat",
         136
        ],
        [
         "Hyu-M157",
         "Hyu",
         137
        ],
        [
         "Cad-M39",
         "Cad",
         138
        ],
        [
         "For-M221",
         "For",
         139
        ],
        [
         "Aud-M240",
         "Aud",
         140
        ],
        [
         "Ren-M210",
         "Ren",
         141
        ],
        [
         "Acu-M61",
         "Acu",
         142
        ],
        [
         "Toy-M102",
         "Toy",
         143
        ],
        [
         "Nis-M262",
         "Nis",
         144
        ],
        [
         "Hon-M216",
         "Hon",
         145
        ],
        [
         "MG-M252",
         "MG",
         146
        ],
        [
         "Mah-M178",
         "Mah",
         147
        ],
        [
         "Sub-M93",
         "Sub",
         148
        ],
        [
         "Kia-M213",
         "Kia",
         149
        ],
        [
         "Hyu-M75",
         "Hyu",
         150
        ],
        [
         "Mah-M170",
         "Mah",
         151
        ],
        [
         "Aud-M239",
         "Aud",
         152
        ],
        [
         "Tat-M180",
         "Tat",
         153
        ],
        [
         "Hyu-M74",
         "Hyu",
         154
        ],
        [
         "BMW-M1",
         "BMW",
         155
        ],
        [
         "Cad-M35",
         "Cad",
         156
        ],
        [
         "BMW-M246",
         "BMW",
         157
        ],
        [
         "Ren-M132",
         "Ren",
         158
        ],
        [
         "GMC-M58",
         "GMC",
         159
        ],
        [
         "Mar-M148",
         "Mar",
         160
        ],
        [
         "Hyu-M161",
         "Hyu",
         161
        ],
        [
         "Toy-M105",
         "Toy",
         162
        ],
        [
         "Aud-M228",
         "Aud",
         163
        ],
        [
         "Aud-M237",
         "Aud",
         164
        ],
        [
         "Nis-M89",
         "Nis",
         165
        ],
        [
         "Hyu-M72",
         "Hyu",
         166
        ],
        [
         "BMW-M243",
         "BMW",
         167
        ],
        [
         "Mar-M140",
         "Mar",
         168
        ],
        [
         "Toy-M196",
         "Toy",
         169
        ],
        [
         "Che-M42",
         "Che",
         170
        ],
        [
         "Tes-M97",
         "Tes",
         171
        ],
        [
         "Vol-M260",
         "Vol",
         172
        ],
        [
         "Mah-M176",
         "Mah",
         173
        ],
        [
         "Nis-M86",
         "Nis",
         174
        ],
        [
         "Hon-M64",
         "Hon",
         175
        ],
        [
         "MG-M251",
         "MG",
         176
        ],
        [
         "Mer-M121",
         "Mer",
         177
        ],
        [
         "Nis-M81",
         "Nis",
         178
        ],
        [
         "GMC-M54",
         "GMC",
         179
        ],
        [
         "Hon-M220",
         "Hon",
         180
        ],
        [
         "Che-M50",
         "Che",
         181
        ],
        [
         "Cad-M37",
         "Cad",
         182
        ],
        [
         "Hyu-M158",
         "Hyu",
         183
        ],
        [
         "Inf-M79",
         "Inf",
         184
        ],
        [
         "BMW-M2",
         "BMW",
         185
        ],
        [
         "GMC-M57",
         "GMC",
         186
        ],
        [
         "GMC-M52",
         "GMC",
         187
        ],
        [
         "Cit-M116",
         "Cit",
         188
        ],
        [
         "Mar-M144",
         "Mar",
         189
        ],
        [
         "For-M17",
         "For",
         190
        ],
        [
         "Tat-M184",
         "Tat",
         191
        ],
        [
         "Hyu-M159",
         "Hyu",
         192
        ],
        [
         "Tat-M183",
         "Tat",
         193
        ],
        [
         "Nis-M264",
         "Nis",
         194
        ],
        [
         "BMW-M5",
         "BMW",
         195
        ],
        [
         "Che-M43",
         "Che",
         196
        ],
        [
         "Mah-M169",
         "Mah",
         197
        ],
        [
         "Tat-M182",
         "Tat",
         198
        ],
        [
         "Tat-M188",
         "Tat",
         199
        ],
        [
         "Aud-M227",
         "Aud",
         200
        ],
        [
         "Mah-M166",
         "Mah",
         201
        ],
        [
         "Riv-M91",
         "Riv",
         202
        ],
        [
         "Hon-M71",
         "Hon",
         203
        ],
        [
         "Hyu-M73",
         "Hyu",
         204
        ],
        [
         "Hyu-M156",
         "Hyu",
         205
        ],
        [
         "Lin-M27",
         "Lin",
         206
        ],
        [
         "Cad-M34",
         "Cad",
         207
        ],
        [
         "Mar-M137",
         "Mar",
         208
        ],
        [
         "Mah-M173",
         "Mah",
         209
        ],
        [
         "Tat-M179",
         "Tat",
         210
        ],
        [
         "Sub-M94",
         "Sub",
         211
        ],
        [
         "Jee-M254",
         "Jee",
         212
        ],
        [
         "GMC-M56",
         "GMC",
         213
        ],
        [
         "Hyu-M160",
         "Hyu",
         214
        ],
        [
         "Vol-M109",
         "Vol",
         215
        ],
        [
         "Peu-M126",
         "Peu",
         216
        ],
        [
         "For-M222",
         "For",
         217
        ],
        [
         "Toy-M101",
         "Toy",
         218
        ],
        [
         "Kia-M214",
         "Kia",
         219
        ],
        [
         "Sub-M95",
         "Sub",
         220
        ],
        [
         "Mar-M143",
         "Mar",
         221
        ],
        [
         "Nis-M265",
         "Nis",
         222
        ],
        [
         "Hon-M65",
         "Hon",
         223
        ],
        [
         "Sko-M272",
         "Sko",
         224
        ],
        [
         "Che-M45",
         "Che",
         225
        ],
        [
         "Toy-M107",
         "Toy",
         226
        ],
        [
         "Jee-M12",
         "Jee",
         227
        ],
        [
         "Mit-M277",
         "Mit",
         228
        ],
        [
         "Hon-M66",
         "Hon",
         229
        ],
        [
         "Toy-M100",
         "Toy",
         230
        ],
        [
         "For-M19",
         "For",
         231
        ],
        [
         "Agr-M113",
         "Agr",
         232
        ],
        [
         "Toy-M204",
         "Toy",
         233
        ],
        [
         "Hon-M120",
         "Hon",
         234
        ],
        [
         "Sko-M271",
         "Sko",
         235
        ],
        [
         "Vol-M255",
         "Vol",
         236
        ],
        [
         "Toy-M199",
         "Toy",
         237
        ],
        [
         "Vol-M256",
         "Vol",
         238
        ],
        [
         "Sub-M92",
         "Sub",
         239
        ],
        [
         "Toy-M197",
         "Toy",
         240
        ],
        [
         "Mah-M172",
         "Mah",
         241
        ],
        [
         "Che-M48",
         "Che",
         242
        ],
        [
         "Nis-M87",
         "Nis",
         243
        ],
        [
         "Mar-M150",
         "Mar",
         244
        ],
        [
         "Acu-M63",
         "Acu",
         245
        ],
        [
         "BMW-M247",
         "BMW",
         246
        ],
        [
         "For-M226",
         "For",
         247
        ],
        [
         "Vol-M257",
         "Vol",
         248
        ],
        [
         "Vol-M259",
         "Vol",
         249
        ],
        [
         "Nis-M80",
         "Nis",
         250
        ],
        [
         "Kia-M212",
         "Kia",
         251
        ],
        [
         "Hon-M218",
         "Hon",
         252
        ],
        [
         "For-M24",
         "For",
         253
        ],
        [
         "Sko-M273",
         "Sko",
         254
        ],
        [
         "Lin-M29",
         "Lin",
         255
        ],
        [
         "Agr-M112",
         "Agr",
         256
        ],
        [
         "Tat-M189",
         "Tat",
         257
        ],
        [
         "Nis-M270",
         "Nis",
         258
        ],
        [
         "Riv-M90",
         "Riv",
         259
        ],
        [
         "Che-M44",
         "Che",
         260
        ],
        [
         "Aud-M238",
         "Aud",
         261
        ],
        [
         "Vol-M136",
         "Vol",
         262
        ],
        [
         "For-M21",
         "For",
         263
        ],
        [
         "For-M224",
         "For",
         264
        ],
        [
         "Che-M40",
         "Che",
         265
        ],
        [
         "Ren-M130",
         "Ren",
         266
        ],
        [
         "Hon-M219",
         "Hon",
         267
        ],
        [
         "Che-M46",
         "Che",
         268
        ],
        [
         "Mer-M6",
         "Mer",
         269
        ],
        [
         "Vol-M258",
         "Vol",
         270
        ],
        [
         "Jee-M13",
         "Jee",
         271
        ],
        [
         "Nis-M261",
         "Nis",
         272
        ],
        [
         "For-M20",
         "For",
         273
        ],
        [
         "Tat-M191",
         "Tat",
         274
        ],
        [
         "BMW-M245",
         "BMW",
         275
        ],
        [
         "Nis-M268",
         "Nis",
         276
        ],
        [
         "Cad-M33",
         "Cad",
         277
        ]
       ],
       "datasetInfos": [],
       "dbfsResultPath": null,
       "isJsonSchema": true,
       "metadata": {},
       "overflow": false,
       "plotOptions": {
        "customPlotOptions": {},
        "displayType": "table",
        "pivotAggregation": null,
        "pivotColumns": null,
        "xColumns": null,
        "yColumns": null
       },
       "removedWidgets": [],
       "schema": [
        {
         "metadata": "{}",
         "name": "Model_ID",
         "type": "\"string\""
        },
        {
         "metadata": "{}",
         "name": "model_category",
         "type": "\"string\""
        },
        {
         "metadata": "{}",
         "name": "dim_model_key",
         "type": "\"long\""
        }
       ],
       "type": "table"
      }
     },
     "output_type": "display_data"
    }
   ],
   "source": [
    "df_filter_new.display()"
   ]
  },
  {
   "cell_type": "markdown",
   "metadata": {
    "application/vnd.databricks.v1+cell": {
     "cellMetadata": {
      "byteLimit": 2048000,
      "rowLimit": 10000
     },
     "inputWidgets": {},
     "nuid": "fb9bf099-767e-434e-bd89-0e5b55892556",
     "showTitle": false,
     "tableResultSettingsMap": {},
     "title": ""
    }
   },
   "source": [
    "### Create Final DF - df_filter_old + df_filter_new"
   ]
  },
  {
   "cell_type": "code",
   "execution_count": 0,
   "metadata": {
    "application/vnd.databricks.v1+cell": {
     "cellMetadata": {
      "byteLimit": 2048000,
      "rowLimit": 10000
     },
     "inputWidgets": {},
     "nuid": "1defe3c4-a263-4e1b-b640-4009b3545354",
     "showTitle": false,
     "tableResultSettingsMap": {},
     "title": ""
    }
   },
   "outputs": [
    {
     "output_type": "display_data",
     "data": {
      "text/html": [
       "<style scoped>\n",
       "  .table-result-container {\n",
       "    max-height: 300px;\n",
       "    overflow: auto;\n",
       "  }\n",
       "  table, th, td {\n",
       "    border: 1px solid black;\n",
       "    border-collapse: collapse;\n",
       "  }\n",
       "  th, td {\n",
       "    padding: 5px;\n",
       "  }\n",
       "  th {\n",
       "    text-align: left;\n",
       "  }\n",
       "</style><div class='table-result-container'><table class='table-result'><thead style='background-color: white'><tr><th>Model_ID</th><th>model_category</th><th>dim_model_key</th></tr></thead><tbody><tr><td>Mah-M167</td><td>Mah</td><td>1</td></tr><tr><td>Che-M47</td><td>Che</td><td>2</td></tr><tr><td>Toy-M205</td><td>Toy</td><td>3</td></tr><tr><td>BMW-M249</td><td>BMW</td><td>4</td></tr><tr><td>Mer-M122</td><td>Mer</td><td>5</td></tr><tr><td>Hon-M215</td><td>Hon</td><td>6</td></tr><tr><td>Nis-M82</td><td>Nis</td><td>7</td></tr><tr><td>Toy-M206</td><td>Toy</td><td>8</td></tr><tr><td>Mar-M139</td><td>Mar</td><td>9</td></tr><tr><td>Ren-M207</td><td>Ren</td><td>10</td></tr><tr><td>Mar-M146</td><td>Mar</td><td>11</td></tr><tr><td>Mar-M141</td><td>Mar</td><td>12</td></tr><tr><td>Lin-M28</td><td>Lin</td><td>13</td></tr><tr><td>Hon-M69</td><td>Hon</td><td>14</td></tr><tr><td>Toy-M202</td><td>Toy</td><td>15</td></tr><tr><td>Cad-M32</td><td>Cad</td><td>16</td></tr><tr><td>Tat-M185</td><td>Tat</td><td>17</td></tr><tr><td>Aud-M231</td><td>Aud</td><td>18</td></tr><tr><td>Tat-M192</td><td>Tat</td><td>19</td></tr><tr><td>Che-M41</td><td>Che</td><td>20</td></tr><tr><td>Ram-M14</td><td>Ram</td><td>21</td></tr><tr><td>Mar-M138</td><td>Mar</td><td>22</td></tr><tr><td>Aud-M236</td><td>Aud</td><td>23</td></tr><tr><td>Mar-M151</td><td>Mar</td><td>24</td></tr><tr><td>Acu-M59</td><td>Acu</td><td>25</td></tr><tr><td>Hon-M70</td><td>Hon</td><td>26</td></tr><tr><td>Mah-M174</td><td>Mah</td><td>27</td></tr><tr><td>Dod-M9</td><td>Dod</td><td>28</td></tr><tr><td>Tes-M96</td><td>Tes</td><td>29</td></tr><tr><td>Tat-M194</td><td>Tat</td><td>30</td></tr><tr><td>For-M23</td><td>For</td><td>31</td></tr><tr><td>BMW-M3</td><td>BMW</td><td>32</td></tr><tr><td>Vol-M108</td><td>Vol</td><td>33</td></tr><tr><td>Nis-M263</td><td>Nis</td><td>34</td></tr><tr><td>BMW-M250</td><td>BMW</td><td>35</td></tr><tr><td>Aud-M234</td><td>Aud</td><td>36</td></tr><tr><td>Toy-M103</td><td>Toy</td><td>37</td></tr><tr><td>For-M25</td><td>For</td><td>38</td></tr><tr><td>Ren-M129</td><td>Ren</td><td>39</td></tr><tr><td>Nis-M267</td><td>Nis</td><td>40</td></tr><tr><td>Hon-M68</td><td>Hon</td><td>41</td></tr><tr><td>Nis-M85</td><td>Nis</td><td>42</td></tr><tr><td>Hyu-M163</td><td>Hyu</td><td>43</td></tr><tr><td>Aud-M235</td><td>Aud</td><td>44</td></tr><tr><td>Lex-M99</td><td>Lex</td><td>45</td></tr><tr><td>Toy-M133</td><td>Toy</td><td>46</td></tr><tr><td>Kia-M76</td><td>Kia</td><td>47</td></tr><tr><td>Tat-M187</td><td>Tat</td><td>48</td></tr><tr><td>Jee-M10</td><td>Jee</td><td>49</td></tr><tr><td>Cit-M115</td><td>Cit</td><td>50</td></tr><tr><td>Sko-M274</td><td>Sko</td><td>51</td></tr><tr><td>Ren-M209</td><td>Ren</td><td>52</td></tr><tr><td>Hyu-M154</td><td>Hyu</td><td>53</td></tr><tr><td>Mer-M123</td><td>Mer</td><td>54</td></tr><tr><td>Mer-M7</td><td>Mer</td><td>55</td></tr><tr><td>Cad-M36</td><td>Cad</td><td>56</td></tr><tr><td>Ren-M208</td><td>Ren</td><td>57</td></tr><tr><td>For-M119</td><td>For</td><td>58</td></tr><tr><td>Hon-M67</td><td>Hon</td><td>59</td></tr><tr><td>Hyu-M162</td><td>Hyu</td><td>60</td></tr><tr><td>Toy-M203</td><td>Toy</td><td>61</td></tr><tr><td>Mar-M145</td><td>Mar</td><td>62</td></tr><tr><td>Che-M51</td><td>Che</td><td>63</td></tr><tr><td>Nis-M84</td><td>Nis</td><td>64</td></tr><tr><td>Mah-M177</td><td>Mah</td><td>65</td></tr><tr><td>Peu-M125</td><td>Peu</td><td>66</td></tr><tr><td>Toy-M198</td><td>Toy</td><td>67</td></tr><tr><td>Toy-M104</td><td>Toy</td><td>68</td></tr><tr><td>For-M16</td><td>For</td><td>69</td></tr><tr><td>BMW-M4</td><td>BMW</td><td>70</td></tr><tr><td>Nis-M88</td><td>Nis</td><td>71</td></tr><tr><td>Che-M114</td><td>Che</td><td>72</td></tr><tr><td>Aud-M233</td><td>Aud</td><td>73</td></tr><tr><td>Mar-M147</td><td>Mar</td><td>74</td></tr><tr><td>Nis-M269</td><td>Nis</td><td>75</td></tr><tr><td>Tes-M98</td><td>Tes</td><td>76</td></tr><tr><td>Acu-M60</td><td>Acu</td><td>77</td></tr><tr><td>Aud-M241</td><td>Aud</td><td>78</td></tr><tr><td>Mah-M175</td><td>Mah</td><td>79</td></tr><tr><td>Toy-M106</td><td>Toy</td><td>80</td></tr><tr><td>Hyu-M155</td><td>Hyu</td><td>81</td></tr><tr><td>Vol-M110</td><td>Vol</td><td>82</td></tr><tr><td>Mah-M171</td><td>Mah</td><td>83</td></tr><tr><td>Lin-M30</td><td>Lin</td><td>84</td></tr><tr><td>BMW-M242</td><td>BMW</td><td>85</td></tr><tr><td>For-M223</td><td>For</td><td>86</td></tr><tr><td>Ren-M127</td><td>Ren</td><td>87</td></tr><tr><td>Aud-M229</td><td>Aud</td><td>88</td></tr><tr><td>Mah-M168</td><td>Mah</td><td>89</td></tr><tr><td>For-M225</td><td>For</td><td>90</td></tr><tr><td>Aud-M232</td><td>Aud</td><td>91</td></tr><tr><td>Toy-M200</td><td>Toy</td><td>92</td></tr><tr><td>Kia-M77</td><td>Kia</td><td>93</td></tr><tr><td>BMW-M248</td><td>BMW</td><td>94</td></tr><tr><td>Hyu-M164</td><td>Hyu</td><td>95</td></tr><tr><td>Ren-M211</td><td>Ren</td><td>96</td></tr><tr><td>Mar-M149</td><td>Mar</td><td>97</td></tr><tr><td>GMC-M53</td><td>GMC</td><td>98</td></tr><tr><td>Mit-M275</td><td>Mit</td><td>99</td></tr><tr><td>Ren-M131</td><td>Ren</td><td>100</td></tr><tr><td>Tat-M186</td><td>Tat</td><td>101</td></tr><tr><td>Hon-M217</td><td>Hon</td><td>102</td></tr><tr><td>Mar-M152</td><td>Mar</td><td>103</td></tr><tr><td>Jee-M11</td><td>Jee</td><td>104</td></tr><tr><td>Vol-M135</td><td>Vol</td><td>105</td></tr><tr><td>Ren-M128</td><td>Ren</td><td>106</td></tr><tr><td>Cad-M38</td><td>Cad</td><td>107</td></tr><tr><td>Tat-M190</td><td>Tat</td><td>108</td></tr><tr><td>Hyu-M153</td><td>Hyu</td><td>109</td></tr><tr><td>Mer-M8</td><td>Mer</td><td>110</td></tr><tr><td>GMC-M55</td><td>GMC</td><td>111</td></tr><tr><td>Toy-M201</td><td>Toy</td><td>112</td></tr><tr><td>BMW-M244</td><td>BMW</td><td>113</td></tr><tr><td>Toy-M134</td><td>Toy</td><td>114</td></tr><tr><td>Agr-M111</td><td>Agr</td><td>115</td></tr><tr><td>Fia-M117</td><td>Fia</td><td>116</td></tr><tr><td>Mit-M276</td><td>Mit</td><td>117</td></tr><tr><td>Kia-M78</td><td>Kia</td><td>118</td></tr><tr><td>Aud-M230</td><td>Aud</td><td>119</td></tr><tr><td>Tat-M193</td><td>Tat</td><td>120</td></tr><tr><td>Ram-M15</td><td>Ram</td><td>121</td></tr><tr><td>For-M22</td><td>For</td><td>122</td></tr><tr><td>Acu-M62</td><td>Acu</td><td>123</td></tr><tr><td>Mah-M165</td><td>Mah</td><td>124</td></tr><tr><td>Fia-M118</td><td>Fia</td><td>125</td></tr><tr><td>Toy-M195</td><td>Toy</td><td>126</td></tr><tr><td>Che-M49</td><td>Che</td><td>127</td></tr><tr><td>Bui-M31</td><td>Bui</td><td>128</td></tr><tr><td>For-M26</td><td>For</td><td>129</td></tr><tr><td>Peu-M124</td><td>Peu</td><td>130</td></tr><tr><td>Nis-M83</td><td>Nis</td><td>131</td></tr><tr><td>Nis-M266</td><td>Nis</td><td>132</td></tr><tr><td>Mar-M142</td><td>Mar</td><td>133</td></tr><tr><td>For-M18</td><td>For</td><td>134</td></tr><tr><td>Jee-M253</td><td>Jee</td><td>135</td></tr><tr><td>Tat-M181</td><td>Tat</td><td>136</td></tr><tr><td>Hyu-M157</td><td>Hyu</td><td>137</td></tr><tr><td>Cad-M39</td><td>Cad</td><td>138</td></tr><tr><td>For-M221</td><td>For</td><td>139</td></tr><tr><td>Aud-M240</td><td>Aud</td><td>140</td></tr><tr><td>Ren-M210</td><td>Ren</td><td>141</td></tr><tr><td>Acu-M61</td><td>Acu</td><td>142</td></tr><tr><td>Toy-M102</td><td>Toy</td><td>143</td></tr><tr><td>Nis-M262</td><td>Nis</td><td>144</td></tr><tr><td>Hon-M216</td><td>Hon</td><td>145</td></tr><tr><td>MG-M252</td><td>MG</td><td>146</td></tr><tr><td>Mah-M178</td><td>Mah</td><td>147</td></tr><tr><td>Sub-M93</td><td>Sub</td><td>148</td></tr><tr><td>Kia-M213</td><td>Kia</td><td>149</td></tr><tr><td>Hyu-M75</td><td>Hyu</td><td>150</td></tr><tr><td>Mah-M170</td><td>Mah</td><td>151</td></tr><tr><td>Aud-M239</td><td>Aud</td><td>152</td></tr><tr><td>Tat-M180</td><td>Tat</td><td>153</td></tr><tr><td>Hyu-M74</td><td>Hyu</td><td>154</td></tr><tr><td>BMW-M1</td><td>BMW</td><td>155</td></tr><tr><td>Cad-M35</td><td>Cad</td><td>156</td></tr><tr><td>BMW-M246</td><td>BMW</td><td>157</td></tr><tr><td>Ren-M132</td><td>Ren</td><td>158</td></tr><tr><td>GMC-M58</td><td>GMC</td><td>159</td></tr><tr><td>Mar-M148</td><td>Mar</td><td>160</td></tr><tr><td>Hyu-M161</td><td>Hyu</td><td>161</td></tr><tr><td>Toy-M105</td><td>Toy</td><td>162</td></tr><tr><td>Aud-M228</td><td>Aud</td><td>163</td></tr><tr><td>Aud-M237</td><td>Aud</td><td>164</td></tr><tr><td>Nis-M89</td><td>Nis</td><td>165</td></tr><tr><td>Hyu-M72</td><td>Hyu</td><td>166</td></tr><tr><td>BMW-M243</td><td>BMW</td><td>167</td></tr><tr><td>Mar-M140</td><td>Mar</td><td>168</td></tr><tr><td>Toy-M196</td><td>Toy</td><td>169</td></tr><tr><td>Che-M42</td><td>Che</td><td>170</td></tr><tr><td>Tes-M97</td><td>Tes</td><td>171</td></tr><tr><td>Vol-M260</td><td>Vol</td><td>172</td></tr><tr><td>Mah-M176</td><td>Mah</td><td>173</td></tr><tr><td>Nis-M86</td><td>Nis</td><td>174</td></tr><tr><td>Hon-M64</td><td>Hon</td><td>175</td></tr><tr><td>MG-M251</td><td>MG</td><td>176</td></tr><tr><td>Mer-M121</td><td>Mer</td><td>177</td></tr><tr><td>Nis-M81</td><td>Nis</td><td>178</td></tr><tr><td>GMC-M54</td><td>GMC</td><td>179</td></tr><tr><td>Hon-M220</td><td>Hon</td><td>180</td></tr><tr><td>Che-M50</td><td>Che</td><td>181</td></tr><tr><td>Cad-M37</td><td>Cad</td><td>182</td></tr><tr><td>Hyu-M158</td><td>Hyu</td><td>183</td></tr><tr><td>Inf-M79</td><td>Inf</td><td>184</td></tr><tr><td>BMW-M2</td><td>BMW</td><td>185</td></tr><tr><td>GMC-M57</td><td>GMC</td><td>186</td></tr><tr><td>GMC-M52</td><td>GMC</td><td>187</td></tr><tr><td>Cit-M116</td><td>Cit</td><td>188</td></tr><tr><td>Mar-M144</td><td>Mar</td><td>189</td></tr><tr><td>For-M17</td><td>For</td><td>190</td></tr><tr><td>Tat-M184</td><td>Tat</td><td>191</td></tr><tr><td>Hyu-M159</td><td>Hyu</td><td>192</td></tr><tr><td>Tat-M183</td><td>Tat</td><td>193</td></tr><tr><td>Nis-M264</td><td>Nis</td><td>194</td></tr><tr><td>BMW-M5</td><td>BMW</td><td>195</td></tr><tr><td>Che-M43</td><td>Che</td><td>196</td></tr><tr><td>Mah-M169</td><td>Mah</td><td>197</td></tr><tr><td>Tat-M182</td><td>Tat</td><td>198</td></tr><tr><td>Tat-M188</td><td>Tat</td><td>199</td></tr><tr><td>Aud-M227</td><td>Aud</td><td>200</td></tr><tr><td>Mah-M166</td><td>Mah</td><td>201</td></tr><tr><td>Riv-M91</td><td>Riv</td><td>202</td></tr><tr><td>Hon-M71</td><td>Hon</td><td>203</td></tr><tr><td>Hyu-M73</td><td>Hyu</td><td>204</td></tr><tr><td>Hyu-M156</td><td>Hyu</td><td>205</td></tr><tr><td>Lin-M27</td><td>Lin</td><td>206</td></tr><tr><td>Cad-M34</td><td>Cad</td><td>207</td></tr><tr><td>Mar-M137</td><td>Mar</td><td>208</td></tr><tr><td>Mah-M173</td><td>Mah</td><td>209</td></tr><tr><td>Tat-M179</td><td>Tat</td><td>210</td></tr><tr><td>Sub-M94</td><td>Sub</td><td>211</td></tr><tr><td>Jee-M254</td><td>Jee</td><td>212</td></tr><tr><td>GMC-M56</td><td>GMC</td><td>213</td></tr><tr><td>Hyu-M160</td><td>Hyu</td><td>214</td></tr><tr><td>Vol-M109</td><td>Vol</td><td>215</td></tr><tr><td>Peu-M126</td><td>Peu</td><td>216</td></tr><tr><td>For-M222</td><td>For</td><td>217</td></tr><tr><td>Toy-M101</td><td>Toy</td><td>218</td></tr><tr><td>Kia-M214</td><td>Kia</td><td>219</td></tr><tr><td>Sub-M95</td><td>Sub</td><td>220</td></tr><tr><td>Mar-M143</td><td>Mar</td><td>221</td></tr><tr><td>Nis-M265</td><td>Nis</td><td>222</td></tr><tr><td>Hon-M65</td><td>Hon</td><td>223</td></tr><tr><td>Sko-M272</td><td>Sko</td><td>224</td></tr><tr><td>Che-M45</td><td>Che</td><td>225</td></tr><tr><td>Toy-M107</td><td>Toy</td><td>226</td></tr><tr><td>Jee-M12</td><td>Jee</td><td>227</td></tr><tr><td>Mit-M277</td><td>Mit</td><td>228</td></tr><tr><td>Hon-M66</td><td>Hon</td><td>229</td></tr><tr><td>Toy-M100</td><td>Toy</td><td>230</td></tr><tr><td>For-M19</td><td>For</td><td>231</td></tr><tr><td>Agr-M113</td><td>Agr</td><td>232</td></tr><tr><td>Toy-M204</td><td>Toy</td><td>233</td></tr><tr><td>Hon-M120</td><td>Hon</td><td>234</td></tr><tr><td>Sko-M271</td><td>Sko</td><td>235</td></tr><tr><td>Vol-M255</td><td>Vol</td><td>236</td></tr><tr><td>Toy-M199</td><td>Toy</td><td>237</td></tr><tr><td>Vol-M256</td><td>Vol</td><td>238</td></tr><tr><td>Sub-M92</td><td>Sub</td><td>239</td></tr><tr><td>Toy-M197</td><td>Toy</td><td>240</td></tr><tr><td>Mah-M172</td><td>Mah</td><td>241</td></tr><tr><td>Che-M48</td><td>Che</td><td>242</td></tr><tr><td>Nis-M87</td><td>Nis</td><td>243</td></tr><tr><td>Mar-M150</td><td>Mar</td><td>244</td></tr><tr><td>Acu-M63</td><td>Acu</td><td>245</td></tr><tr><td>BMW-M247</td><td>BMW</td><td>246</td></tr><tr><td>For-M226</td><td>For</td><td>247</td></tr><tr><td>Vol-M257</td><td>Vol</td><td>248</td></tr><tr><td>Vol-M259</td><td>Vol</td><td>249</td></tr><tr><td>Nis-M80</td><td>Nis</td><td>250</td></tr><tr><td>Kia-M212</td><td>Kia</td><td>251</td></tr><tr><td>Hon-M218</td><td>Hon</td><td>252</td></tr><tr><td>For-M24</td><td>For</td><td>253</td></tr><tr><td>Sko-M273</td><td>Sko</td><td>254</td></tr><tr><td>Lin-M29</td><td>Lin</td><td>255</td></tr><tr><td>Agr-M112</td><td>Agr</td><td>256</td></tr><tr><td>Tat-M189</td><td>Tat</td><td>257</td></tr><tr><td>Nis-M270</td><td>Nis</td><td>258</td></tr><tr><td>Riv-M90</td><td>Riv</td><td>259</td></tr><tr><td>Che-M44</td><td>Che</td><td>260</td></tr><tr><td>Aud-M238</td><td>Aud</td><td>261</td></tr><tr><td>Vol-M136</td><td>Vol</td><td>262</td></tr><tr><td>For-M21</td><td>For</td><td>263</td></tr><tr><td>For-M224</td><td>For</td><td>264</td></tr><tr><td>Che-M40</td><td>Che</td><td>265</td></tr><tr><td>Ren-M130</td><td>Ren</td><td>266</td></tr><tr><td>Hon-M219</td><td>Hon</td><td>267</td></tr><tr><td>Che-M46</td><td>Che</td><td>268</td></tr><tr><td>Mer-M6</td><td>Mer</td><td>269</td></tr><tr><td>Vol-M258</td><td>Vol</td><td>270</td></tr><tr><td>Jee-M13</td><td>Jee</td><td>271</td></tr><tr><td>Nis-M261</td><td>Nis</td><td>272</td></tr><tr><td>For-M20</td><td>For</td><td>273</td></tr><tr><td>Tat-M191</td><td>Tat</td><td>274</td></tr><tr><td>BMW-M245</td><td>BMW</td><td>275</td></tr><tr><td>Nis-M268</td><td>Nis</td><td>276</td></tr><tr><td>Cad-M33</td><td>Cad</td><td>277</td></tr></tbody></table></div>"
      ]
     },
     "metadata": {
      "application/vnd.databricks.v1+output": {
       "addedWidgets": {},
       "aggData": [],
       "aggError": "",
       "aggOverflow": false,
       "aggSchema": [],
       "aggSeriesLimitReached": false,
       "aggType": "",
       "arguments": {},
       "columnCustomDisplayInfos": {},
       "data": [
        [
         "Mah-M167",
         "Mah",
         1
        ],
        [
         "Che-M47",
         "Che",
         2
        ],
        [
         "Toy-M205",
         "Toy",
         3
        ],
        [
         "BMW-M249",
         "BMW",
         4
        ],
        [
         "Mer-M122",
         "Mer",
         5
        ],
        [
         "Hon-M215",
         "Hon",
         6
        ],
        [
         "Nis-M82",
         "Nis",
         7
        ],
        [
         "Toy-M206",
         "Toy",
         8
        ],
        [
         "Mar-M139",
         "Mar",
         9
        ],
        [
         "Ren-M207",
         "Ren",
         10
        ],
        [
         "Mar-M146",
         "Mar",
         11
        ],
        [
         "Mar-M141",
         "Mar",
         12
        ],
        [
         "Lin-M28",
         "Lin",
         13
        ],
        [
         "Hon-M69",
         "Hon",
         14
        ],
        [
         "Toy-M202",
         "Toy",
         15
        ],
        [
         "Cad-M32",
         "Cad",
         16
        ],
        [
         "Tat-M185",
         "Tat",
         17
        ],
        [
         "Aud-M231",
         "Aud",
         18
        ],
        [
         "Tat-M192",
         "Tat",
         19
        ],
        [
         "Che-M41",
         "Che",
         20
        ],
        [
         "Ram-M14",
         "Ram",
         21
        ],
        [
         "Mar-M138",
         "Mar",
         22
        ],
        [
         "Aud-M236",
         "Aud",
         23
        ],
        [
         "Mar-M151",
         "Mar",
         24
        ],
        [
         "Acu-M59",
         "Acu",
         25
        ],
        [
         "Hon-M70",
         "Hon",
         26
        ],
        [
         "Mah-M174",
         "Mah",
         27
        ],
        [
         "Dod-M9",
         "Dod",
         28
        ],
        [
         "Tes-M96",
         "Tes",
         29
        ],
        [
         "Tat-M194",
         "Tat",
         30
        ],
        [
         "For-M23",
         "For",
         31
        ],
        [
         "BMW-M3",
         "BMW",
         32
        ],
        [
         "Vol-M108",
         "Vol",
         33
        ],
        [
         "Nis-M263",
         "Nis",
         34
        ],
        [
         "BMW-M250",
         "BMW",
         35
        ],
        [
         "Aud-M234",
         "Aud",
         36
        ],
        [
         "Toy-M103",
         "Toy",
         37
        ],
        [
         "For-M25",
         "For",
         38
        ],
        [
         "Ren-M129",
         "Ren",
         39
        ],
        [
         "Nis-M267",
         "Nis",
         40
        ],
        [
         "Hon-M68",
         "Hon",
         41
        ],
        [
         "Nis-M85",
         "Nis",
         42
        ],
        [
         "Hyu-M163",
         "Hyu",
         43
        ],
        [
         "Aud-M235",
         "Aud",
         44
        ],
        [
         "Lex-M99",
         "Lex",
         45
        ],
        [
         "Toy-M133",
         "Toy",
         46
        ],
        [
         "Kia-M76",
         "Kia",
         47
        ],
        [
         "Tat-M187",
         "Tat",
         48
        ],
        [
         "Jee-M10",
         "Jee",
         49
        ],
        [
         "Cit-M115",
         "Cit",
         50
        ],
        [
         "Sko-M274",
         "Sko",
         51
        ],
        [
         "Ren-M209",
         "Ren",
         52
        ],
        [
         "Hyu-M154",
         "Hyu",
         53
        ],
        [
         "Mer-M123",
         "Mer",
         54
        ],
        [
         "Mer-M7",
         "Mer",
         55
        ],
        [
         "Cad-M36",
         "Cad",
         56
        ],
        [
         "Ren-M208",
         "Ren",
         57
        ],
        [
         "For-M119",
         "For",
         58
        ],
        [
         "Hon-M67",
         "Hon",
         59
        ],
        [
         "Hyu-M162",
         "Hyu",
         60
        ],
        [
         "Toy-M203",
         "Toy",
         61
        ],
        [
         "Mar-M145",
         "Mar",
         62
        ],
        [
         "Che-M51",
         "Che",
         63
        ],
        [
         "Nis-M84",
         "Nis",
         64
        ],
        [
         "Mah-M177",
         "Mah",
         65
        ],
        [
         "Peu-M125",
         "Peu",
         66
        ],
        [
         "Toy-M198",
         "Toy",
         67
        ],
        [
         "Toy-M104",
         "Toy",
         68
        ],
        [
         "For-M16",
         "For",
         69
        ],
        [
         "BMW-M4",
         "BMW",
         70
        ],
        [
         "Nis-M88",
         "Nis",
         71
        ],
        [
         "Che-M114",
         "Che",
         72
        ],
        [
         "Aud-M233",
         "Aud",
         73
        ],
        [
         "Mar-M147",
         "Mar",
         74
        ],
        [
         "Nis-M269",
         "Nis",
         75
        ],
        [
         "Tes-M98",
         "Tes",
         76
        ],
        [
         "Acu-M60",
         "Acu",
         77
        ],
        [
         "Aud-M241",
         "Aud",
         78
        ],
        [
         "Mah-M175",
         "Mah",
         79
        ],
        [
         "Toy-M106",
         "Toy",
         80
        ],
        [
         "Hyu-M155",
         "Hyu",
         81
        ],
        [
         "Vol-M110",
         "Vol",
         82
        ],
        [
         "Mah-M171",
         "Mah",
         83
        ],
        [
         "Lin-M30",
         "Lin",
         84
        ],
        [
         "BMW-M242",
         "BMW",
         85
        ],
        [
         "For-M223",
         "For",
         86
        ],
        [
         "Ren-M127",
         "Ren",
         87
        ],
        [
         "Aud-M229",
         "Aud",
         88
        ],
        [
         "Mah-M168",
         "Mah",
         89
        ],
        [
         "For-M225",
         "For",
         90
        ],
        [
         "Aud-M232",
         "Aud",
         91
        ],
        [
         "Toy-M200",
         "Toy",
         92
        ],
        [
         "Kia-M77",
         "Kia",
         93
        ],
        [
         "BMW-M248",
         "BMW",
         94
        ],
        [
         "Hyu-M164",
         "Hyu",
         95
        ],
        [
         "Ren-M211",
         "Ren",
         96
        ],
        [
         "Mar-M149",
         "Mar",
         97
        ],
        [
         "GMC-M53",
         "GMC",
         98
        ],
        [
         "Mit-M275",
         "Mit",
         99
        ],
        [
         "Ren-M131",
         "Ren",
         100
        ],
        [
         "Tat-M186",
         "Tat",
         101
        ],
        [
         "Hon-M217",
         "Hon",
         102
        ],
        [
         "Mar-M152",
         "Mar",
         103
        ],
        [
         "Jee-M11",
         "Jee",
         104
        ],
        [
         "Vol-M135",
         "Vol",
         105
        ],
        [
         "Ren-M128",
         "Ren",
         106
        ],
        [
         "Cad-M38",
         "Cad",
         107
        ],
        [
         "Tat-M190",
         "Tat",
         108
        ],
        [
         "Hyu-M153",
         "Hyu",
         109
        ],
        [
         "Mer-M8",
         "Mer",
         110
        ],
        [
         "GMC-M55",
         "GMC",
         111
        ],
        [
         "Toy-M201",
         "Toy",
         112
        ],
        [
         "BMW-M244",
         "BMW",
         113
        ],
        [
         "Toy-M134",
         "Toy",
         114
        ],
        [
         "Agr-M111",
         "Agr",
         115
        ],
        [
         "Fia-M117",
         "Fia",
         116
        ],
        [
         "Mit-M276",
         "Mit",
         117
        ],
        [
         "Kia-M78",
         "Kia",
         118
        ],
        [
         "Aud-M230",
         "Aud",
         119
        ],
        [
         "Tat-M193",
         "Tat",
         120
        ],
        [
         "Ram-M15",
         "Ram",
         121
        ],
        [
         "For-M22",
         "For",
         122
        ],
        [
         "Acu-M62",
         "Acu",
         123
        ],
        [
         "Mah-M165",
         "Mah",
         124
        ],
        [
         "Fia-M118",
         "Fia",
         125
        ],
        [
         "Toy-M195",
         "Toy",
         126
        ],
        [
         "Che-M49",
         "Che",
         127
        ],
        [
         "Bui-M31",
         "Bui",
         128
        ],
        [
         "For-M26",
         "For",
         129
        ],
        [
         "Peu-M124",
         "Peu",
         130
        ],
        [
         "Nis-M83",
         "Nis",
         131
        ],
        [
         "Nis-M266",
         "Nis",
         132
        ],
        [
         "Mar-M142",
         "Mar",
         133
        ],
        [
         "For-M18",
         "For",
         134
        ],
        [
         "Jee-M253",
         "Jee",
         135
        ],
        [
         "Tat-M181",
         "Tat",
         136
        ],
        [
         "Hyu-M157",
         "Hyu",
         137
        ],
        [
         "Cad-M39",
         "Cad",
         138
        ],
        [
         "For-M221",
         "For",
         139
        ],
        [
         "Aud-M240",
         "Aud",
         140
        ],
        [
         "Ren-M210",
         "Ren",
         141
        ],
        [
         "Acu-M61",
         "Acu",
         142
        ],
        [
         "Toy-M102",
         "Toy",
         143
        ],
        [
         "Nis-M262",
         "Nis",
         144
        ],
        [
         "Hon-M216",
         "Hon",
         145
        ],
        [
         "MG-M252",
         "MG",
         146
        ],
        [
         "Mah-M178",
         "Mah",
         147
        ],
        [
         "Sub-M93",
         "Sub",
         148
        ],
        [
         "Kia-M213",
         "Kia",
         149
        ],
        [
         "Hyu-M75",
         "Hyu",
         150
        ],
        [
         "Mah-M170",
         "Mah",
         151
        ],
        [
         "Aud-M239",
         "Aud",
         152
        ],
        [
         "Tat-M180",
         "Tat",
         153
        ],
        [
         "Hyu-M74",
         "Hyu",
         154
        ],
        [
         "BMW-M1",
         "BMW",
         155
        ],
        [
         "Cad-M35",
         "Cad",
         156
        ],
        [
         "BMW-M246",
         "BMW",
         157
        ],
        [
         "Ren-M132",
         "Ren",
         158
        ],
        [
         "GMC-M58",
         "GMC",
         159
        ],
        [
         "Mar-M148",
         "Mar",
         160
        ],
        [
         "Hyu-M161",
         "Hyu",
         161
        ],
        [
         "Toy-M105",
         "Toy",
         162
        ],
        [
         "Aud-M228",
         "Aud",
         163
        ],
        [
         "Aud-M237",
         "Aud",
         164
        ],
        [
         "Nis-M89",
         "Nis",
         165
        ],
        [
         "Hyu-M72",
         "Hyu",
         166
        ],
        [
         "BMW-M243",
         "BMW",
         167
        ],
        [
         "Mar-M140",
         "Mar",
         168
        ],
        [
         "Toy-M196",
         "Toy",
         169
        ],
        [
         "Che-M42",
         "Che",
         170
        ],
        [
         "Tes-M97",
         "Tes",
         171
        ],
        [
         "Vol-M260",
         "Vol",
         172
        ],
        [
         "Mah-M176",
         "Mah",
         173
        ],
        [
         "Nis-M86",
         "Nis",
         174
        ],
        [
         "Hon-M64",
         "Hon",
         175
        ],
        [
         "MG-M251",
         "MG",
         176
        ],
        [
         "Mer-M121",
         "Mer",
         177
        ],
        [
         "Nis-M81",
         "Nis",
         178
        ],
        [
         "GMC-M54",
         "GMC",
         179
        ],
        [
         "Hon-M220",
         "Hon",
         180
        ],
        [
         "Che-M50",
         "Che",
         181
        ],
        [
         "Cad-M37",
         "Cad",
         182
        ],
        [
         "Hyu-M158",
         "Hyu",
         183
        ],
        [
         "Inf-M79",
         "Inf",
         184
        ],
        [
         "BMW-M2",
         "BMW",
         185
        ],
        [
         "GMC-M57",
         "GMC",
         186
        ],
        [
         "GMC-M52",
         "GMC",
         187
        ],
        [
         "Cit-M116",
         "Cit",
         188
        ],
        [
         "Mar-M144",
         "Mar",
         189
        ],
        [
         "For-M17",
         "For",
         190
        ],
        [
         "Tat-M184",
         "Tat",
         191
        ],
        [
         "Hyu-M159",
         "Hyu",
         192
        ],
        [
         "Tat-M183",
         "Tat",
         193
        ],
        [
         "Nis-M264",
         "Nis",
         194
        ],
        [
         "BMW-M5",
         "BMW",
         195
        ],
        [
         "Che-M43",
         "Che",
         196
        ],
        [
         "Mah-M169",
         "Mah",
         197
        ],
        [
         "Tat-M182",
         "Tat",
         198
        ],
        [
         "Tat-M188",
         "Tat",
         199
        ],
        [
         "Aud-M227",
         "Aud",
         200
        ],
        [
         "Mah-M166",
         "Mah",
         201
        ],
        [
         "Riv-M91",
         "Riv",
         202
        ],
        [
         "Hon-M71",
         "Hon",
         203
        ],
        [
         "Hyu-M73",
         "Hyu",
         204
        ],
        [
         "Hyu-M156",
         "Hyu",
         205
        ],
        [
         "Lin-M27",
         "Lin",
         206
        ],
        [
         "Cad-M34",
         "Cad",
         207
        ],
        [
         "Mar-M137",
         "Mar",
         208
        ],
        [
         "Mah-M173",
         "Mah",
         209
        ],
        [
         "Tat-M179",
         "Tat",
         210
        ],
        [
         "Sub-M94",
         "Sub",
         211
        ],
        [
         "Jee-M254",
         "Jee",
         212
        ],
        [
         "GMC-M56",
         "GMC",
         213
        ],
        [
         "Hyu-M160",
         "Hyu",
         214
        ],
        [
         "Vol-M109",
         "Vol",
         215
        ],
        [
         "Peu-M126",
         "Peu",
         216
        ],
        [
         "For-M222",
         "For",
         217
        ],
        [
         "Toy-M101",
         "Toy",
         218
        ],
        [
         "Kia-M214",
         "Kia",
         219
        ],
        [
         "Sub-M95",
         "Sub",
         220
        ],
        [
         "Mar-M143",
         "Mar",
         221
        ],
        [
         "Nis-M265",
         "Nis",
         222
        ],
        [
         "Hon-M65",
         "Hon",
         223
        ],
        [
         "Sko-M272",
         "Sko",
         224
        ],
        [
         "Che-M45",
         "Che",
         225
        ],
        [
         "Toy-M107",
         "Toy",
         226
        ],
        [
         "Jee-M12",
         "Jee",
         227
        ],
        [
         "Mit-M277",
         "Mit",
         228
        ],
        [
         "Hon-M66",
         "Hon",
         229
        ],
        [
         "Toy-M100",
         "Toy",
         230
        ],
        [
         "For-M19",
         "For",
         231
        ],
        [
         "Agr-M113",
         "Agr",
         232
        ],
        [
         "Toy-M204",
         "Toy",
         233
        ],
        [
         "Hon-M120",
         "Hon",
         234
        ],
        [
         "Sko-M271",
         "Sko",
         235
        ],
        [
         "Vol-M255",
         "Vol",
         236
        ],
        [
         "Toy-M199",
         "Toy",
         237
        ],
        [
         "Vol-M256",
         "Vol",
         238
        ],
        [
         "Sub-M92",
         "Sub",
         239
        ],
        [
         "Toy-M197",
         "Toy",
         240
        ],
        [
         "Mah-M172",
         "Mah",
         241
        ],
        [
         "Che-M48",
         "Che",
         242
        ],
        [
         "Nis-M87",
         "Nis",
         243
        ],
        [
         "Mar-M150",
         "Mar",
         244
        ],
        [
         "Acu-M63",
         "Acu",
         245
        ],
        [
         "BMW-M247",
         "BMW",
         246
        ],
        [
         "For-M226",
         "For",
         247
        ],
        [
         "Vol-M257",
         "Vol",
         248
        ],
        [
         "Vol-M259",
         "Vol",
         249
        ],
        [
         "Nis-M80",
         "Nis",
         250
        ],
        [
         "Kia-M212",
         "Kia",
         251
        ],
        [
         "Hon-M218",
         "Hon",
         252
        ],
        [
         "For-M24",
         "For",
         253
        ],
        [
         "Sko-M273",
         "Sko",
         254
        ],
        [
         "Lin-M29",
         "Lin",
         255
        ],
        [
         "Agr-M112",
         "Agr",
         256
        ],
        [
         "Tat-M189",
         "Tat",
         257
        ],
        [
         "Nis-M270",
         "Nis",
         258
        ],
        [
         "Riv-M90",
         "Riv",
         259
        ],
        [
         "Che-M44",
         "Che",
         260
        ],
        [
         "Aud-M238",
         "Aud",
         261
        ],
        [
         "Vol-M136",
         "Vol",
         262
        ],
        [
         "For-M21",
         "For",
         263
        ],
        [
         "For-M224",
         "For",
         264
        ],
        [
         "Che-M40",
         "Che",
         265
        ],
        [
         "Ren-M130",
         "Ren",
         266
        ],
        [
         "Hon-M219",
         "Hon",
         267
        ],
        [
         "Che-M46",
         "Che",
         268
        ],
        [
         "Mer-M6",
         "Mer",
         269
        ],
        [
         "Vol-M258",
         "Vol",
         270
        ],
        [
         "Jee-M13",
         "Jee",
         271
        ],
        [
         "Nis-M261",
         "Nis",
         272
        ],
        [
         "For-M20",
         "For",
         273
        ],
        [
         "Tat-M191",
         "Tat",
         274
        ],
        [
         "BMW-M245",
         "BMW",
         275
        ],
        [
         "Nis-M268",
         "Nis",
         276
        ],
        [
         "Cad-M33",
         "Cad",
         277
        ]
       ],
       "datasetInfos": [],
       "dbfsResultPath": null,
       "isJsonSchema": true,
       "metadata": {},
       "overflow": false,
       "plotOptions": {
        "customPlotOptions": {},
        "displayType": "table",
        "pivotAggregation": null,
        "pivotColumns": null,
        "xColumns": null,
        "yColumns": null
       },
       "removedWidgets": [],
       "schema": [
        {
         "metadata": "{}",
         "name": "Model_ID",
         "type": "\"string\""
        },
        {
         "metadata": "{}",
         "name": "model_category",
         "type": "\"string\""
        },
        {
         "metadata": "{}",
         "name": "dim_model_key",
         "type": "\"long\""
        }
       ],
       "type": "table"
      }
     },
     "output_type": "display_data"
    }
   ],
   "source": [
    "df_final = df_filter_old.union(df_filter_new)\n",
    "df_final.display()"
   ]
  },
  {
   "cell_type": "markdown",
   "metadata": {
    "application/vnd.databricks.v1+cell": {
     "cellMetadata": {
      "byteLimit": 2048000,
      "rowLimit": 10000
     },
     "inputWidgets": {},
     "nuid": "cb179f3f-4c71-4f25-aac7-e040ab831b8b",
     "showTitle": false,
     "tableResultSettingsMap": {},
     "title": ""
    }
   },
   "source": [
    "## SCD TYPE -1(UPSERT)"
   ]
  },
  {
   "cell_type": "code",
   "execution_count": 0,
   "metadata": {
    "application/vnd.databricks.v1+cell": {
     "cellMetadata": {
      "byteLimit": 2048000,
      "rowLimit": 10000
     },
     "inputWidgets": {},
     "nuid": "271b60e8-0e2c-4e60-bfef-df20aaea5d30",
     "showTitle": false,
     "tableResultSettingsMap": {},
     "title": ""
    }
   },
   "outputs": [],
   "source": [
    "from delta.tables import DeltaTable"
   ]
  },
  {
   "cell_type": "code",
   "execution_count": 0,
   "metadata": {
    "application/vnd.databricks.v1+cell": {
     "cellMetadata": {
      "byteLimit": 2048000,
      "rowLimit": 10000
     },
     "inputWidgets": {},
     "nuid": "83e3ab32-1506-4ffe-82ce-b48594a451e6",
     "showTitle": false,
     "tableResultSettingsMap": {},
     "title": ""
    }
   },
   "outputs": [],
   "source": [
    "#Incremental Run\n",
    "if spark.catalog.tableExists('cars_catalog.gold.dim_model'):\n",
    "    delta_tbl = DeltaTable.forPath(spark,\"abfss://gold@sumitdatalake.dfs.core.windows.net/dim_model\")\n",
    "\n",
    "    delta_tbl.alias(\"trg\").merge(df_final.alias(\"src\"), \"trg.dim_model_key = src.dim_model_key\")\\\n",
    "        .whenMatchedUpdateAll()\\\n",
    "        .whenNotMatchedInsertAll()\\\n",
    "        .execute()\n",
    "\n",
    "\n",
    "#Initial RUN\n",
    "else:\n",
    "    df_final.write.format('delta')\\\n",
    "    .mode('overwrite')\\\n",
    "    .option(\"path\",\"abfss://gold@sumitdatalake.dfs.core.windows.net/dim_model\")\\\n",
    "    .saveAsTable('cars_catalog.gold.dim_model')"
   ]
  },
  {
   "cell_type": "code",
   "execution_count": 0,
   "metadata": {
    "application/vnd.databricks.v1+cell": {
     "cellMetadata": {
      "byteLimit": 2048000,
      "implicitDf": true,
      "rowLimit": 10000
     },
     "inputWidgets": {},
     "nuid": "f1f8e631-bc69-44f5-a8f7-55e74f4253df",
     "showTitle": false,
     "tableResultSettingsMap": {},
     "title": ""
    }
   },
   "outputs": [
    {
     "output_type": "display_data",
     "data": {
      "text/html": [
       "<style scoped>\n",
       "  .table-result-container {\n",
       "    max-height: 300px;\n",
       "    overflow: auto;\n",
       "  }\n",
       "  table, th, td {\n",
       "    border: 1px solid black;\n",
       "    border-collapse: collapse;\n",
       "  }\n",
       "  th, td {\n",
       "    padding: 5px;\n",
       "  }\n",
       "  th {\n",
       "    text-align: left;\n",
       "  }\n",
       "</style><div class='table-result-container'><table class='table-result'><thead style='background-color: white'><tr><th>Model_ID</th><th>model_category</th><th>dim_model_key</th></tr></thead><tbody><tr><td>Mah-M167</td><td>Mah</td><td>1</td></tr><tr><td>Che-M47</td><td>Che</td><td>2</td></tr><tr><td>Toy-M205</td><td>Toy</td><td>3</td></tr><tr><td>BMW-M249</td><td>BMW</td><td>4</td></tr><tr><td>Mer-M122</td><td>Mer</td><td>5</td></tr><tr><td>Hon-M215</td><td>Hon</td><td>6</td></tr><tr><td>Nis-M82</td><td>Nis</td><td>7</td></tr><tr><td>Toy-M206</td><td>Toy</td><td>8</td></tr><tr><td>Mar-M139</td><td>Mar</td><td>9</td></tr><tr><td>Ren-M207</td><td>Ren</td><td>10</td></tr><tr><td>Mar-M146</td><td>Mar</td><td>11</td></tr><tr><td>Mar-M141</td><td>Mar</td><td>12</td></tr><tr><td>Lin-M28</td><td>Lin</td><td>13</td></tr><tr><td>Hon-M69</td><td>Hon</td><td>14</td></tr><tr><td>Toy-M202</td><td>Toy</td><td>15</td></tr><tr><td>Cad-M32</td><td>Cad</td><td>16</td></tr><tr><td>Tat-M185</td><td>Tat</td><td>17</td></tr><tr><td>Aud-M231</td><td>Aud</td><td>18</td></tr><tr><td>Tat-M192</td><td>Tat</td><td>19</td></tr><tr><td>Che-M41</td><td>Che</td><td>20</td></tr><tr><td>Ram-M14</td><td>Ram</td><td>21</td></tr><tr><td>Mar-M138</td><td>Mar</td><td>22</td></tr><tr><td>Aud-M236</td><td>Aud</td><td>23</td></tr><tr><td>Mar-M151</td><td>Mar</td><td>24</td></tr><tr><td>Acu-M59</td><td>Acu</td><td>25</td></tr><tr><td>Hon-M70</td><td>Hon</td><td>26</td></tr><tr><td>Mah-M174</td><td>Mah</td><td>27</td></tr><tr><td>Dod-M9</td><td>Dod</td><td>28</td></tr><tr><td>Tes-M96</td><td>Tes</td><td>29</td></tr><tr><td>Tat-M194</td><td>Tat</td><td>30</td></tr><tr><td>For-M23</td><td>For</td><td>31</td></tr><tr><td>BMW-M3</td><td>BMW</td><td>32</td></tr><tr><td>Vol-M108</td><td>Vol</td><td>33</td></tr><tr><td>Nis-M263</td><td>Nis</td><td>34</td></tr><tr><td>BMW-M250</td><td>BMW</td><td>35</td></tr><tr><td>Aud-M234</td><td>Aud</td><td>36</td></tr><tr><td>Toy-M103</td><td>Toy</td><td>37</td></tr><tr><td>For-M25</td><td>For</td><td>38</td></tr><tr><td>Ren-M129</td><td>Ren</td><td>39</td></tr><tr><td>Nis-M267</td><td>Nis</td><td>40</td></tr><tr><td>Hon-M68</td><td>Hon</td><td>41</td></tr><tr><td>Nis-M85</td><td>Nis</td><td>42</td></tr><tr><td>Hyu-M163</td><td>Hyu</td><td>43</td></tr><tr><td>Aud-M235</td><td>Aud</td><td>44</td></tr><tr><td>Lex-M99</td><td>Lex</td><td>45</td></tr><tr><td>Toy-M133</td><td>Toy</td><td>46</td></tr><tr><td>Kia-M76</td><td>Kia</td><td>47</td></tr><tr><td>Tat-M187</td><td>Tat</td><td>48</td></tr><tr><td>Jee-M10</td><td>Jee</td><td>49</td></tr><tr><td>Cit-M115</td><td>Cit</td><td>50</td></tr><tr><td>Sko-M274</td><td>Sko</td><td>51</td></tr><tr><td>Ren-M209</td><td>Ren</td><td>52</td></tr><tr><td>Hyu-M154</td><td>Hyu</td><td>53</td></tr><tr><td>Mer-M123</td><td>Mer</td><td>54</td></tr><tr><td>Mer-M7</td><td>Mer</td><td>55</td></tr><tr><td>Cad-M36</td><td>Cad</td><td>56</td></tr><tr><td>Ren-M208</td><td>Ren</td><td>57</td></tr><tr><td>For-M119</td><td>For</td><td>58</td></tr><tr><td>Hon-M67</td><td>Hon</td><td>59</td></tr><tr><td>Hyu-M162</td><td>Hyu</td><td>60</td></tr><tr><td>Toy-M203</td><td>Toy</td><td>61</td></tr><tr><td>Mar-M145</td><td>Mar</td><td>62</td></tr><tr><td>Che-M51</td><td>Che</td><td>63</td></tr><tr><td>Nis-M84</td><td>Nis</td><td>64</td></tr><tr><td>Mah-M177</td><td>Mah</td><td>65</td></tr><tr><td>Peu-M125</td><td>Peu</td><td>66</td></tr><tr><td>Toy-M198</td><td>Toy</td><td>67</td></tr><tr><td>Toy-M104</td><td>Toy</td><td>68</td></tr><tr><td>For-M16</td><td>For</td><td>69</td></tr><tr><td>BMW-M4</td><td>BMW</td><td>70</td></tr><tr><td>Nis-M88</td><td>Nis</td><td>71</td></tr><tr><td>Che-M114</td><td>Che</td><td>72</td></tr><tr><td>Aud-M233</td><td>Aud</td><td>73</td></tr><tr><td>Mar-M147</td><td>Mar</td><td>74</td></tr><tr><td>Nis-M269</td><td>Nis</td><td>75</td></tr><tr><td>Tes-M98</td><td>Tes</td><td>76</td></tr><tr><td>Acu-M60</td><td>Acu</td><td>77</td></tr><tr><td>Aud-M241</td><td>Aud</td><td>78</td></tr><tr><td>Mah-M175</td><td>Mah</td><td>79</td></tr><tr><td>Toy-M106</td><td>Toy</td><td>80</td></tr><tr><td>Hyu-M155</td><td>Hyu</td><td>81</td></tr><tr><td>Vol-M110</td><td>Vol</td><td>82</td></tr><tr><td>Mah-M171</td><td>Mah</td><td>83</td></tr><tr><td>Lin-M30</td><td>Lin</td><td>84</td></tr><tr><td>BMW-M242</td><td>BMW</td><td>85</td></tr><tr><td>For-M223</td><td>For</td><td>86</td></tr><tr><td>Ren-M127</td><td>Ren</td><td>87</td></tr><tr><td>Aud-M229</td><td>Aud</td><td>88</td></tr><tr><td>Mah-M168</td><td>Mah</td><td>89</td></tr><tr><td>For-M225</td><td>For</td><td>90</td></tr><tr><td>Aud-M232</td><td>Aud</td><td>91</td></tr><tr><td>Toy-M200</td><td>Toy</td><td>92</td></tr><tr><td>Kia-M77</td><td>Kia</td><td>93</td></tr><tr><td>BMW-M248</td><td>BMW</td><td>94</td></tr><tr><td>Hyu-M164</td><td>Hyu</td><td>95</td></tr><tr><td>Ren-M211</td><td>Ren</td><td>96</td></tr><tr><td>Mar-M149</td><td>Mar</td><td>97</td></tr><tr><td>GMC-M53</td><td>GMC</td><td>98</td></tr><tr><td>Mit-M275</td><td>Mit</td><td>99</td></tr><tr><td>Ren-M131</td><td>Ren</td><td>100</td></tr><tr><td>Tat-M186</td><td>Tat</td><td>101</td></tr><tr><td>Hon-M217</td><td>Hon</td><td>102</td></tr><tr><td>Mar-M152</td><td>Mar</td><td>103</td></tr><tr><td>Jee-M11</td><td>Jee</td><td>104</td></tr><tr><td>Vol-M135</td><td>Vol</td><td>105</td></tr><tr><td>Ren-M128</td><td>Ren</td><td>106</td></tr><tr><td>Cad-M38</td><td>Cad</td><td>107</td></tr><tr><td>Tat-M190</td><td>Tat</td><td>108</td></tr><tr><td>Hyu-M153</td><td>Hyu</td><td>109</td></tr><tr><td>Mer-M8</td><td>Mer</td><td>110</td></tr><tr><td>GMC-M55</td><td>GMC</td><td>111</td></tr><tr><td>Toy-M201</td><td>Toy</td><td>112</td></tr><tr><td>BMW-M244</td><td>BMW</td><td>113</td></tr><tr><td>Toy-M134</td><td>Toy</td><td>114</td></tr><tr><td>Agr-M111</td><td>Agr</td><td>115</td></tr><tr><td>Fia-M117</td><td>Fia</td><td>116</td></tr><tr><td>Mit-M276</td><td>Mit</td><td>117</td></tr><tr><td>Kia-M78</td><td>Kia</td><td>118</td></tr><tr><td>Aud-M230</td><td>Aud</td><td>119</td></tr><tr><td>Tat-M193</td><td>Tat</td><td>120</td></tr><tr><td>Ram-M15</td><td>Ram</td><td>121</td></tr><tr><td>For-M22</td><td>For</td><td>122</td></tr><tr><td>Acu-M62</td><td>Acu</td><td>123</td></tr><tr><td>Mah-M165</td><td>Mah</td><td>124</td></tr><tr><td>Fia-M118</td><td>Fia</td><td>125</td></tr><tr><td>Toy-M195</td><td>Toy</td><td>126</td></tr><tr><td>Che-M49</td><td>Che</td><td>127</td></tr><tr><td>Bui-M31</td><td>Bui</td><td>128</td></tr><tr><td>For-M26</td><td>For</td><td>129</td></tr><tr><td>Peu-M124</td><td>Peu</td><td>130</td></tr><tr><td>Nis-M83</td><td>Nis</td><td>131</td></tr><tr><td>Nis-M266</td><td>Nis</td><td>132</td></tr><tr><td>Mar-M142</td><td>Mar</td><td>133</td></tr><tr><td>For-M18</td><td>For</td><td>134</td></tr><tr><td>Jee-M253</td><td>Jee</td><td>135</td></tr><tr><td>Tat-M181</td><td>Tat</td><td>136</td></tr><tr><td>Hyu-M157</td><td>Hyu</td><td>137</td></tr><tr><td>Cad-M39</td><td>Cad</td><td>138</td></tr><tr><td>For-M221</td><td>For</td><td>139</td></tr><tr><td>Aud-M240</td><td>Aud</td><td>140</td></tr><tr><td>Ren-M210</td><td>Ren</td><td>141</td></tr><tr><td>Acu-M61</td><td>Acu</td><td>142</td></tr><tr><td>Toy-M102</td><td>Toy</td><td>143</td></tr><tr><td>Nis-M262</td><td>Nis</td><td>144</td></tr><tr><td>Hon-M216</td><td>Hon</td><td>145</td></tr><tr><td>MG-M252</td><td>MG</td><td>146</td></tr><tr><td>Mah-M178</td><td>Mah</td><td>147</td></tr><tr><td>Sub-M93</td><td>Sub</td><td>148</td></tr><tr><td>Kia-M213</td><td>Kia</td><td>149</td></tr><tr><td>Hyu-M75</td><td>Hyu</td><td>150</td></tr><tr><td>Mah-M170</td><td>Mah</td><td>151</td></tr><tr><td>Aud-M239</td><td>Aud</td><td>152</td></tr><tr><td>Tat-M180</td><td>Tat</td><td>153</td></tr><tr><td>Hyu-M74</td><td>Hyu</td><td>154</td></tr><tr><td>BMW-M1</td><td>BMW</td><td>155</td></tr><tr><td>Cad-M35</td><td>Cad</td><td>156</td></tr><tr><td>BMW-M246</td><td>BMW</td><td>157</td></tr><tr><td>Ren-M132</td><td>Ren</td><td>158</td></tr><tr><td>GMC-M58</td><td>GMC</td><td>159</td></tr><tr><td>Mar-M148</td><td>Mar</td><td>160</td></tr><tr><td>Hyu-M161</td><td>Hyu</td><td>161</td></tr><tr><td>Toy-M105</td><td>Toy</td><td>162</td></tr><tr><td>Aud-M228</td><td>Aud</td><td>163</td></tr><tr><td>Aud-M237</td><td>Aud</td><td>164</td></tr><tr><td>Nis-M89</td><td>Nis</td><td>165</td></tr><tr><td>Hyu-M72</td><td>Hyu</td><td>166</td></tr><tr><td>BMW-M243</td><td>BMW</td><td>167</td></tr><tr><td>Mar-M140</td><td>Mar</td><td>168</td></tr><tr><td>Toy-M196</td><td>Toy</td><td>169</td></tr><tr><td>Che-M42</td><td>Che</td><td>170</td></tr><tr><td>Tes-M97</td><td>Tes</td><td>171</td></tr><tr><td>Vol-M260</td><td>Vol</td><td>172</td></tr><tr><td>Mah-M176</td><td>Mah</td><td>173</td></tr><tr><td>Nis-M86</td><td>Nis</td><td>174</td></tr><tr><td>Hon-M64</td><td>Hon</td><td>175</td></tr><tr><td>MG-M251</td><td>MG</td><td>176</td></tr><tr><td>Mer-M121</td><td>Mer</td><td>177</td></tr><tr><td>Nis-M81</td><td>Nis</td><td>178</td></tr><tr><td>GMC-M54</td><td>GMC</td><td>179</td></tr><tr><td>Hon-M220</td><td>Hon</td><td>180</td></tr><tr><td>Che-M50</td><td>Che</td><td>181</td></tr><tr><td>Cad-M37</td><td>Cad</td><td>182</td></tr><tr><td>Hyu-M158</td><td>Hyu</td><td>183</td></tr><tr><td>Inf-M79</td><td>Inf</td><td>184</td></tr><tr><td>BMW-M2</td><td>BMW</td><td>185</td></tr><tr><td>GMC-M57</td><td>GMC</td><td>186</td></tr><tr><td>GMC-M52</td><td>GMC</td><td>187</td></tr><tr><td>Cit-M116</td><td>Cit</td><td>188</td></tr><tr><td>Mar-M144</td><td>Mar</td><td>189</td></tr><tr><td>For-M17</td><td>For</td><td>190</td></tr><tr><td>Tat-M184</td><td>Tat</td><td>191</td></tr><tr><td>Hyu-M159</td><td>Hyu</td><td>192</td></tr><tr><td>Tat-M183</td><td>Tat</td><td>193</td></tr><tr><td>Nis-M264</td><td>Nis</td><td>194</td></tr><tr><td>BMW-M5</td><td>BMW</td><td>195</td></tr><tr><td>Che-M43</td><td>Che</td><td>196</td></tr><tr><td>Mah-M169</td><td>Mah</td><td>197</td></tr><tr><td>Tat-M182</td><td>Tat</td><td>198</td></tr><tr><td>Tat-M188</td><td>Tat</td><td>199</td></tr><tr><td>Aud-M227</td><td>Aud</td><td>200</td></tr><tr><td>Mah-M166</td><td>Mah</td><td>201</td></tr><tr><td>Riv-M91</td><td>Riv</td><td>202</td></tr><tr><td>Hon-M71</td><td>Hon</td><td>203</td></tr><tr><td>Hyu-M73</td><td>Hyu</td><td>204</td></tr><tr><td>Hyu-M156</td><td>Hyu</td><td>205</td></tr><tr><td>Lin-M27</td><td>Lin</td><td>206</td></tr><tr><td>Cad-M34</td><td>Cad</td><td>207</td></tr><tr><td>Mar-M137</td><td>Mar</td><td>208</td></tr><tr><td>Mah-M173</td><td>Mah</td><td>209</td></tr><tr><td>Tat-M179</td><td>Tat</td><td>210</td></tr><tr><td>Sub-M94</td><td>Sub</td><td>211</td></tr><tr><td>Jee-M254</td><td>Jee</td><td>212</td></tr><tr><td>GMC-M56</td><td>GMC</td><td>213</td></tr><tr><td>Hyu-M160</td><td>Hyu</td><td>214</td></tr><tr><td>Vol-M109</td><td>Vol</td><td>215</td></tr><tr><td>Peu-M126</td><td>Peu</td><td>216</td></tr><tr><td>For-M222</td><td>For</td><td>217</td></tr><tr><td>Toy-M101</td><td>Toy</td><td>218</td></tr><tr><td>Kia-M214</td><td>Kia</td><td>219</td></tr><tr><td>Sub-M95</td><td>Sub</td><td>220</td></tr><tr><td>Mar-M143</td><td>Mar</td><td>221</td></tr><tr><td>Nis-M265</td><td>Nis</td><td>222</td></tr><tr><td>Hon-M65</td><td>Hon</td><td>223</td></tr><tr><td>Sko-M272</td><td>Sko</td><td>224</td></tr><tr><td>Che-M45</td><td>Che</td><td>225</td></tr><tr><td>Toy-M107</td><td>Toy</td><td>226</td></tr><tr><td>Jee-M12</td><td>Jee</td><td>227</td></tr><tr><td>Mit-M277</td><td>Mit</td><td>228</td></tr><tr><td>Hon-M66</td><td>Hon</td><td>229</td></tr><tr><td>Toy-M100</td><td>Toy</td><td>230</td></tr><tr><td>For-M19</td><td>For</td><td>231</td></tr><tr><td>Agr-M113</td><td>Agr</td><td>232</td></tr><tr><td>Toy-M204</td><td>Toy</td><td>233</td></tr><tr><td>Hon-M120</td><td>Hon</td><td>234</td></tr><tr><td>Sko-M271</td><td>Sko</td><td>235</td></tr><tr><td>Vol-M255</td><td>Vol</td><td>236</td></tr><tr><td>Toy-M199</td><td>Toy</td><td>237</td></tr><tr><td>Vol-M256</td><td>Vol</td><td>238</td></tr><tr><td>Sub-M92</td><td>Sub</td><td>239</td></tr><tr><td>Toy-M197</td><td>Toy</td><td>240</td></tr><tr><td>Mah-M172</td><td>Mah</td><td>241</td></tr><tr><td>Che-M48</td><td>Che</td><td>242</td></tr><tr><td>Nis-M87</td><td>Nis</td><td>243</td></tr><tr><td>Mar-M150</td><td>Mar</td><td>244</td></tr><tr><td>Acu-M63</td><td>Acu</td><td>245</td></tr><tr><td>BMW-M247</td><td>BMW</td><td>246</td></tr><tr><td>For-M226</td><td>For</td><td>247</td></tr><tr><td>Vol-M257</td><td>Vol</td><td>248</td></tr><tr><td>Vol-M259</td><td>Vol</td><td>249</td></tr><tr><td>Nis-M80</td><td>Nis</td><td>250</td></tr><tr><td>Kia-M212</td><td>Kia</td><td>251</td></tr><tr><td>Hon-M218</td><td>Hon</td><td>252</td></tr><tr><td>For-M24</td><td>For</td><td>253</td></tr><tr><td>Sko-M273</td><td>Sko</td><td>254</td></tr><tr><td>Lin-M29</td><td>Lin</td><td>255</td></tr><tr><td>Agr-M112</td><td>Agr</td><td>256</td></tr><tr><td>Tat-M189</td><td>Tat</td><td>257</td></tr><tr><td>Nis-M270</td><td>Nis</td><td>258</td></tr><tr><td>Riv-M90</td><td>Riv</td><td>259</td></tr><tr><td>Che-M44</td><td>Che</td><td>260</td></tr><tr><td>Aud-M238</td><td>Aud</td><td>261</td></tr><tr><td>Vol-M136</td><td>Vol</td><td>262</td></tr><tr><td>For-M21</td><td>For</td><td>263</td></tr><tr><td>For-M224</td><td>For</td><td>264</td></tr><tr><td>Che-M40</td><td>Che</td><td>265</td></tr><tr><td>Ren-M130</td><td>Ren</td><td>266</td></tr><tr><td>Hon-M219</td><td>Hon</td><td>267</td></tr><tr><td>Che-M46</td><td>Che</td><td>268</td></tr><tr><td>Mer-M6</td><td>Mer</td><td>269</td></tr><tr><td>Vol-M258</td><td>Vol</td><td>270</td></tr><tr><td>Jee-M13</td><td>Jee</td><td>271</td></tr><tr><td>Nis-M261</td><td>Nis</td><td>272</td></tr><tr><td>For-M20</td><td>For</td><td>273</td></tr><tr><td>Tat-M191</td><td>Tat</td><td>274</td></tr><tr><td>BMW-M245</td><td>BMW</td><td>275</td></tr><tr><td>Nis-M268</td><td>Nis</td><td>276</td></tr><tr><td>Cad-M33</td><td>Cad</td><td>277</td></tr></tbody></table></div>"
      ]
     },
     "metadata": {
      "application/vnd.databricks.v1+output": {
       "addedWidgets": {},
       "aggData": [],
       "aggError": "",
       "aggOverflow": false,
       "aggSchema": [],
       "aggSeriesLimitReached": false,
       "aggType": "",
       "arguments": {},
       "columnCustomDisplayInfos": {},
       "data": [
        [
         "Mah-M167",
         "Mah",
         1
        ],
        [
         "Che-M47",
         "Che",
         2
        ],
        [
         "Toy-M205",
         "Toy",
         3
        ],
        [
         "BMW-M249",
         "BMW",
         4
        ],
        [
         "Mer-M122",
         "Mer",
         5
        ],
        [
         "Hon-M215",
         "Hon",
         6
        ],
        [
         "Nis-M82",
         "Nis",
         7
        ],
        [
         "Toy-M206",
         "Toy",
         8
        ],
        [
         "Mar-M139",
         "Mar",
         9
        ],
        [
         "Ren-M207",
         "Ren",
         10
        ],
        [
         "Mar-M146",
         "Mar",
         11
        ],
        [
         "Mar-M141",
         "Mar",
         12
        ],
        [
         "Lin-M28",
         "Lin",
         13
        ],
        [
         "Hon-M69",
         "Hon",
         14
        ],
        [
         "Toy-M202",
         "Toy",
         15
        ],
        [
         "Cad-M32",
         "Cad",
         16
        ],
        [
         "Tat-M185",
         "Tat",
         17
        ],
        [
         "Aud-M231",
         "Aud",
         18
        ],
        [
         "Tat-M192",
         "Tat",
         19
        ],
        [
         "Che-M41",
         "Che",
         20
        ],
        [
         "Ram-M14",
         "Ram",
         21
        ],
        [
         "Mar-M138",
         "Mar",
         22
        ],
        [
         "Aud-M236",
         "Aud",
         23
        ],
        [
         "Mar-M151",
         "Mar",
         24
        ],
        [
         "Acu-M59",
         "Acu",
         25
        ],
        [
         "Hon-M70",
         "Hon",
         26
        ],
        [
         "Mah-M174",
         "Mah",
         27
        ],
        [
         "Dod-M9",
         "Dod",
         28
        ],
        [
         "Tes-M96",
         "Tes",
         29
        ],
        [
         "Tat-M194",
         "Tat",
         30
        ],
        [
         "For-M23",
         "For",
         31
        ],
        [
         "BMW-M3",
         "BMW",
         32
        ],
        [
         "Vol-M108",
         "Vol",
         33
        ],
        [
         "Nis-M263",
         "Nis",
         34
        ],
        [
         "BMW-M250",
         "BMW",
         35
        ],
        [
         "Aud-M234",
         "Aud",
         36
        ],
        [
         "Toy-M103",
         "Toy",
         37
        ],
        [
         "For-M25",
         "For",
         38
        ],
        [
         "Ren-M129",
         "Ren",
         39
        ],
        [
         "Nis-M267",
         "Nis",
         40
        ],
        [
         "Hon-M68",
         "Hon",
         41
        ],
        [
         "Nis-M85",
         "Nis",
         42
        ],
        [
         "Hyu-M163",
         "Hyu",
         43
        ],
        [
         "Aud-M235",
         "Aud",
         44
        ],
        [
         "Lex-M99",
         "Lex",
         45
        ],
        [
         "Toy-M133",
         "Toy",
         46
        ],
        [
         "Kia-M76",
         "Kia",
         47
        ],
        [
         "Tat-M187",
         "Tat",
         48
        ],
        [
         "Jee-M10",
         "Jee",
         49
        ],
        [
         "Cit-M115",
         "Cit",
         50
        ],
        [
         "Sko-M274",
         "Sko",
         51
        ],
        [
         "Ren-M209",
         "Ren",
         52
        ],
        [
         "Hyu-M154",
         "Hyu",
         53
        ],
        [
         "Mer-M123",
         "Mer",
         54
        ],
        [
         "Mer-M7",
         "Mer",
         55
        ],
        [
         "Cad-M36",
         "Cad",
         56
        ],
        [
         "Ren-M208",
         "Ren",
         57
        ],
        [
         "For-M119",
         "For",
         58
        ],
        [
         "Hon-M67",
         "Hon",
         59
        ],
        [
         "Hyu-M162",
         "Hyu",
         60
        ],
        [
         "Toy-M203",
         "Toy",
         61
        ],
        [
         "Mar-M145",
         "Mar",
         62
        ],
        [
         "Che-M51",
         "Che",
         63
        ],
        [
         "Nis-M84",
         "Nis",
         64
        ],
        [
         "Mah-M177",
         "Mah",
         65
        ],
        [
         "Peu-M125",
         "Peu",
         66
        ],
        [
         "Toy-M198",
         "Toy",
         67
        ],
        [
         "Toy-M104",
         "Toy",
         68
        ],
        [
         "For-M16",
         "For",
         69
        ],
        [
         "BMW-M4",
         "BMW",
         70
        ],
        [
         "Nis-M88",
         "Nis",
         71
        ],
        [
         "Che-M114",
         "Che",
         72
        ],
        [
         "Aud-M233",
         "Aud",
         73
        ],
        [
         "Mar-M147",
         "Mar",
         74
        ],
        [
         "Nis-M269",
         "Nis",
         75
        ],
        [
         "Tes-M98",
         "Tes",
         76
        ],
        [
         "Acu-M60",
         "Acu",
         77
        ],
        [
         "Aud-M241",
         "Aud",
         78
        ],
        [
         "Mah-M175",
         "Mah",
         79
        ],
        [
         "Toy-M106",
         "Toy",
         80
        ],
        [
         "Hyu-M155",
         "Hyu",
         81
        ],
        [
         "Vol-M110",
         "Vol",
         82
        ],
        [
         "Mah-M171",
         "Mah",
         83
        ],
        [
         "Lin-M30",
         "Lin",
         84
        ],
        [
         "BMW-M242",
         "BMW",
         85
        ],
        [
         "For-M223",
         "For",
         86
        ],
        [
         "Ren-M127",
         "Ren",
         87
        ],
        [
         "Aud-M229",
         "Aud",
         88
        ],
        [
         "Mah-M168",
         "Mah",
         89
        ],
        [
         "For-M225",
         "For",
         90
        ],
        [
         "Aud-M232",
         "Aud",
         91
        ],
        [
         "Toy-M200",
         "Toy",
         92
        ],
        [
         "Kia-M77",
         "Kia",
         93
        ],
        [
         "BMW-M248",
         "BMW",
         94
        ],
        [
         "Hyu-M164",
         "Hyu",
         95
        ],
        [
         "Ren-M211",
         "Ren",
         96
        ],
        [
         "Mar-M149",
         "Mar",
         97
        ],
        [
         "GMC-M53",
         "GMC",
         98
        ],
        [
         "Mit-M275",
         "Mit",
         99
        ],
        [
         "Ren-M131",
         "Ren",
         100
        ],
        [
         "Tat-M186",
         "Tat",
         101
        ],
        [
         "Hon-M217",
         "Hon",
         102
        ],
        [
         "Mar-M152",
         "Mar",
         103
        ],
        [
         "Jee-M11",
         "Jee",
         104
        ],
        [
         "Vol-M135",
         "Vol",
         105
        ],
        [
         "Ren-M128",
         "Ren",
         106
        ],
        [
         "Cad-M38",
         "Cad",
         107
        ],
        [
         "Tat-M190",
         "Tat",
         108
        ],
        [
         "Hyu-M153",
         "Hyu",
         109
        ],
        [
         "Mer-M8",
         "Mer",
         110
        ],
        [
         "GMC-M55",
         "GMC",
         111
        ],
        [
         "Toy-M201",
         "Toy",
         112
        ],
        [
         "BMW-M244",
         "BMW",
         113
        ],
        [
         "Toy-M134",
         "Toy",
         114
        ],
        [
         "Agr-M111",
         "Agr",
         115
        ],
        [
         "Fia-M117",
         "Fia",
         116
        ],
        [
         "Mit-M276",
         "Mit",
         117
        ],
        [
         "Kia-M78",
         "Kia",
         118
        ],
        [
         "Aud-M230",
         "Aud",
         119
        ],
        [
         "Tat-M193",
         "Tat",
         120
        ],
        [
         "Ram-M15",
         "Ram",
         121
        ],
        [
         "For-M22",
         "For",
         122
        ],
        [
         "Acu-M62",
         "Acu",
         123
        ],
        [
         "Mah-M165",
         "Mah",
         124
        ],
        [
         "Fia-M118",
         "Fia",
         125
        ],
        [
         "Toy-M195",
         "Toy",
         126
        ],
        [
         "Che-M49",
         "Che",
         127
        ],
        [
         "Bui-M31",
         "Bui",
         128
        ],
        [
         "For-M26",
         "For",
         129
        ],
        [
         "Peu-M124",
         "Peu",
         130
        ],
        [
         "Nis-M83",
         "Nis",
         131
        ],
        [
         "Nis-M266",
         "Nis",
         132
        ],
        [
         "Mar-M142",
         "Mar",
         133
        ],
        [
         "For-M18",
         "For",
         134
        ],
        [
         "Jee-M253",
         "Jee",
         135
        ],
        [
         "Tat-M181",
         "Tat",
         136
        ],
        [
         "Hyu-M157",
         "Hyu",
         137
        ],
        [
         "Cad-M39",
         "Cad",
         138
        ],
        [
         "For-M221",
         "For",
         139
        ],
        [
         "Aud-M240",
         "Aud",
         140
        ],
        [
         "Ren-M210",
         "Ren",
         141
        ],
        [
         "Acu-M61",
         "Acu",
         142
        ],
        [
         "Toy-M102",
         "Toy",
         143
        ],
        [
         "Nis-M262",
         "Nis",
         144
        ],
        [
         "Hon-M216",
         "Hon",
         145
        ],
        [
         "MG-M252",
         "MG",
         146
        ],
        [
         "Mah-M178",
         "Mah",
         147
        ],
        [
         "Sub-M93",
         "Sub",
         148
        ],
        [
         "Kia-M213",
         "Kia",
         149
        ],
        [
         "Hyu-M75",
         "Hyu",
         150
        ],
        [
         "Mah-M170",
         "Mah",
         151
        ],
        [
         "Aud-M239",
         "Aud",
         152
        ],
        [
         "Tat-M180",
         "Tat",
         153
        ],
        [
         "Hyu-M74",
         "Hyu",
         154
        ],
        [
         "BMW-M1",
         "BMW",
         155
        ],
        [
         "Cad-M35",
         "Cad",
         156
        ],
        [
         "BMW-M246",
         "BMW",
         157
        ],
        [
         "Ren-M132",
         "Ren",
         158
        ],
        [
         "GMC-M58",
         "GMC",
         159
        ],
        [
         "Mar-M148",
         "Mar",
         160
        ],
        [
         "Hyu-M161",
         "Hyu",
         161
        ],
        [
         "Toy-M105",
         "Toy",
         162
        ],
        [
         "Aud-M228",
         "Aud",
         163
        ],
        [
         "Aud-M237",
         "Aud",
         164
        ],
        [
         "Nis-M89",
         "Nis",
         165
        ],
        [
         "Hyu-M72",
         "Hyu",
         166
        ],
        [
         "BMW-M243",
         "BMW",
         167
        ],
        [
         "Mar-M140",
         "Mar",
         168
        ],
        [
         "Toy-M196",
         "Toy",
         169
        ],
        [
         "Che-M42",
         "Che",
         170
        ],
        [
         "Tes-M97",
         "Tes",
         171
        ],
        [
         "Vol-M260",
         "Vol",
         172
        ],
        [
         "Mah-M176",
         "Mah",
         173
        ],
        [
         "Nis-M86",
         "Nis",
         174
        ],
        [
         "Hon-M64",
         "Hon",
         175
        ],
        [
         "MG-M251",
         "MG",
         176
        ],
        [
         "Mer-M121",
         "Mer",
         177
        ],
        [
         "Nis-M81",
         "Nis",
         178
        ],
        [
         "GMC-M54",
         "GMC",
         179
        ],
        [
         "Hon-M220",
         "Hon",
         180
        ],
        [
         "Che-M50",
         "Che",
         181
        ],
        [
         "Cad-M37",
         "Cad",
         182
        ],
        [
         "Hyu-M158",
         "Hyu",
         183
        ],
        [
         "Inf-M79",
         "Inf",
         184
        ],
        [
         "BMW-M2",
         "BMW",
         185
        ],
        [
         "GMC-M57",
         "GMC",
         186
        ],
        [
         "GMC-M52",
         "GMC",
         187
        ],
        [
         "Cit-M116",
         "Cit",
         188
        ],
        [
         "Mar-M144",
         "Mar",
         189
        ],
        [
         "For-M17",
         "For",
         190
        ],
        [
         "Tat-M184",
         "Tat",
         191
        ],
        [
         "Hyu-M159",
         "Hyu",
         192
        ],
        [
         "Tat-M183",
         "Tat",
         193
        ],
        [
         "Nis-M264",
         "Nis",
         194
        ],
        [
         "BMW-M5",
         "BMW",
         195
        ],
        [
         "Che-M43",
         "Che",
         196
        ],
        [
         "Mah-M169",
         "Mah",
         197
        ],
        [
         "Tat-M182",
         "Tat",
         198
        ],
        [
         "Tat-M188",
         "Tat",
         199
        ],
        [
         "Aud-M227",
         "Aud",
         200
        ],
        [
         "Mah-M166",
         "Mah",
         201
        ],
        [
         "Riv-M91",
         "Riv",
         202
        ],
        [
         "Hon-M71",
         "Hon",
         203
        ],
        [
         "Hyu-M73",
         "Hyu",
         204
        ],
        [
         "Hyu-M156",
         "Hyu",
         205
        ],
        [
         "Lin-M27",
         "Lin",
         206
        ],
        [
         "Cad-M34",
         "Cad",
         207
        ],
        [
         "Mar-M137",
         "Mar",
         208
        ],
        [
         "Mah-M173",
         "Mah",
         209
        ],
        [
         "Tat-M179",
         "Tat",
         210
        ],
        [
         "Sub-M94",
         "Sub",
         211
        ],
        [
         "Jee-M254",
         "Jee",
         212
        ],
        [
         "GMC-M56",
         "GMC",
         213
        ],
        [
         "Hyu-M160",
         "Hyu",
         214
        ],
        [
         "Vol-M109",
         "Vol",
         215
        ],
        [
         "Peu-M126",
         "Peu",
         216
        ],
        [
         "For-M222",
         "For",
         217
        ],
        [
         "Toy-M101",
         "Toy",
         218
        ],
        [
         "Kia-M214",
         "Kia",
         219
        ],
        [
         "Sub-M95",
         "Sub",
         220
        ],
        [
         "Mar-M143",
         "Mar",
         221
        ],
        [
         "Nis-M265",
         "Nis",
         222
        ],
        [
         "Hon-M65",
         "Hon",
         223
        ],
        [
         "Sko-M272",
         "Sko",
         224
        ],
        [
         "Che-M45",
         "Che",
         225
        ],
        [
         "Toy-M107",
         "Toy",
         226
        ],
        [
         "Jee-M12",
         "Jee",
         227
        ],
        [
         "Mit-M277",
         "Mit",
         228
        ],
        [
         "Hon-M66",
         "Hon",
         229
        ],
        [
         "Toy-M100",
         "Toy",
         230
        ],
        [
         "For-M19",
         "For",
         231
        ],
        [
         "Agr-M113",
         "Agr",
         232
        ],
        [
         "Toy-M204",
         "Toy",
         233
        ],
        [
         "Hon-M120",
         "Hon",
         234
        ],
        [
         "Sko-M271",
         "Sko",
         235
        ],
        [
         "Vol-M255",
         "Vol",
         236
        ],
        [
         "Toy-M199",
         "Toy",
         237
        ],
        [
         "Vol-M256",
         "Vol",
         238
        ],
        [
         "Sub-M92",
         "Sub",
         239
        ],
        [
         "Toy-M197",
         "Toy",
         240
        ],
        [
         "Mah-M172",
         "Mah",
         241
        ],
        [
         "Che-M48",
         "Che",
         242
        ],
        [
         "Nis-M87",
         "Nis",
         243
        ],
        [
         "Mar-M150",
         "Mar",
         244
        ],
        [
         "Acu-M63",
         "Acu",
         245
        ],
        [
         "BMW-M247",
         "BMW",
         246
        ],
        [
         "For-M226",
         "For",
         247
        ],
        [
         "Vol-M257",
         "Vol",
         248
        ],
        [
         "Vol-M259",
         "Vol",
         249
        ],
        [
         "Nis-M80",
         "Nis",
         250
        ],
        [
         "Kia-M212",
         "Kia",
         251
        ],
        [
         "Hon-M218",
         "Hon",
         252
        ],
        [
         "For-M24",
         "For",
         253
        ],
        [
         "Sko-M273",
         "Sko",
         254
        ],
        [
         "Lin-M29",
         "Lin",
         255
        ],
        [
         "Agr-M112",
         "Agr",
         256
        ],
        [
         "Tat-M189",
         "Tat",
         257
        ],
        [
         "Nis-M270",
         "Nis",
         258
        ],
        [
         "Riv-M90",
         "Riv",
         259
        ],
        [
         "Che-M44",
         "Che",
         260
        ],
        [
         "Aud-M238",
         "Aud",
         261
        ],
        [
         "Vol-M136",
         "Vol",
         262
        ],
        [
         "For-M21",
         "For",
         263
        ],
        [
         "For-M224",
         "For",
         264
        ],
        [
         "Che-M40",
         "Che",
         265
        ],
        [
         "Ren-M130",
         "Ren",
         266
        ],
        [
         "Hon-M219",
         "Hon",
         267
        ],
        [
         "Che-M46",
         "Che",
         268
        ],
        [
         "Mer-M6",
         "Mer",
         269
        ],
        [
         "Vol-M258",
         "Vol",
         270
        ],
        [
         "Jee-M13",
         "Jee",
         271
        ],
        [
         "Nis-M261",
         "Nis",
         272
        ],
        [
         "For-M20",
         "For",
         273
        ],
        [
         "Tat-M191",
         "Tat",
         274
        ],
        [
         "BMW-M245",
         "BMW",
         275
        ],
        [
         "Nis-M268",
         "Nis",
         276
        ],
        [
         "Cad-M33",
         "Cad",
         277
        ]
       ],
       "datasetInfos": [
        {
         "name": "_sqldf",
         "schema": {
          "fields": [
           {
            "metadata": {},
            "name": "Model_ID",
            "nullable": true,
            "type": "string"
           },
           {
            "metadata": {},
            "name": "model_category",
            "nullable": true,
            "type": "string"
           },
           {
            "metadata": {},
            "name": "dim_model_key",
            "nullable": true,
            "type": "long"
           }
          ],
          "type": "struct"
         },
         "tableIdentifier": null,
         "typeStr": "pyspark.sql.dataframe.DataFrame"
        }
       ],
       "dbfsResultPath": null,
       "isJsonSchema": true,
       "metadata": {
        "createTempViewForImplicitDf": true,
        "dataframeName": "_sqldf",
        "executionCount": 53
       },
       "overflow": false,
       "plotOptions": {
        "customPlotOptions": {},
        "displayType": "table",
        "pivotAggregation": null,
        "pivotColumns": null,
        "xColumns": null,
        "yColumns": null
       },
       "removedWidgets": [],
       "schema": [
        {
         "metadata": "{}",
         "name": "Model_ID",
         "type": "\"string\""
        },
        {
         "metadata": "{}",
         "name": "model_category",
         "type": "\"string\""
        },
        {
         "metadata": "{}",
         "name": "dim_model_key",
         "type": "\"long\""
        }
       ],
       "type": "table"
      }
     },
     "output_type": "display_data"
    }
   ],
   "source": [
    "%sql\n",
    "select * from cars_catalog.gold.dim_model"
   ]
  },
  {
   "cell_type": "code",
   "execution_count": 0,
   "metadata": {
    "application/vnd.databricks.v1+cell": {
     "cellMetadata": {
      "byteLimit": 2048000,
      "rowLimit": 10000
     },
     "inputWidgets": {},
     "nuid": "2c233ea5-868f-4a1d-b3b9-747e650371a5",
     "showTitle": false,
     "tableResultSettingsMap": {},
     "title": ""
    }
   },
   "outputs": [],
   "source": []
  }
 ],
 "metadata": {
  "application/vnd.databricks.v1+notebook": {
   "computePreferences": null,
   "dashboards": [],
   "environmentMetadata": {
    "base_environment": "",
    "environment_version": "2"
   },
   "inputWidgetPreferences": null,
   "language": "python",
   "notebookMetadata": {
    "mostRecentlyExecutedCommandWithImplicitDF": {
     "commandId": 5899976493302848,
     "dataframes": [
      "_sqldf"
     ]
    },
    "pythonIndentUnit": 4
   },
   "notebookName": "gold_dim_model",
   "widgets": {
    "incremental_flag": {
     "currentValue": "0",
     "nuid": "5ef8bb4e-59a8-4874-a2c3-cebfd537f6f8",
     "typedWidgetInfo": {
      "autoCreated": false,
      "defaultValue": "0",
      "label": null,
      "name": "incremental_flag",
      "options": {
       "widgetDisplayType": "Text",
       "validationRegex": null
      },
      "parameterDataType": "String"
     },
     "widgetInfo": {
      "widgetType": "text",
      "defaultValue": "0",
      "label": null,
      "name": "incremental_flag",
      "options": {
       "widgetType": "text",
       "autoCreated": null,
       "validationRegex": null
      }
     }
    }
   }
  },
  "language_info": {
   "name": "python"
  }
 },
 "nbformat": 4,
 "nbformat_minor": 0
}